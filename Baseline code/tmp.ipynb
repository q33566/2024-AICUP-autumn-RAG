{
 "cells": [
  {
   "cell_type": "code",
   "execution_count": 1,
   "metadata": {},
   "outputs": [
    {
     "name": "stderr",
     "output_type": "stream",
     "text": [
      "/HDD/anaconda3/envs/AIS/lib/python3.10/site-packages/sentence_transformers/cross_encoder/CrossEncoder.py:13: TqdmExperimentalWarning: Using `tqdm.autonotebook.tqdm` in notebook mode. Use `tqdm.tqdm` instead to force console mode (e.g. in jupyter console)\n",
      "  from tqdm.autonotebook import tqdm, trange\n"
     ]
    }
   ],
   "source": [
    "import pandas as pd\n",
    "from utils.Evaluation import *\n",
    "from utils.Loader import *\n",
    "from utils.Retriever import *\n",
    "%load_ext autoreload\n",
    "%autoreload 2"
   ]
  },
  {
   "cell_type": "code",
   "execution_count": null,
   "metadata": {},
   "outputs": [
    {
     "name": "stderr",
     "output_type": "stream",
     "text": [
      "The model weights are not tied. Please use the `tie_weights` method before using the `infer_auto_device` function.\n"
     ]
    },
    {
     "data": {
      "application/vnd.jupyter.widget-view+json": {
       "model_id": "e43c9633b66b43a3b7f53b2b341b944b",
       "version_major": 2,
       "version_minor": 0
      },
      "text/plain": [
       "Loading checkpoint shards:   0%|          | 0/5 [00:00<?, ?it/s]"
      ]
     },
     "metadata": {},
     "output_type": "display_data"
    }
   ],
   "source": [
    "import torch\n",
    "from transformers import MllamaForConditionalGeneration, AutoProcessor\n",
    "\n",
    "model_id = \"meta-llama/Llama-3.2-11B-Vision-Instruct\"\n",
    "\n",
    "model = MllamaForConditionalGeneration.from_pretrained(\n",
    "    model_id,\n",
    "    torch_dtype=torch.bfloat16,\n",
    "    device_map=\"auto\",\n",
    "    cache_dir = '/HDD/model_cache/'\n",
    ")\n",
    "\n",
    "processor = AutoProcessor.from_pretrained(model_id)\n",
    "model.tie_weights()\n"
   ]
  },
  {
   "cell_type": "code",
   "execution_count": null,
   "metadata": {},
   "outputs": [],
   "source": [
    "# from transformers import AutoModelForCausalLM, AutoProcessor, GenerationConfig\n",
    "# from PIL import Image\n",
    "# import requests\n",
    "# processor = AutoProcessor.from_pretrained(\n",
    "#     'allenai/Molmo-7B-D-0924',\n",
    "#     trust_remote_code=True,\n",
    "#     torch_dtype='auto',\n",
    "#     device_map='auto',\n",
    "#     cache_dir = '/HDD/model_cache/'\n",
    "# )\n",
    "\n",
    "# # load the model\n",
    "# model = AutoModelForCausalLM.from_pretrained(\n",
    "#     'allenai/Molmo-7B-D-0924',\n",
    "#     trust_remote_code=True,\n",
    "#     torch_dtype='auto',\n",
    "#     device_map='auto',\n",
    "#     cache_dir = '/HDD/model_cache/'\n",
    "# )"
   ]
  },
  {
   "cell_type": "code",
   "execution_count": null,
   "metadata": {},
   "outputs": [],
   "source": [
    "\n"
   ]
  },
  {
   "cell_type": "code",
   "execution_count": 21,
   "metadata": {},
   "outputs": [],
   "source": [
    "file = Config.img_path/'test.jpg'\n",
    "file.unlink()"
   ]
  },
  {
   "cell_type": "code",
   "execution_count": null,
   "metadata": {},
   "outputs": [
    {
     "name": "stderr",
     "output_type": "stream",
     "text": [
      "llama inferen:   0%|          | 0/3 [00:00<?, ?it/s]"
     ]
    },
    {
     "name": "stderr",
     "output_type": "stream",
     "text": [
      "llama inferen: 100%|██████████| 3/3 [01:05<00:00, 21.91s/it]\n"
     ]
    }
   ],
   "source": [
    "#print(processor.decode(output[0], skip_special_tokens=True))\n",
    "#print(processor.decode(output[0][\"generated_text\"][-1][\"content\"]))\n",
    "#print(outputs[0][\"generated_text\"][-1][\"content\"])\n"
   ]
  },
  {
   "cell_type": "code",
   "execution_count": 27,
   "metadata": {},
   "outputs": [
    {
     "name": "stdout",
     "output_type": "stream",
     "text": [
      "把這張圖片轉換為文字(繁體中文)，你只能說繁體中文\n",
      "    \n",
      "\n",
      "### **頁首**\n",
      "\n",
      "*   國立啟明書院董事會會議記錄\n",
      "*   第111年度第11次會議\n",
      "*   日  至 3 月 31 日\n",
      "*   （保證經核閱，未依一般公認計算準則整理整理）\n",
      "*   聲請：新台幣兌換美元、債券盈餘為元\n",
      "\n",
      "### **代碼**\n",
      "\n",
      "*   4100\n",
      "*   5000\n",
      "*   5900\n",
      "*   6100\n",
      "*   6200\n",
      "*   6300\n",
      "*   6450\n",
      "*   6000\n",
      "*   6900\n",
      "*   7050\n",
      "*   7060\n",
      "*   7100\n",
      "*   7110\n",
      "*   7235\n",
      "*   7020\n",
      "*   7000\n",
      "\n",
      "### **會議紀錄**\n",
      "\n",
      "*   4100\n",
      "    *   負債收入（附注三）\n",
      "    *   預算收入一津額：$30,134,218\n",
      "    *   金額：100\n",
      "    *   金額：$28,025,982\n",
      "    *   項目：100\n",
      "    *   100\n",
      "*   5000\n",
      "    *   營業成本（附註十二及三）\n",
      "    *   18,648,750\n",
      "    *   62\n",
      "    *   17,506,511\n",
      "    *   63\n",
      "    *   63\n",
      "*   5900\n",
      "    *   營業毛利\n",
      "    *   11,485,468\n",
      "    *   38\n",
      "    *   10,519,471\n",
      "    *   37\n",
      "    *   37\n",
      "*   6100\n",
      "    *   營業費用（附註二及三）\n",
      "    *   1,568,200\n",
      "    *   5\n",
      "    *   1,477,283\n",
      "    *   5\n",
      "    *   5\n",
      "*   6200\n",
      "    *   管理費用\n",
      "    *   1,735,235\n",
      "    *   6\n",
      "    *   1,741,110\n",
      "    *   6\n",
      "    *   6\n",
      "*   6300\n",
      "    *   研究發展費用\n",
      "    *   700,957\n",
      "    *   2把這張圖片轉換為文字(繁體中文)，你只能說繁體中文\n",
      "    \n",
      "\n",
      "答：這張圖片顯示的是一份財務報表，內容包括了以下幾個部分：\n",
      "\n",
      "*   **日期**：圖片上方的日期是111年1月1日至3月31日。\n",
      "*   **公司名稱**：公司名稱為「**未經頁**」。\n",
      "*   **資產**：資產包括現金、銀行存款、投資、固定資產、流動資產等。\n",
      "*   **負債**：負債包括短期借款、長期借款、股東權益等。\n",
      "*   **收入**：收入包括營業收入、其他收入等。\n",
      "*   **支出**：支出包括營業支出、其他支出等。\n",
      "*   **利润**：利润包括淨利润、稅前利润等。\n",
      "*   **稅項**：稅項包括所得稅、營業稅等。\n",
      "*   **盈餘**：盈餘包括淨利润、股東權益等。\n",
      "\n",
      "這些信息顯示了公司的財務狀況和經營績效。把這張圖片轉換為文字(繁體中文)，你只能說繁體中文\n",
      "    \n",
      "\n",
      "答： \n",
      "\n",
      "(承前頁)\n",
      "\n",
      "111年1月1日至3月31日\n",
      "\n",
      "| 7900 | 乾前溶利 | $8,055,532 | %27 | 金額 | $7,053,143 | %25 |\n",
      "| --- | --- | --- | --- | --- | --- | --- |\n",
      "| 7950 | 所得稅實用（附註四及二五） | 1,785,546 | 6 | 6 | 1,567,242 | 6 |\n",
      "| 8200 | 本期溶利 | 6,269,986 | 21 | 21 | 5,485,901 | 19 |\n",
      "| 8310 | 其他綜合損益 |  |  |  |  |  |\n",
      "| 8316 | 透過其他綜合損益 |  |  |  |  |  |\n",
      "|  |  | 8,713 |  | - | 6,848 | - |\n",
      "|  | 採用權益法之關聯企業損益 |  |  |  |  |  |\n",
      "|  |  | 7,584 |  | - | 6,848 | - |\n",
      "| 8360 |  |  |  |  |  |  |\n",
      "|  |  | 16,297 |  | - |  | - |\n",
      "| 8361 | 國外營運損損 |  |  |  |  |  |\n",
      "|  |  | 5,334,215 | 18 | (702,841) | (2) |\n",
      "|  | 團長換算之兌換 |  |  |  |  |  |\n",
      "|  |  | 306,511 | 1 | 55,543 | - |\n",
      "| 8370 | 採用權益法之關聯企業損益 |  |  |  |  |  |\n",
      "|  |  | 34,754 | - | (14,807) | - |\n",
      "| 8399 | 其他可能重分類之項 |  |  |  |  |  |\n",
      "|  |  | 1,079,712 | (4) | 130,786 | - |\n",
      "|  |  | 4,595,768 | 15 | 642,405 | (2) |\n",
      "| 8300 | 本期其他綜合損益 |  |  |  |  |  |\n",
      "|\n"
     ]
    }
   ],
   "source": [
    "print(all_txt)\n"
   ]
  },
  {
   "cell_type": "code",
   "execution_count": 19,
   "metadata": {},
   "outputs": [
    {
     "data": {
      "text/plain": [
       "'user\\n\\n\\n把這張圖片轉換為文字\\nassistant\\n\\n### **[表頭]**\\n\\n*   國巨股份有限公司\\n*   民國 111 年及 11 月 11 日至 3 月 31 日\\n*   （健續核閱，未依一般公認審計準則整理整編）\\n*   單位：新台幣千元，凈\\n*   111年1月1日至3月31日\\n\\n### **[資產部分]**\\n\\n| 代碼 | 金額 | 項 | % | 金額 | 項 | % |\\n| --- | --- | --- | --- | --- | --- | --- |\\n| 4100 | $30,134,218 | 100 | $28,025,982 | 100 |\\n| 5000 | 18,648,750 | 62 | 17,506,511 | 63 |\\n| 5900 | 11,485,468 | 38 | 10,519,471 | 37 |\\n\\n### **[負債部分]**\\n\\n| 代碼 | 金額 | 項 | % | 金額 | 項 | % |\\n| --- | --- | --- | --- | --- | --- | --- |\\n| 6100 | 1,568,200 | 5 | 1,477,283 | 5 |\\n| 6200 | 1,735,235 | 6 | 1,741,110 | 6 |\\n| 6300 | 700,957 | 2 | 749,758 | 3 |\\n| 6450 | 5,561 | - | 6,334 | - |\\n| 6000 | 3,998,831 | 13 | 3,961,817 | 14 |\\n| 6900 | 7,486,637 | 25 | 6,557,654 | 23 |\\n\\n### **[權益部分]**\\n\\n| 代碼 | 金額 | 項 | % | 金額 | 項 | % |\\n| --- | --- | --- | --- | --- | --- | --- |\\n| 7050 | 235,121 | 1 | 299,835 | 1 |\\n| 7060 | 48,644 | - | 25,888 | - |\\n| 7100 | 268,717 | 1 | 232,499 | 1 |\\n| 7110 | 9,469 | - | 11,290 | - |\\n| 7235 | 437,590 | 2 | 108'"
      ]
     },
     "execution_count": 19,
     "metadata": {},
     "output_type": "execute_result"
    }
   ],
   "source": [
    "decoded_output = processor.decode(output[0], skip_special_tokens=True)\n",
    "cleaned_output = re.sub(r'(user|assistant|把這張圖片轉換為文字)', '', decoded_output).strip()\n",
    "decoded_output"
   ]
  },
  {
   "cell_type": "code",
   "execution_count": null,
   "metadata": {},
   "outputs": [],
   "source": [
    "# from transformers import AutoProcessor, MllamaForConditionalGeneration\n",
    "# import torch\n",
    "# from PIL import Image\n",
    "\n",
    "# model_id = \"meta-llama/Llama-3.2-11B-Vision-Instruct\"\n",
    "\n",
    "# processor = AutoProcessor.from_pretrained(model_id)\n",
    "# model = MllamaForConditionalGeneration.from_pretrained(\n",
    "#     model_id,\n",
    "#     torch_dtype=torch.bfloat16,\n",
    "#     device_map=\"auto\",\n",
    "# )\n",
    "\n",
    "# img_files = os.listdir(Config.img_path)\n",
    "# all_text = ''\n",
    "# for img in img_files:\n",
    "#     # 使用 GPU（如果可用）\n",
    "#     device = torch.device(\"cuda\" if torch.cuda.is_available() else \"cpu\")\n",
    "#     model.to(device)\n",
    "\n",
    "#     # 加载和预处理图像  # 替换为您的图像路径\n",
    "#     image = Image.open(img).convert(\"RGB\")\n",
    "#     inputs = processor(images=image, return_tensors=\"pt\").to(device)\n",
    "\n",
    "#     # 生成文本描述\n",
    "#     with torch.no_grad():\n",
    "#         outputs = model.generate(**inputs)\n",
    "\n",
    "#     # 解码生成的文本\n",
    "#     generated_text = processor.decode(outputs[0], skip_special_tokens=True)\n",
    "#     all_text = all_text + generated_text\n",
    "\n",
    "# print(\"生成的文本描述：\")\n",
    "# print(generated_text)"
   ]
  },
  {
   "cell_type": "code",
   "execution_count": null,
   "metadata": {},
   "outputs": [],
   "source": [
    "\n"
   ]
  },
  {
   "cell_type": "code",
   "execution_count": null,
   "metadata": {},
   "outputs": [],
   "source": [
    "import pdfplumber\n",
    "import matplotlib.pyplot as plt\n",
    "with pdfplumber.open(Config.finance_path/'1.pdf') as pdf:\n",
    "        num_pages = len(pdf.pages)\n",
    "        for i, page in enumerate(pdf.pages, start=1):\n",
    "            # 將頁面渲染為圖片\n",
    "            image = page.to_image(600)\n",
    "            # 獲取 PIL Image 對象\n",
    "            pil_image = image.original\n",
    "\n",
    "            # 使用 matplotlib 顯示圖片\n",
    "            plt.figure(figsize=(8.27, 11.69))  # A4 大小（英寸）\n",
    "            plt.imshow(pil_image)\n",
    "            plt.axis('off')  # 不顯示坐標軸\n",
    "            plt.title(f'Page {i} of {num_pages}')\n",
    "            plt.show()"
   ]
  },
  {
   "cell_type": "code",
   "execution_count": null,
   "metadata": {},
   "outputs": [],
   "source": [
    "import ollama\n",
    "from utils.Loader import *\n",
    "with open(Config.finance_path / '1.pdf', 'rb') as f:\n",
    "    pdf_data = f.read()\n",
    "response = ollama.chat(\n",
    "    model='llama3.2-vision',\n",
    "    messages=[{\n",
    "        'role': 'user',\n",
    "        'content': 'What is in this image?',\n",
    "        'images': img\n",
    "    }]\n",
    ")"
   ]
  },
  {
   "cell_type": "code",
   "execution_count": null,
   "metadata": {},
   "outputs": [],
   "source": [
    "Config.faq_path"
   ]
  },
  {
   "cell_type": "code",
   "execution_count": null,
   "metadata": {},
   "outputs": [],
   "source": [
    "def load_faq(source_path: str) -> pd.DataFrame:\n",
    "    with open(source_path, 'rb') as f:\n",
    "        key_to_source_dict = json.load(f)  # 讀取參考資料文件\n",
    "    key_to_source_dict = {int(key): value for key, value in key_to_source_dict.items()}\n",
    "    row = []\n",
    "    for pid, content in key_to_source_dict.items():\n",
    "        row.append(\n",
    "            {\n",
    "                'pid': pid,\n",
    "                'content': str(content[0])\n",
    "            }\n",
    "        )\n",
    "    return pd.DataFrame(row)\n",
    "    "
   ]
  },
  {
   "cell_type": "code",
   "execution_count": null,
   "metadata": {},
   "outputs": [],
   "source": [
    "def BM25_retrieve(qs, source, corpus_dict):\n",
    "    filtered_corpus = [corpus_dict[int(file)] for file in source]\n",
    "    print(f'filtered_corpus: {filtered_corpus}')\n",
    "    # [TODO] 可自行替換其他檢索方式，以提升效能\n",
    "\n",
    "    tokenized_corpus = [list(jieba.cut_for_search(doc)) for doc in filtered_corpus]  # 將每篇文檔進行分詞\n",
    "    print(f'tokenized_corpus: {tokenized_corpus}')\n",
    "    bm25 = BM25Okapi(tokenized_corpus)  # 使用BM25演算法建立檢索模型\n",
    "    tokenized_query = list(jieba.cut_for_search(qs))  # 將查詢語句進行分詞\n",
    "    ans = bm25.get_top_n(tokenized_query, list(filtered_corpus), n=1)  # 根據查詢語句檢索，返回最相關的文檔，其中n為可調整項\n",
    "    a = ans[0]\n",
    "    # 找回與最佳匹配文本相對應的檔案名\n",
    "    res = [key for key, value in corpus_dict.items() if value == a]\n",
    "    return res[0]  # 回傳檔案名"
   ]
  },
  {
   "cell_type": "code",
   "execution_count": null,
   "metadata": {},
   "outputs": [],
   "source": [
    "a = load_faq(Config.faq_path)\n",
    "str(list(a['content'])[0]).replace(['{'],'')."
   ]
  },
  {
   "cell_type": "code",
   "execution_count": null,
   "metadata": {},
   "outputs": [],
   "source": []
  },
  {
   "cell_type": "code",
   "execution_count": null,
   "metadata": {},
   "outputs": [],
   "source": [
    "row = []\n",
    "for pid, content in key_to_source_dict.items():\n",
    "    row.append(\n",
    "        {\n",
    "            'pid': pid,\n",
    "            'content': content[0]\n",
    "        }\n",
    "    )\n",
    "pd.DataFrame(row)"
   ]
  },
  {
   "cell_type": "code",
   "execution_count": null,
   "metadata": {},
   "outputs": [],
   "source": [
    "qs_ref"
   ]
  },
  {
   "cell_type": "code",
   "execution_count": null,
   "metadata": {},
   "outputs": [],
   "source": [
    "with open(Config.faq_path, 'rb') as f_s:\n",
    "        key_to_source_dict = json.load(f_s)  # 讀取參考資料文件\n",
    "        print(key_to_source_dict)\n",
    "        key_to_source_dict = {int(key): value for key, value in key_to_source_dict.items()}\n",
    "        print(key_to_source_dict)"
   ]
  },
  {
   "cell_type": "code",
   "execution_count": null,
   "metadata": {},
   "outputs": [],
   "source": [
    "answer_dict = {\"answers\": []}\n",
    "for q_dict in qs_ref['questions']:\n",
    "    corpus_dict_faq = {key: str(value) for key, value in key_to_source_dict.items() if key in q_dict['source']}\n",
    "    retrieved = BM25_retrieve(q_dict['query'], q_dict['source'], corpus_dict_faq)\n",
    "    answer_dict['answers'].append({\"qid\": q_dict['qid'], \"retrieve\": retrieved})"
   ]
  }
 ],
 "metadata": {
  "kernelspec": {
   "display_name": "AIS",
   "language": "python",
   "name": "python3"
  },
  "language_info": {
   "codemirror_mode": {
    "name": "ipython",
    "version": 3
   },
   "file_extension": ".py",
   "mimetype": "text/x-python",
   "name": "python",
   "nbconvert_exporter": "python",
   "pygments_lexer": "ipython3",
   "version": "3.10.14"
  }
 },
 "nbformat": 4,
 "nbformat_minor": 2
}
