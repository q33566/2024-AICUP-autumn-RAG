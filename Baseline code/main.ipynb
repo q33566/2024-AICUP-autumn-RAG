{
 "cells": [
  {
   "cell_type": "code",
   "execution_count": 1,
   "id": "initial_id",
   "metadata": {
    "ExecuteTime": {
     "end_time": "2024-11-07T17:20:36.867300Z",
     "start_time": "2024-11-07T17:20:32.145906Z"
    },
    "collapsed": true
   },
   "outputs": [],
   "source": [
    "import pandas as pd\n",
    "from utils.Evaluation import *\n",
    "from utils.Loader import *\n",
    "from utils.Retriever import *\n",
    "from sentence_transformers import SentenceTransformer\n",
    "%load_ext autoreload\n",
    "%autoreload 2"
   ]
  },
  {
   "cell_type": "code",
   "execution_count": null,
   "id": "b24d7530",
   "metadata": {},
   "outputs": [
    {
     "name": "stdout",
     "output_type": "stream",
     "text": [
      "已將具有相同前綴的檔案移動到各自的資料夾中。\n"
     ]
    }
   ],
   "source": []
  },
  {
   "cell_type": "code",
   "execution_count": 10,
   "id": "9eca6d91",
   "metadata": {},
   "outputs": [
    {
     "name": "stderr",
     "output_type": "stream",
     "text": [
      "  0%|          | 0/87 [00:00<?, ?it/s]\n"
     ]
    },
    {
     "ename": "AttributeError",
     "evalue": "'NoneType' object has no attribute 'apply_chat_template'",
     "output_type": "error",
     "traceback": [
      "\u001b[0;31m---------------------------------------------------------------------------\u001b[0m",
      "\u001b[0;31mAttributeError\u001b[0m                            Traceback (most recent call last)",
      "Cell \u001b[0;32mIn[10], line 5\u001b[0m\n\u001b[1;32m      2\u001b[0m files \u001b[38;5;241m=\u001b[39m os\u001b[38;5;241m.\u001b[39mlistdir(finance_path)\n\u001b[1;32m      3\u001b[0m \u001b[38;5;28;01mfor\u001b[39;00m img_dir \u001b[38;5;129;01min\u001b[39;00m files:\n\u001b[1;32m      4\u001b[0m     \u001b[38;5;66;03m#print(img_dir)\u001b[39;00m\n\u001b[0;32m----> 5\u001b[0m     text \u001b[38;5;241m=\u001b[39m \u001b[43mconvert_jpg_to_txt\u001b[49m\u001b[43m(\u001b[49m\u001b[43mmodel\u001b[49m\u001b[38;5;241;43m=\u001b[39;49m\u001b[38;5;28;43;01mNone\u001b[39;49;00m\u001b[43m,\u001b[49m\u001b[43m \u001b[49m\u001b[43mprocessor\u001b[49m\u001b[38;5;241;43m=\u001b[39;49m\u001b[38;5;28;43;01mNone\u001b[39;49;00m\u001b[43m,\u001b[49m\u001b[43m \u001b[49m\u001b[43mimg_dir_path\u001b[49m\u001b[38;5;241;43m=\u001b[39;49m\u001b[43mimg_dir\u001b[49m\u001b[43m)\u001b[49m\n\u001b[1;32m      6\u001b[0m     \u001b[38;5;28;01mbreak\u001b[39;00m\n",
      "File \u001b[0;32m~/AI CUP/Baseline code/utils/Loader.py:74\u001b[0m, in \u001b[0;36mconvert_jpg_to_txt\u001b[0;34m(model, processor, img_dir_path)\u001b[0m\n\u001b[1;32m     62\u001b[0m prompt \u001b[38;5;241m=\u001b[39m \u001b[38;5;124m'''\u001b[39m\n\u001b[1;32m     63\u001b[0m \u001b[38;5;124m把這張圖片轉換為文字(繁體中文)，你只能說繁體中文\u001b[39m\n\u001b[1;32m     64\u001b[0m \u001b[38;5;124m\u001b[39m\u001b[38;5;124m'''\u001b[39m\n\u001b[1;32m     65\u001b[0m messages \u001b[38;5;241m=\u001b[39m [\n\u001b[1;32m     66\u001b[0m     {\n\u001b[1;32m     67\u001b[0m         \u001b[38;5;124m'\u001b[39m\u001b[38;5;124mrole\u001b[39m\u001b[38;5;124m'\u001b[39m: \u001b[38;5;124m'\u001b[39m\u001b[38;5;124muser\u001b[39m\u001b[38;5;124m'\u001b[39m,\u001b[38;5;124m'\u001b[39m\u001b[38;5;124mcontent\u001b[39m\u001b[38;5;124m'\u001b[39m:[\n\u001b[0;32m   (...)\u001b[0m\n\u001b[1;32m     71\u001b[0m     }\n\u001b[1;32m     72\u001b[0m ]\n\u001b[0;32m---> 74\u001b[0m input_text \u001b[38;5;241m=\u001b[39m \u001b[43mprocessor\u001b[49m\u001b[38;5;241;43m.\u001b[39;49m\u001b[43mapply_chat_template\u001b[49m(messages, add_generation_prompt \u001b[38;5;241m=\u001b[39m \u001b[38;5;28;01mTrue\u001b[39;00m)\n\u001b[1;32m     75\u001b[0m inputs \u001b[38;5;241m=\u001b[39m processor(img, input_text, return_tensors\u001b[38;5;241m=\u001b[39m\u001b[38;5;124m'\u001b[39m\u001b[38;5;124mpt\u001b[39m\u001b[38;5;124m'\u001b[39m)\u001b[38;5;241m.\u001b[39mto(model\u001b[38;5;241m.\u001b[39mdevice)\n\u001b[1;32m     76\u001b[0m output \u001b[38;5;241m=\u001b[39m model\u001b[38;5;241m.\u001b[39mgenerate(\u001b[38;5;241m*\u001b[39m\u001b[38;5;241m*\u001b[39minputs, max_new_tokens\u001b[38;5;241m=\u001b[39m\u001b[38;5;241m530\u001b[39m)\n",
      "\u001b[0;31mAttributeError\u001b[0m: 'NoneType' object has no attribute 'apply_chat_template'"
     ]
    }
   ],
   "source": [
    "finance_path = Config.img_path/'finance'\n",
    "files = os.listdir(finance_path)\n",
    "for img_dir in files:\n",
    "    #print(img_dir)\n",
    "    text = convert_jpg_to_txt(model=None, processor=None, img_dir_path=img_dir)\n",
    "    break"
   ]
  },
  {
   "cell_type": "code",
   "execution_count": null,
   "id": "c940631f",
   "metadata": {},
   "outputs": [],
   "source": [
    "#os.environ[\"TOKENIZERS_PARALLELISM\"] = \"false\"\n"
   ]
  },
  {
   "cell_type": "code",
   "execution_count": 11,
   "id": "49f260e9",
   "metadata": {},
   "outputs": [
    {
     "name": "stderr",
     "output_type": "stream",
     "text": [
      "The model weights are not tied. Please use the `tie_weights` method before using the `infer_auto_device` function.\n"
     ]
    },
    {
     "data": {
      "application/vnd.jupyter.widget-view+json": {
       "model_id": "fab7bf75b9a34391b58815659e5ab282",
       "version_major": 2,
       "version_minor": 0
      },
      "text/plain": [
       "Loading checkpoint shards:   0%|          | 0/5 [00:00<?, ?it/s]"
      ]
     },
     "metadata": {},
     "output_type": "display_data"
    }
   ],
   "source": [
    "import torch\n",
    "from transformers import MllamaForConditionalGeneration, AutoProcessor\n",
    "\n",
    "model_id = \"meta-llama/Llama-3.2-11B-Vision-Instruct\"\n",
    "\n",
    "llama_model = MllamaForConditionalGeneration.from_pretrained(\n",
    "    model_id,\n",
    "    torch_dtype=torch.bfloat16,\n",
    "    device_map=\"auto\",\n",
    "    cache_dir = '/HDD/model_cache/'\n",
    ").eval()\n",
    "\n",
    "llama_processor = AutoProcessor.from_pretrained(model_id)\n",
    "llama_model.tie_weights()\n",
    "\n",
    "os.environ[\"TOKENIZERS_PARALLELISM\"] = \"True\"\n"
   ]
  },
  {
   "cell_type": "code",
   "execution_count": 33,
   "id": "6de9950a",
   "metadata": {},
   "outputs": [
    {
     "name": "stderr",
     "output_type": "stream",
     "text": [
      "100%|██████████| 19/19 [10:54<00:00, 34.43s/it]\n"
     ]
    }
   ],
   "source": [
    "sheet = convert_jpg_to_txt(llama_model, llama_processor)"
   ]
  },
  {
   "cell_type": "code",
   "execution_count": 21,
   "id": "d57a8c48",
   "metadata": {},
   "outputs": [
    {
     "data": {
      "text/plain": [
       "'把這張圖片轉換為文字(繁體中文)，你只能說繁體中文\\n                \\n\\n**公司簡介**\\n\\n*   **公司名稱**: PricewaterhouseCoopers, Taiwan\\n*   **地址**: 臺北市信義區基隆路一段333號27樓\\n*   **電話**: +886 (2) 2729 6666\\n*   **傳真**: +886 (2) 2729 6686\\n*   **網址**: www.pwc.tw\\n\\n**文件正文**\\n\\n*   **文件標題**: 會計師核閱報告\\n*   **公司名稱**: 海洋精密股份有限公司及子公司民國111 年 9 月 30 日之合資產達實徵表\\n*   **日期**: 民國111 年 7 月 1 日至 9 月 30 日\\n*   **公司名稱**: 海洋精密股份有限公司及子公司民國111 年 9 月 30 日之合資產達實徵表\\n*   **日期**: 民國111 年 1 月 1 日至 9 月 30 日\\n*   **公司名稱**: 海洋精密股份有限公司及子公司民國111 年 9 月 30 日之合資產達實徵表\\n*   **日期**: 民國111 年 1 月 1 日至 9 月 30 日\\n*   **公司名稱**: 海洋精密股份有限公司及子公司民國111 年 9 月 30 日之合資產達實徵表\\n*   **日期**: 民國111 年 1 月 1 日至 9 月 30 日\\n*   **公司名稱**: 海洋精密股份有限公司及子公司民國111 年 9 月 30 日之合資產達實徵表\\n*   **日期**: 民國111 年 1 月 1 日至 9 月 30 日\\n*   **公司名稱**: 海洋精密股份有限公司及子公司民國111 年 9 月 30 日之合資產達實徵表\\n*   **日期**: 民國111 年 1 月 1 日至 9 月 30 日\\n*   **公司名稱**: 海洋精密股份有限公司及子公司民國111 年 9 月 30 日之合資產達實徵表\\n*   **日期**: 民國111 年 1 月 1 日至 9 月 30 日\\n*   **公司名稱**: 海洋精密股份有限公司及子公司民國111 年 9 月 30把這張圖片轉換為文字(繁體中文)，你只能說繁體中文\\n                \\n\\n**封面**\\n\\n*   pwc\\n*   資訊\\n\\n**內容**\\n\\n*   本次會計師檢查結束，除上段所述之合併財務報表之部分非重要子公司、採用權益法之投資性質之投資者可享受可能或作其他調查或整理之影響外，除此之外，其他所有現況一段所述之財務報表在所有重大方面皆有重大不依照證券法及財務報表準則統計之國際會標準第二十四號「期中財務報導」編製，致無法依照證券法及財務報表準則統計之國際會標準第二十四號「期中財務報導」編製，致無法依照證券法及財務報表準則統計之國際會標準第二十四號「期中財務報導」編製，致無法依照證券法及財務報表準則統計之國際會標準第二十四號「期中財務報導」編製，致無法依照證券法及財務報表準則統計之國際會標準第二十四號「期中財務報導」編製，致無法依照證券法及財務報表準則統計之國際會標準第二十四號「期中財務報導」編製，致無法依照證券法及財務報表準則統計之國際會標準第二十四號「期中財務報導」編製，致無法依照證券法及財務報表準則統計之國際會標準第二十四號「期中財務報導」編製，致無法依照證券法及財務報表準則統計之國際會標準第二十四號「期中財務報導」編製，致無法依照證券法及財務報表準則統計之國際會標準第二十四號「期中財務報導」編製，致無法依照證券法及財務報表準則統計之國際會標準第二十四號「期中財務報導」編製，致無法依照證券法及財務報表準則統計之國際會標準第二十四號「期中財務報導'"
      ]
     },
     "execution_count": 21,
     "metadata": {},
     "output_type": "execute_result"
    }
   ],
   "source": [
    "sheet[sheet['file'] == '5']['content'][0]"
   ]
  },
  {
   "cell_type": "code",
   "execution_count": 35,
   "id": "36912aea96c64a1f",
   "metadata": {
    "ExecuteTime": {
     "end_time": "2024-11-07T17:38:56.195047Z",
     "start_time": "2024-11-07T17:37:20.333640Z"
    }
   },
   "outputs": [
    {
     "name": "stderr",
     "output_type": "stream",
     "text": [
      "Loading data:   5%|▌         | 33/643 [00:00<00:03, 184.41it/s]"
     ]
    },
    {
     "name": "stdout",
     "output_type": "stream",
     "text": [
      "Error processing file 305.pdf: 0\n",
      "Error processing file 202.pdf: 0\n",
      "Error processing file 290.pdf: 0\n",
      "Error processing file 337.pdf: 0\n",
      "Error processing file 43.pdf: 0\n",
      "Error processing file 192.pdf: 0\n",
      "Error processing file 372.pdf: 0\n",
      "Error processing file 551.pdf: 0\n",
      "Error processing file 194.pdf: 0\n",
      "Error processing file 435.pdf: 0\n",
      "Error processing file 351.pdf: 0\n",
      "Error processing file 545.pdf: 0\n",
      "Error processing file 3.pdf: 0\n",
      "Error processing file 583.pdf: 0\n",
      "Error processing file 49.pdf: 0\n",
      "Error processing file 477.pdf: 0\n",
      "Error processing file 41.pdf: 0\n",
      "Error processing file 220.pdf: 0\n",
      "Error processing file 237.pdf: 0\n",
      "Error processing file 184.pdf: 0\n",
      "Error processing file 298.pdf: 0\n",
      "Error processing file 121.pdf: 0\n",
      "Error processing file 608.pdf: 0\n",
      "Error processing file 310.pdf: 0\n",
      "Error processing file 526.pdf: 0\n",
      "Error processing file 431.pdf: 0\n",
      "Error processing file 531.pdf: 0\n",
      "Error processing file 130.pdf: 0\n",
      "Error processing file 497.pdf: 0\n",
      "Error processing file 550.pdf: 0\n",
      "Error processing file 319.pdf: 0\n",
      "Error processing file 540.pdf: 0\n",
      "Error processing file 360.pdf: 0\n",
      "Error processing file 295.pdf: 0\n",
      "Error processing file 416.pdf: 0\n",
      "Error processing file 12.pdf: 0\n",
      "Error processing file 496.pdf: 0\n",
      "Error processing file 629.pdf: 0\n",
      "Error processing file 140.pdf: 0\n",
      "Error processing file 51.pdf: 0\n",
      "Error processing file 443.pdf: 0\n",
      "Error processing file 212.pdf: 0\n",
      "Error processing file 378.pdf: 0\n",
      "Error processing file 572.pdf: 0\n",
      "Error processing file 52.pdf: 0\n",
      "Error processing file 619.pdf: 0\n",
      "Error processing file 606.pdf: 0\n",
      "Error processing file 602.pdf: 0\n",
      "Error processing file 605.pdf: 0\n",
      "Error processing file 64.pdf: 0\n",
      "Error processing file 513.pdf: 0\n",
      "Error processing file 522.pdf: 0\n",
      "Error processing file 204.pdf: 0\n",
      "Error processing file 289.pdf: 0\n",
      "Error processing file 419.pdf: 0\n",
      "Error processing file 381.pdf: 0\n",
      "Error processing file 577.pdf: 0\n",
      "Error processing file 486.pdf: 0\n",
      "Error processing file 61.pdf: 0\n",
      "Error processing file 543.pdf: 0\n",
      "Error processing file 123.pdf: 0\n",
      "Error processing file 297.pdf: 0\n",
      "Error processing file 559.pdf: 0\n",
      "Error processing file 19.pdf: 0\n",
      "Error processing file 338.pdf: 0\n",
      "Error processing file 429.pdf: 0\n",
      "Error processing file 245.pdf: 0\n",
      "Error processing file 209.pdf: 0\n",
      "Error processing file 254.pdf: 0\n",
      "Error processing file 285.pdf: 0\n",
      "Error processing file 243.pdf: 0\n",
      "Error processing file 167.pdf: 0\n",
      "Error processing file 199.pdf: 0\n"
     ]
    },
    {
     "name": "stderr",
     "output_type": "stream",
     "text": [
      "Loading data:  18%|█▊        | 115/643 [00:00<00:01, 322.82it/s]"
     ]
    },
    {
     "name": "stdout",
     "output_type": "stream",
     "text": [
      "Error processing file 353.pdf: 0\n",
      "Error processing file 50.pdf: 0\n",
      "Error processing file 507.pdf: 0\n",
      "Error processing file 490.pdf: 0\n",
      "Error processing file 399.pdf: 0\n",
      "Error processing file 327.pdf: 0\n",
      "Error processing file 628.pdf: 0\n",
      "Error processing file 361.pdf: 0\n",
      "Error processing file 214.pdf: 0\n",
      "Error processing file 24.pdf: 0\n",
      "Error processing file 565.pdf: 0\n",
      "Error processing file 625.pdf: 0\n",
      "Error processing file 558.pdf: 0\n",
      "Error processing file 616.pdf: 0\n",
      "Error processing file 178.pdf: 0\n",
      "Error processing file 627.pdf: 0\n",
      "Error processing file 330.pdf: 0\n",
      "Error processing file 500.pdf: 0\n",
      "Error processing file 345.pdf: 0\n",
      "Error processing file 235.pdf: 0\n",
      "Error processing file 380.pdf: 0\n",
      "Error processing file 249.pdf: 0\n",
      "Error processing file 23.pdf: 0\n",
      "Error processing file 288.pdf: 0\n",
      "Error processing file 32.pdf: 0\n",
      "Error processing file 484.pdf: 0\n",
      "Error processing file 127.pdf: 0\n",
      "Error processing file 525.pdf: 0\n",
      "Error processing file 28.pdf: 0\n",
      "Error processing file 318.pdf: 0\n",
      "Error processing file 141.pdf: 0\n",
      "Error processing file 195.pdf: 0\n",
      "Error processing file 335.pdf: 0\n",
      "Error processing file 450.pdf: 0\n",
      "Error processing file 584.pdf: 0\n",
      "Error processing file 639.pdf: 0\n",
      "Error processing file 133.pdf: 0\n",
      "Error processing file 549.pdf: 0\n",
      "Error processing file 17.pdf: 0\n",
      "Error processing file 451.pdf: 0\n",
      "Error processing file 233.pdf: 0\n",
      "Error processing file 129.pdf: 0\n",
      "Error processing file 575.pdf: 0\n",
      "Error processing file 371.pdf: 0\n",
      "Error processing file 397.pdf: 0\n",
      "Error processing file 70.pdf: 0\n",
      "Error processing file 62.pdf: 0\n",
      "Error processing file 385.pdf: 0\n",
      "Error processing file 59.pdf: 0\n",
      "Error processing file 156.pdf: 0\n",
      "Error processing file 582.pdf: 0\n",
      "Error processing file 642.pdf: 0\n",
      "Error processing file 640.pdf: 0\n",
      "Error processing file 128.pdf: 0\n",
      "Error processing file 493.pdf: 0\n",
      "Error processing file 155.pdf: 0\n",
      "Error processing file 591.pdf: 0\n",
      "Error processing file 104.pdf: 0\n",
      "Error processing file 185.pdf: 0\n",
      "Error processing file 468.pdf: 0\n",
      "Error processing file 138.pdf: 0\n",
      "Error processing file 576.pdf: 0\n",
      "Error processing file 436.pdf: 0\n",
      "Error processing file 615.pdf: 0\n",
      "Error processing file 213.pdf: 0\n",
      "Error processing file 261.pdf: 0\n",
      "Error processing file 445.pdf: 0\n",
      "Error processing file 253.pdf: 0\n",
      "Error processing file 283.pdf: 0\n",
      "Error processing file 346.pdf: 0\n",
      "Error processing file 322.pdf: 0\n",
      "Error processing file 499.pdf: 0\n",
      "Error processing file 362.pdf: 0\n",
      "Error processing file 176.pdf: 0\n",
      "Error processing file 216.pdf: 0\n",
      "Error processing file 317.pdf: 0\n",
      "Error processing file 37.pdf: 0\n",
      "Error processing file 383.pdf: 0\n",
      "Error processing file 296.pdf: 0\n",
      "Error processing file 278.pdf: 0\n",
      "Error processing file 460.pdf: 0\n",
      "Error processing file 101.pdf: 0\n",
      "Error processing file 395.pdf: 0\n",
      "Error processing file 44.pdf: 0\n",
      "Error processing file 589.pdf: 0\n",
      "Error processing file 455.pdf: 0\n"
     ]
    },
    {
     "name": "stderr",
     "output_type": "stream",
     "text": [
      "Loading data:  32%|███▏      | 208/643 [00:00<00:01, 398.68it/s]"
     ]
    },
    {
     "name": "stdout",
     "output_type": "stream",
     "text": [
      "Error processing file 518.pdf: 0\n",
      "Error processing file 147.pdf: 0\n",
      "Error processing file 188.pdf: 0\n",
      "Error processing file 503.pdf: 0\n",
      "Error processing file 618.pdf: 0\n",
      "Error processing file 33.pdf: 0\n",
      "Error processing file 547.pdf: 0\n",
      "Error processing file 516.pdf: 0\n",
      "Error processing file 402.pdf: 0\n",
      "Error processing file 366.pdf: 0\n",
      "Error processing file 105.pdf: 0\n",
      "Error processing file 170.pdf: 0\n",
      "Error processing file 509.pdf: 0\n",
      "Error processing file 157.pdf: 0\n",
      "Error processing file 368.pdf: 0\n",
      "Error processing file 77.pdf: 0\n",
      "Error processing file 359.pdf: 0\n",
      "Error processing file 116.pdf: 0\n",
      "Error processing file 160.pdf: 0\n",
      "Error processing file 621.pdf: 0\n",
      "Error processing file 332.pdf: 0\n",
      "Error processing file 476.pdf: 0\n",
      "Error processing file 99.pdf: 0\n",
      "Error processing file 417.pdf: 0\n",
      "Error processing file 350.pdf: 0\n",
      "Error processing file 135.pdf: 0\n",
      "Error processing file 514.pdf: 0\n",
      "Error processing file 56.pdf: 0\n",
      "Error processing file 150.pdf: 0\n",
      "Error processing file 471.pdf: 0\n",
      "Error processing file 303.pdf: 0\n",
      "Error processing file 227.pdf: 0\n",
      "Error processing file 183.pdf: 0\n",
      "Error processing file 626.pdf: 0\n",
      "Error processing file 418.pdf: 0\n",
      "Error processing file 31.pdf: 0\n",
      "Error processing file 427.pdf: 0\n",
      "Error processing file 530.pdf: 0\n",
      "Error processing file 349.pdf: 0\n",
      "Error processing file 2.pdf: 0\n",
      "Error processing file 260.pdf: 0\n",
      "Error processing file 406.pdf: 0\n",
      "Error processing file 10.pdf: 0\n",
      "Error processing file 89.pdf: 0\n",
      "Error processing file 365.pdf: 0\n",
      "Error processing file 262.pdf: 0\n",
      "Error processing file 457.pdf: 0\n",
      "Error processing file 215.pdf: 0\n",
      "Error processing file 511.pdf: 0\n",
      "Error processing file 236.pdf: 0\n",
      "Error processing file 439.pdf: 0\n",
      "Error processing file 306.pdf: 0\n",
      "Error processing file 534.pdf: 0\n",
      "Error processing file 421.pdf: 0\n",
      "Error processing file 426.pdf: 0\n",
      "Error processing file 190.pdf: 0\n",
      "Error processing file 81.pdf: 0\n",
      "Error processing file 221.pdf: 0\n",
      "Error processing file 528.pdf: 0\n",
      "Error processing file 643.pdf: 0\n",
      "Error processing file 257.pdf: 0\n",
      "Error processing file 175.pdf: 0\n",
      "Error processing file 533.pdf: 0\n",
      "Error processing file 624.pdf: 0\n",
      "Error processing file 293.pdf: 0\n",
      "Error processing file 222.pdf: 0\n",
      "Error processing file 182.pdf: 0\n",
      "Error processing file 244.pdf: 0\n",
      "Error processing file 280.pdf: 0\n",
      "Error processing file 40.pdf: 0\n",
      "Error processing file 72.pdf: 0\n",
      "Error processing file 505.pdf: 0\n",
      "Error processing file 263.pdf: 0\n",
      "Error processing file 517.pdf: 0\n",
      "Error processing file 304.pdf: 0\n",
      "Error processing file 206.pdf: 0\n",
      "Error processing file 88.pdf: 0\n",
      "Error processing file 423.pdf: 0\n",
      "Error processing file 535.pdf: 0\n",
      "Error processing file 604.pdf: 0\n",
      "Error processing file 538.pdf: 0\n",
      "Error processing file 45.pdf: 0\n",
      "Error processing file 523.pdf: 0\n",
      "Error processing file 174.pdf: 0\n",
      "Error processing file 218.pdf: 0\n",
      "Error processing file 132.pdf: 0\n",
      "Error processing file 594.pdf: 0\n",
      "Error processing file 113.pdf: 0\n",
      "Error processing file 248.pdf: 0\n",
      "Error processing file 58.pdf: 0\n",
      "Error processing file 80.pdf: 0\n",
      "Error processing file 529.pdf: 0\n"
     ]
    },
    {
     "name": "stderr",
     "output_type": "stream",
     "text": [
      "Loading data:  46%|████▋     | 298/643 [00:00<00:00, 413.99it/s]"
     ]
    },
    {
     "name": "stdout",
     "output_type": "stream",
     "text": [
      "Error processing file 563.pdf: 0\n",
      "Error processing file 405.pdf: 0\n",
      "Error processing file 438.pdf: 0\n",
      "Error processing file 92.pdf: 0\n",
      "Error processing file 437.pdf: 0\n",
      "Error processing file 161.pdf: 0\n",
      "Error processing file 394.pdf: 0\n",
      "Error processing file 27.pdf: 0\n",
      "Error processing file 570.pdf: 0\n",
      "Error processing file 100.pdf: 0\n",
      "Error processing file 6.pdf: 0\n",
      "Error processing file 272.pdf: 0\n",
      "Error processing file 370.pdf: 0\n",
      "Error processing file 266.pdf: 0\n",
      "Error processing file 118.pdf: 0\n",
      "Error processing file 331.pdf: 0\n",
      "Error processing file 207.pdf: 0\n",
      "Error processing file 613.pdf: 0\n",
      "Error processing file 478.pdf: 0\n",
      "Error processing file 329.pdf: 0\n",
      "Error processing file 164.pdf: 0\n",
      "Error processing file 343.pdf: 0\n",
      "Error processing file 569.pdf: 0\n",
      "Error processing file 463.pdf: 0\n",
      "Error processing file 189.pdf: 0\n",
      "Error processing file 390.pdf: 0\n",
      "Error processing file 555.pdf: 0\n",
      "Error processing file 610.pdf: 0\n",
      "Error processing file 115.pdf: 0\n",
      "Error processing file 258.pdf: 0\n",
      "Error processing file 240.pdf: 0\n",
      "Error processing file 259.pdf: 0\n",
      "Error processing file 456.pdf: 0\n",
      "Error processing file 103.pdf: 0\n",
      "Error processing file 166.pdf: 0\n",
      "Error processing file 634.pdf: 0\n",
      "Error processing file 110.pdf: 0\n",
      "Error processing file 524.pdf: 0\n",
      "Error processing file 82.pdf: 0\n",
      "Error processing file 520.pdf: 0\n",
      "Error processing file 307.pdf: 0\n",
      "Error processing file 18.pdf: 0\n",
      "Error processing file 114.pdf: 0\n",
      "Error processing file 557.pdf: 0\n",
      "Error processing file 85.pdf: 0\n",
      "Error processing file 401.pdf: 0\n",
      "Error processing file 271.pdf: 0\n",
      "Error processing file 7.pdf: 0\n",
      "Error processing file 447.pdf: 0\n",
      "Error processing file 124.pdf: 0\n",
      "Error processing file 501.pdf: 0\n",
      "Error processing file 403.pdf: 0\n",
      "Error processing file 633.pdf: 0\n",
      "Error processing file 441.pdf: 0\n",
      "Error processing file 173.pdf: 0\n",
      "Error processing file 347.pdf: 0\n",
      "Error processing file 98.pdf: 0\n",
      "Error processing file 265.pdf: 0\n",
      "Error processing file 415.pdf: 0\n",
      "Error processing file 348.pdf: 0\n",
      "Error processing file 339.pdf: 0\n",
      "Error processing file 612.pdf: 0\n",
      "Error processing file 137.pdf: 0\n",
      "Error processing file 407.pdf: 0\n",
      "Error processing file 379.pdf: 0\n",
      "Error processing file 42.pdf: 0\n",
      "Error processing file 60.pdf: 0\n",
      "Error processing file 590.pdf: 0\n",
      "Error processing file 11.pdf: 0\n",
      "Error processing file 146.pdf: 0\n",
      "Error processing file 107.pdf: 0\n",
      "Error processing file 217.pdf: 0\n",
      "Error processing file 630.pdf: 0\n",
      "Error processing file 502.pdf: 0\n",
      "Error processing file 95.pdf: 0\n",
      "Error processing file 389.pdf: 0\n",
      "Error processing file 201.pdf: 0\n",
      "Error processing file 623.pdf: 0\n",
      "Error processing file 461.pdf: 0\n",
      "Error processing file 396.pdf: 0\n",
      "Error processing file 35.pdf: 0\n",
      "Error processing file 275.pdf: 0\n",
      "Error processing file 554.pdf: 0\n",
      "Error processing file 57.pdf: 0\n",
      "Error processing file 154.pdf: 0\n",
      "Error processing file 474.pdf: 0\n",
      "Error processing file 432.pdf: 0\n",
      "Error processing file 29.pdf: 0\n",
      "Error processing file 224.pdf: 0\n",
      "Error processing file 120.pdf: 0\n",
      "Error processing file 187.pdf: 0\n",
      "Error processing file 109.pdf: 0\n"
     ]
    },
    {
     "name": "stderr",
     "output_type": "stream",
     "text": [
      "Loading data:  61%|██████    | 391/643 [00:01<00:00, 429.36it/s]"
     ]
    },
    {
     "name": "stdout",
     "output_type": "stream",
     "text": [
      "Error processing file 355.pdf: 0\n",
      "Error processing file 358.pdf: 0\n",
      "Error processing file 580.pdf: 0\n",
      "Error processing file 341.pdf: 0\n",
      "Error processing file 342.pdf: 0\n",
      "Error processing file 373.pdf: 0\n",
      "Error processing file 83.pdf: 0\n",
      "Error processing file 234.pdf: 0\n",
      "Error processing file 22.pdf: 0\n",
      "Error processing file 336.pdf: 0\n",
      "Error processing file 134.pdf: 0\n",
      "Error processing file 638.pdf: 0\n",
      "Error processing file 453.pdf: 0\n",
      "Error processing file 53.pdf: 0\n",
      "Error processing file 90.pdf: 0\n",
      "Error processing file 326.pdf: 0\n",
      "Error processing file 541.pdf: 0\n",
      "Error processing file 404.pdf: 0\n",
      "Error processing file 86.pdf: 0\n",
      "Error processing file 186.pdf: 0\n",
      "Error processing file 308.pdf: 0\n",
      "Error processing file 508.pdf: 0\n",
      "Error processing file 440.pdf: 0\n",
      "Error processing file 16.pdf: 0\n",
      "Error processing file 552.pdf: 0\n",
      "Error processing file 256.pdf: 0\n",
      "Error processing file 177.pdf: 0\n",
      "Error processing file 78.pdf: 0\n",
      "Error processing file 601.pdf: 0\n",
      "Error processing file 241.pdf: 0\n",
      "Error processing file 356.pdf: 0\n",
      "Error processing file 228.pdf: 0\n",
      "Error processing file 532.pdf: 0\n",
      "Error processing file 267.pdf: 0\n",
      "Error processing file 151.pdf: 0\n",
      "Error processing file 149.pdf: 0\n",
      "Error processing file 614.pdf: 0\n",
      "Error processing file 483.pdf: 0\n",
      "Error processing file 191.pdf: 0\n",
      "Error processing file 515.pdf: 0\n",
      "Error processing file 377.pdf: 0\n",
      "Error processing file 586.pdf: 0\n",
      "Error processing file 276.pdf: 0\n",
      "Error processing file 492.pdf: 0\n",
      "Error processing file 498.pdf: 0\n",
      "Error processing file 255.pdf: 0\n",
      "Error processing file 412.pdf: 0\n",
      "Error processing file 475.pdf: 0\n",
      "Error processing file 238.pdf: 0\n",
      "Error processing file 480.pdf: 0\n",
      "Error processing file 198.pdf: 0\n",
      "Error processing file 179.pdf: 0\n",
      "Error processing file 300.pdf: 0\n",
      "Error processing file 587.pdf: 0\n",
      "Error processing file 126.pdf: 0\n",
      "Error processing file 36.pdf: 0\n",
      "Error processing file 20.pdf: 0\n",
      "Error processing file 211.pdf: 0\n",
      "Error processing file 250.pdf: 0\n",
      "Error processing file 556.pdf: 0\n",
      "Error processing file 314.pdf: 0\n",
      "Error processing file 131.pdf: 0\n",
      "Error processing file 247.pdf: 0\n",
      "Error processing file 548.pdf: 0\n",
      "Error processing file 504.pdf: 0\n",
      "Error processing file 609.pdf: 0\n",
      "Error processing file 55.pdf: 0\n",
      "Error processing file 446.pdf: 0\n",
      "Error processing file 111.pdf: 0\n",
      "Error processing file 163.pdf: 0\n",
      "Error processing file 65.pdf: 0\n",
      "Error processing file 636.pdf: 0\n",
      "Error processing file 208.pdf: 0\n",
      "Error processing file 251.pdf: 0\n",
      "Error processing file 632.pdf: 0\n",
      "Error processing file 219.pdf: 0\n",
      "Error processing file 226.pdf: 0\n",
      "Error processing file 420.pdf: 0\n",
      "Error processing file 546.pdf: 0\n",
      "Error processing file 63.pdf: 0\n",
      "Error processing file 229.pdf: 0\n"
     ]
    },
    {
     "name": "stderr",
     "output_type": "stream",
     "text": [
      "Loading data:  74%|███████▍  | 477/643 [00:01<00:00, 409.67it/s]"
     ]
    },
    {
     "name": "stdout",
     "output_type": "stream",
     "text": [
      "Error processing file 495.pdf: 0\n",
      "Error processing file 617.pdf: 0\n",
      "Error processing file 39.pdf: 0\n",
      "Error processing file 568.pdf: 0\n",
      "Error processing file 599.pdf: 0\n",
      "Error processing file 301.pdf: 0\n",
      "Error processing file 66.pdf: 0\n",
      "Error processing file 363.pdf: 0\n",
      "Error processing file 320.pdf: 0\n",
      "Error processing file 239.pdf: 0\n",
      "Error processing file 181.pdf: 0\n",
      "Error processing file 96.pdf: 0\n",
      "Error processing file 466.pdf: 0\n",
      "Error processing file 387.pdf: 0\n",
      "Error processing file 578.pdf: 0\n",
      "Error processing file 422.pdf: 0\n",
      "Error processing file 312.pdf: 0\n",
      "Error processing file 596.pdf: 0\n",
      "Error processing file 592.pdf: 0\n",
      "Error processing file 264.pdf: 0\n",
      "Error processing file 169.pdf: 0\n",
      "Error processing file 171.pdf: 0\n",
      "Error processing file 165.pdf: 0\n",
      "Error processing file 180.pdf: 0\n",
      "Error processing file 242.pdf: 0\n",
      "Error processing file 309.pdf: 0\n",
      "Error processing file 91.pdf: 0\n",
      "Error processing file 600.pdf: 0\n",
      "Error processing file 48.pdf: 0\n",
      "Error processing file 94.pdf: 0\n",
      "Error processing file 325.pdf: 0\n",
      "Error processing file 425.pdf: 0\n",
      "Error processing file 448.pdf: 0\n",
      "Error processing file 571.pdf: 0\n",
      "Error processing file 76.pdf: 0\n",
      "Error processing file 197.pdf: 0\n",
      "Error processing file 588.pdf: 0\n",
      "Error processing file 34.pdf: 0\n",
      "Error processing file 581.pdf: 0\n",
      "Error processing file 430.pdf: 0\n",
      "Error processing file 400.pdf: 0\n",
      "Error processing file 454.pdf: 0\n",
      "Error processing file 4.pdf: 0\n",
      "Error processing file 593.pdf: 0\n",
      "Error processing file 8.pdf: 0\n",
      "Error processing file 485.pdf: 0\n",
      "Error processing file 68.pdf: 0\n",
      "Error processing file 607.pdf: 0\n",
      "Error processing file 102.pdf: 0\n",
      "Error processing file 472.pdf: 0\n",
      "Error processing file 125.pdf: 0\n",
      "Error processing file 84.pdf: 0\n",
      "Error processing file 302.pdf: 0\n",
      "Error processing file 281.pdf: 0\n",
      "Error processing file 388.pdf: 0\n",
      "Error processing file 375.pdf: 0\n",
      "Error processing file 172.pdf: 0\n",
      "Error processing file 567.pdf: 0\n",
      "Error processing file 414.pdf: 0\n",
      "Error processing file 512.pdf: 0\n",
      "Error processing file 622.pdf: 0\n",
      "Error processing file 357.pdf: 0\n",
      "Error processing file 481.pdf: 0\n",
      "Error processing file 585.pdf: 0\n",
      "Error processing file 274.pdf: 0\n",
      "Error processing file 537.pdf: 0\n",
      "Error processing file 15.pdf: 0\n",
      "Error processing file 635.pdf: 0\n",
      "Error processing file 87.pdf: 0\n",
      "Error processing file 620.pdf: 0\n",
      "Error processing file 536.pdf: 0\n",
      "Error processing file 291.pdf: 0\n",
      "Error processing file 382.pdf: 0\n",
      "Error processing file 333.pdf: 0\n",
      "Error processing file 519.pdf: 0\n"
     ]
    },
    {
     "name": "stderr",
     "output_type": "stream",
     "text": [
      "Loading data:  88%|████████▊ | 563/643 [00:01<00:00, 408.16it/s]"
     ]
    },
    {
     "name": "stdout",
     "output_type": "stream",
     "text": [
      "Error processing file 544.pdf: 0\n",
      "Error processing file 282.pdf: 0\n",
      "Error processing file 193.pdf: 0\n",
      "Error processing file 428.pdf: 0\n",
      "Error processing file 321.pdf: 0\n",
      "Error processing file 411.pdf: 0\n",
      "Error processing file 598.pdf: 0\n",
      "Error processing file 376.pdf: 0\n",
      "Error processing file 367.pdf: 0\n",
      "Error processing file 398.pdf: 0\n",
      "Error processing file 561.pdf: 0\n",
      "Error processing file 603.pdf: 0\n",
      "Error processing file 470.pdf: 0\n",
      "Error processing file 641.pdf: 0\n",
      "Error processing file 521.pdf: 0\n",
      "Error processing file 279.pdf: 0\n",
      "Error processing file 494.pdf: 0\n",
      "Error processing file 409.pdf: 0\n",
      "Error processing file 487.pdf: 0\n",
      "Error processing file 562.pdf: 0\n",
      "Error processing file 364.pdf: 0\n",
      "Error processing file 14.pdf: 0\n",
      "Error processing file 112.pdf: 0\n",
      "Error processing file 316.pdf: 0\n",
      "Error processing file 527.pdf: 0\n",
      "Error processing file 631.pdf: 0\n",
      "Error processing file 144.pdf: 0\n",
      "Error processing file 75.pdf: 0\n",
      "Error processing file 459.pdf: 0\n",
      "Error processing file 539.pdf: 0\n",
      "Error processing file 223.pdf: 0\n",
      "Error processing file 148.pdf: 0\n",
      "Error processing file 119.pdf: 0\n",
      "Error processing file 542.pdf: 0\n",
      "Error processing file 162.pdf: 0\n",
      "Error processing file 479.pdf: 0\n",
      "Error processing file 352.pdf: 0\n",
      "Error processing file 433.pdf: 0\n",
      "Error processing file 200.pdf: 0\n",
      "Error processing file 384.pdf: 0\n",
      "Error processing file 269.pdf: 0\n",
      "Error processing file 386.pdf: 0\n",
      "Error processing file 136.pdf: 0\n",
      "Error processing file 117.pdf: 0\n",
      "Error processing file 458.pdf: 0\n",
      "Error processing file 38.pdf: 0\n",
      "Error processing file 294.pdf: 0\n",
      "Error processing file 225.pdf: 0\n",
      "Error processing file 564.pdf: 0\n",
      "Error processing file 410.pdf: 0\n",
      "Error processing file 71.pdf: 0\n",
      "Error processing file 74.pdf: 0\n",
      "Error processing file 1.pdf: 0\n",
      "Error processing file 392.pdf: 0\n",
      "Error processing file 9.pdf: 0\n",
      "Error processing file 287.pdf: 0\n",
      "Error processing file 210.pdf: 0\n",
      "Error processing file 252.pdf: 0\n",
      "Error processing file 344.pdf: 0\n",
      "Error processing file 168.pdf: 0\n",
      "Error processing file 153.pdf: 0\n",
      "Error processing file 46.pdf: 0\n",
      "Error processing file 196.pdf: 0\n",
      "Error processing file 122.pdf: 0\n",
      "Error processing file 611.pdf: 0\n",
      "Error processing file 434.pdf: 0\n",
      "Error processing file 299.pdf: 0\n",
      "Error processing file 482.pdf: 0\n",
      "Error processing file 324.pdf: 0\n",
      "Error processing file 489.pdf: 0\n",
      "Error processing file 595.pdf: 0\n",
      "Error processing file 328.pdf: 0\n",
      "Error processing file 158.pdf: 0\n",
      "Error processing file 467.pdf: 0\n",
      "Error processing file 47.pdf: 0\n",
      "Error processing file 97.pdf: 0\n",
      "Error processing file 277.pdf: 0\n",
      "Error processing file 13.pdf: 0\n",
      "Error processing file 488.pdf: 0\n",
      "Error processing file 369.pdf: 0\n",
      "Error processing file 268.pdf: 0\n",
      "Error processing file 315.pdf: 0\n",
      "Error processing file 30.pdf: 0\n",
      "Error processing file 462.pdf: 0\n",
      "Error processing file 93.pdf: 0\n",
      "Error processing file 452.pdf: 0\n",
      "Error processing file 637.pdf: 0\n"
     ]
    },
    {
     "name": "stderr",
     "output_type": "stream",
     "text": [
      "Loading data:  94%|█████████▍| 605/643 [00:01<00:00, 399.49it/s]"
     ]
    },
    {
     "name": "stdout",
     "output_type": "stream",
     "text": [
      "Error processing file 21.pdf: 0\n",
      "Error processing file 313.pdf: 0\n",
      "Error processing file 145.pdf: 0\n",
      "Error processing file 323.pdf: 0\n",
      "Error processing file 560.pdf: 0\n",
      "Error processing file 292.pdf: 0\n",
      "Error processing file 393.pdf: 0\n",
      "Error processing file 444.pdf: 0\n",
      "Error processing file 469.pdf: 0\n",
      "Error processing file 566.pdf: 0\n",
      "Error processing file 597.pdf: 0\n",
      "Error processing file 510.pdf: 0\n",
      "Error processing file 408.pdf: 0\n",
      "Error processing file 574.pdf: 0\n",
      "Error processing file 286.pdf: 0\n",
      "Error processing file 465.pdf: 0\n",
      "Error processing file 354.pdf: 0\n",
      "Error processing file 374.pdf: 0\n",
      "Error processing file 143.pdf: 0\n",
      "Error processing file 573.pdf: 0\n",
      "Error processing file 340.pdf: 0\n",
      "Error processing file 246.pdf: 0\n",
      "Error processing file 69.pdf: 0\n",
      "Error processing file 25.pdf: 0\n",
      "Error processing file 203.pdf: 0\n",
      "Error processing file 108.pdf: 0\n",
      "Error processing file 334.pdf: 0\n",
      "Error processing file 424.pdf: 0\n",
      "Error processing file 26.pdf: 0\n",
      "Error processing file 205.pdf: 0\n",
      "Error processing file 553.pdf: 0\n",
      "Error processing file 67.pdf: 0\n",
      "Error processing file 473.pdf: 0\n",
      "Error processing file 579.pdf: 0\n",
      "Error processing file 442.pdf: 0\n",
      "Error processing file 464.pdf: 0\n",
      "Error processing file 73.pdf: 0\n",
      "Error processing file 142.pdf: 0\n",
      "Error processing file 413.pdf: 0\n",
      "Error processing file 391.pdf: 0\n",
      "Error processing file 230.pdf: 0\n",
      "Error processing file 506.pdf: 0\n",
      "Error processing file 232.pdf: 0\n",
      "Error processing file 449.pdf: 0\n",
      "Error processing file 270.pdf: 0\n",
      "Error processing file 311.pdf: 0\n",
      "Error processing file 231.pdf: 0\n",
      "Error processing file 106.pdf: 0\n",
      "Error processing file 152.pdf: 0\n",
      "Error processing file 491.pdf: 0\n",
      "Error processing file 273.pdf: 0\n",
      "Error processing file 79.pdf: 0\n"
     ]
    },
    {
     "name": "stderr",
     "output_type": "stream",
     "text": [
      "Loading data: 100%|██████████| 643/643 [00:02<00:00, 294.88it/s]"
     ]
    },
    {
     "name": "stdout",
     "output_type": "stream",
     "text": [
      "Error processing file 159.pdf: 0\n",
      "Error processing file 54.pdf: 0\n",
      "Error processing file 284.pdf: 0\n",
      "Error processing file 139.pdf: 0\n"
     ]
    },
    {
     "name": "stderr",
     "output_type": "stream",
     "text": [
      "\n",
      "Loading data:   2%|▏         | 19/1035 [00:00<00:10, 99.18it/s]"
     ]
    },
    {
     "name": "stdout",
     "output_type": "stream",
     "text": [
      "Error processing file 360.pdf: 0\n",
      "Error processing file 310.pdf: 0\n",
      "Error processing file 381.pdf: 0\n",
      "Error processing file 194.pdf: 0\n",
      "Error processing file 801.pdf: 0\n",
      "Error processing file 140.pdf: 0\n",
      "Error processing file 551.pdf: 0\n",
      "Error processing file 49.pdf: 0\n",
      "Error processing file 770.pdf: 0\n",
      "Error processing file 773.pdf: 0\n",
      "Error processing file 619.pdf: 0\n",
      "Error processing file 436.pdf: 0\n",
      "Error processing file 775.pdf: 0\n",
      "Error processing file 951.pdf: 0\n",
      "Error processing file 950.pdf: 0\n",
      "Error processing file 41.pdf: 0\n",
      "Error processing file 550.pdf: 0\n",
      "Error processing file 285.pdf: 0\n",
      "Error processing file 645.pdf: 0\n",
      "Error processing file 575.pdf: 0\n",
      "Error processing file 955.pdf: 0\n",
      "Error processing file 202.pdf: 0\n",
      "Error processing file 305.pdf: 0\n",
      "Error processing file 627.pdf: 0\n",
      "Error processing file 184.pdf: 0\n",
      "Error processing file 416.pdf: 0\n"
     ]
    },
    {
     "name": "stderr",
     "output_type": "stream",
     "text": [
      "Loading data:   6%|▋         | 66/1035 [00:00<00:05, 188.40it/s]"
     ]
    },
    {
     "name": "stdout",
     "output_type": "stream",
     "text": [
      "Error processing file 583.pdf: 0\n",
      "Error processing file 629.pdf: 0\n",
      "Error processing file 121.pdf: 0\n",
      "Error processing file 984.pdf: 0\n",
      "Error processing file 683.pdf: 0\n",
      "Error processing file 431.pdf: 0\n",
      "Error processing file 378.pdf: 0\n",
      "Error processing file 830.pdf: 0\n",
      "Error processing file 290.pdf: 0\n",
      "Error processing file 628.pdf: 0\n",
      "Error processing file 192.pdf: 0\n",
      "Error processing file 909.pdf: 0\n",
      "Error processing file 685.pdf: 0\n",
      "Error processing file 577.pdf: 0\n",
      "Error processing file 559.pdf: 0\n",
      "Error processing file 961.pdf: 0\n",
      "Error processing file 799.pdf: 0\n",
      "Error processing file 918.pdf: 0\n",
      "Error processing file 3.pdf: 0\n",
      "Error processing file 791.pdf: 0\n",
      "Error processing file 842.pdf: 0\n",
      "Error processing file 934.pdf: 0\n",
      "Error processing file 496.pdf: 0\n",
      "Error processing file 883.pdf: 0\n",
      "Error processing file 922.pdf: 0\n",
      "Error processing file 123.pdf: 0\n",
      "Error processing file 818.pdf: 0\n",
      "Error processing file 212.pdf: 0\n",
      "Error processing file 338.pdf: 0\n",
      "Error processing file 385.pdf: 0\n",
      "Error processing file 209.pdf: 0\n",
      "Error processing file 399.pdf: 0\n",
      "Error processing file 906.pdf: 0\n",
      "Error processing file 52.pdf: 0\n",
      "Error processing file 167.pdf: 0\n",
      "Error processing file 24.pdf: 0\n",
      "Error processing file 43.pdf: 0\n",
      "Error processing file 337.pdf: 0\n",
      "Error processing file 736.pdf: 0\n",
      "Error processing file 971.pdf: 0\n",
      "Error processing file 862.pdf: 0\n",
      "Error processing file 931.pdf: 0\n",
      "Error processing file 245.pdf: 0\n",
      "Error processing file 330.pdf: 0\n",
      "Error processing file 477.pdf: 0\n"
     ]
    },
    {
     "name": "stderr",
     "output_type": "stream",
     "text": [
      "Loading data:   9%|▉         | 91/1035 [00:00<00:04, 208.79it/s]"
     ]
    },
    {
     "name": "stdout",
     "output_type": "stream",
     "text": [
      "Error processing file 545.pdf: 0\n",
      "Error processing file 572.pdf: 0\n",
      "Error processing file 701.pdf: 0\n",
      "Error processing file 913.pdf: 0\n",
      "Error processing file 371.pdf: 0\n",
      "Error processing file 608.pdf: 0\n",
      "Error processing file 497.pdf: 0\n",
      "Error processing file 754.pdf: 0\n",
      "Error processing file 935.pdf: 0\n",
      "Error processing file 615.pdf: 0\n",
      "Error processing file 220.pdf: 0\n",
      "Error processing file 64.pdf: 0\n",
      "Error processing file 835.pdf: 0\n",
      "Error processing file 353.pdf: 0\n",
      "Error processing file 806.pdf: 0\n",
      "Error processing file 616.pdf: 0\n",
      "Error processing file 335.pdf: 0\n",
      "Error processing file 794.pdf: 0\n",
      "Error processing file 318.pdf: 0\n",
      "Error processing file 429.pdf: 0\n",
      "Error processing file 50.pdf: 0\n",
      "Error processing file 443.pdf: 0\n",
      "Error processing file 937.pdf: 0\n",
      "Error processing file 298.pdf: 0\n",
      "Error processing file 745.pdf: 0\n",
      "Error processing file 1021.pdf: 0\n",
      "Error processing file 204.pdf: 0\n",
      "Error processing file 522.pdf: 0\n",
      "Error processing file 819.pdf: 0\n",
      "Error processing file 887.pdf: 0\n",
      "Error processing file 565.pdf: 0\n",
      "Error processing file 362.pdf: 0\n",
      "Error processing file 836.pdf: 0\n",
      "Error processing file 738.pdf: 0\n",
      "Error processing file 61.pdf: 0\n",
      "Error processing file 718.pdf: 0\n"
     ]
    },
    {
     "name": "stderr",
     "output_type": "stream",
     "text": [
      "Loading data:  13%|█▎        | 132/1035 [00:00<00:05, 157.73it/s]"
     ]
    },
    {
     "name": "stdout",
     "output_type": "stream",
     "text": [
      "Error processing file 969.pdf: 0\n",
      "Error processing file 70.pdf: 0\n",
      "Error processing file 540.pdf: 0\n",
      "Error processing file 666.pdf: 0\n",
      "Error processing file 605.pdf: 0\n",
      "Error processing file 1020.pdf: 0\n",
      "Error processing file 513.pdf: 0\n",
      "Error processing file 372.pdf: 0\n",
      "Error processing file 289.pdf: 0\n",
      "Error processing file 817.pdf: 0\n",
      "Error processing file 702.pdf: 0\n",
      "Error processing file 712.pdf: 0\n",
      "Error processing file 19.pdf: 0\n",
      "Error processing file 214.pdf: 0\n",
      "Error processing file 243.pdf: 0\n",
      "Error processing file 397.pdf: 0\n",
      "Error processing file 345.pdf: 0\n",
      "Error processing file 297.pdf: 0\n",
      "Error processing file 549.pdf: 0\n",
      "Error processing file 803.pdf: 0\n",
      "Error processing file 670.pdf: 0\n",
      "Error processing file 59.pdf: 0\n",
      "Error processing file 785.pdf: 0\n",
      "Error processing file 500.pdf: 0\n",
      "Error processing file 721.pdf: 0\n",
      "Error processing file 141.pdf: 0\n",
      "Error processing file 51.pdf: 0\n",
      "Error processing file 786.pdf: 0\n",
      "Error processing file 988.pdf: 0\n",
      "Error processing file 841.pdf: 0\n",
      "Error processing file 23.pdf: 0\n"
     ]
    },
    {
     "name": "stderr",
     "output_type": "stream",
     "text": [
      "Loading data:  14%|█▍        | 149/1035 [00:00<00:06, 145.72it/s]"
     ]
    },
    {
     "name": "stdout",
     "output_type": "stream",
     "text": [
      "Error processing file 199.pdf: 0\n",
      "Error processing file 295.pdf: 0\n",
      "Error processing file 684.pdf: 0\n",
      "Error processing file 361.pdf: 0\n",
      "Error processing file 317.pdf: 0\n",
      "Error processing file 127.pdf: 0\n",
      "Error processing file 451.pdf: 0\n",
      "Error processing file 543.pdf: 0\n",
      "Error processing file 558.pdf: 0\n",
      "Error processing file 680.pdf: 0\n",
      "Error processing file 278.pdf: 0\n",
      "Error processing file 525.pdf: 0\n",
      "Error processing file 435.pdf: 0\n",
      "Error processing file 319.pdf: 0\n",
      "Error processing file 176.pdf: 0\n",
      "Error processing file 486.pdf: 0\n",
      "Error processing file 235.pdf: 0\n",
      "Error processing file 288.pdf: 0\n",
      "Error processing file 129.pdf: 0\n",
      "Error processing file 625.pdf: 0\n",
      "Error processing file 974.pdf: 0\n"
     ]
    },
    {
     "name": "stderr",
     "output_type": "stream",
     "text": [
      "Loading data:  17%|█▋        | 180/1035 [00:01<00:06, 138.64it/s]"
     ]
    },
    {
     "name": "stdout",
     "output_type": "stream",
     "text": [
      "Error processing file 780.pdf: 0\n",
      "Error processing file 254.pdf: 0\n",
      "Error processing file 584.pdf: 0\n",
      "Error processing file 490.pdf: 0\n",
      "Error processing file 822.pdf: 0\n",
      "Error processing file 155.pdf: 0\n",
      "Error processing file 380.pdf: 0\n",
      "Error processing file 128.pdf: 0\n",
      "Error processing file 650.pdf: 0\n",
      "Error processing file 484.pdf: 0\n",
      "Error processing file 133.pdf: 0\n",
      "Error processing file 783.pdf: 0\n",
      "Error processing file 351.pdf: 0\n",
      "Error processing file 195.pdf: 0\n",
      "Error processing file 716.pdf: 0\n",
      "Error processing file 1016.pdf: 0\n",
      "Error processing file 178.pdf: 0\n",
      "Error processing file 493.pdf: 0\n",
      "Error processing file 648.pdf: 0\n",
      "Error processing file 774.pdf: 0\n",
      "Error processing file 582.pdf: 0\n",
      "Error processing file 183.pdf: 0\n",
      "Error processing file 707.pdf: 0\n",
      "Error processing file 450.pdf: 0\n",
      "Error processing file 649.pdf: 0\n",
      "Error processing file 104.pdf: 0\n",
      "Error processing file 844.pdf: 0\n"
     ]
    },
    {
     "name": "stderr",
     "output_type": "stream",
     "text": [
      "Loading data:  20%|██        | 210/1035 [00:01<00:06, 133.06it/s]"
     ]
    },
    {
     "name": "stdout",
     "output_type": "stream",
     "text": [
      "Error processing file 1000.pdf: 0\n",
      "Error processing file 253.pdf: 0\n",
      "Error processing file 697.pdf: 0\n",
      "Error processing file 673.pdf: 0\n",
      "Error processing file 156.pdf: 0\n",
      "Error processing file 395.pdf: 0\n",
      "Error processing file 865.pdf: 0\n",
      "Error processing file 763.pdf: 0\n",
      "Error processing file 346.pdf: 0\n",
      "Error processing file 419.pdf: 0\n",
      "Error processing file 101.pdf: 0\n",
      "Error processing file 32.pdf: 0\n",
      "Error processing file 833.pdf: 0\n",
      "Error processing file 813.pdf: 0\n",
      "Error processing file 932.pdf: 0\n",
      "Error processing file 296.pdf: 0\n",
      "Error processing file 160.pdf: 0\n",
      "Error processing file 914.pdf: 0\n",
      "Error processing file 640.pdf: 0\n",
      "Error processing file 427.pdf: 0\n",
      "Error processing file 589.pdf: 0\n",
      "Error processing file 828.pdf: 0\n",
      "Error processing file 468.pdf: 0\n",
      "Error processing file 303.pdf: 0\n",
      "Error processing file 777.pdf: 0\n",
      "Error processing file 618.pdf: 0\n"
     ]
    },
    {
     "name": "stderr",
     "output_type": "stream",
     "text": [
      "Loading data:  22%|██▏       | 224/1035 [00:01<00:06, 125.80it/s]"
     ]
    },
    {
     "name": "stdout",
     "output_type": "stream",
     "text": [
      "Error processing file 233.pdf: 0\n",
      "Error processing file 1027.pdf: 0\n",
      "Error processing file 976.pdf: 0\n",
      "Error processing file 591.pdf: 0\n",
      "Error processing file 1014.pdf: 0\n",
      "Error processing file 499.pdf: 0\n",
      "Error processing file 62.pdf: 0\n",
      "Error processing file 671.pdf: 0\n",
      "Error processing file 689.pdf: 0\n",
      "Error processing file 249.pdf: 0\n",
      "Error processing file 986.pdf: 0\n",
      "Error processing file 322.pdf: 0\n",
      "Error processing file 89.pdf: 0\n",
      "Error processing file 642.pdf: 0\n",
      "Error processing file 658.pdf: 0\n",
      "Error processing file 460.pdf: 0\n",
      "Error processing file 402.pdf: 0\n",
      "Error processing file 37.pdf: 0\n",
      "Error processing file 856.pdf: 0\n",
      "Error processing file 829.pdf: 0\n",
      "Error processing file 821.pdf: 0\n",
      "Error processing file 17.pdf: 0\n"
     ]
    },
    {
     "name": "stderr",
     "output_type": "stream",
     "text": [
      "Loading data:  24%|██▍       | 250/1035 [00:01<00:06, 115.84it/s]"
     ]
    },
    {
     "name": "stdout",
     "output_type": "stream",
     "text": [
      "Error processing file 511.pdf: 0\n",
      "Error processing file 678.pdf: 0\n",
      "Error processing file 921.pdf: 0\n",
      "Error processing file 516.pdf: 0\n",
      "Error processing file 157.pdf: 0\n",
      "Error processing file 945.pdf: 0\n",
      "Error processing file 227.pdf: 0\n",
      "Error processing file 350.pdf: 0\n",
      "Error processing file 514.pdf: 0\n",
      "Error processing file 130.pdf: 0\n",
      "Error processing file 621.pdf: 0\n",
      "Error processing file 755.pdf: 0\n",
      "Error processing file 418.pdf: 0\n",
      "Error processing file 1012.pdf: 0\n",
      "Error processing file 170.pdf: 0\n",
      "Error processing file 261.pdf: 0\n",
      "Error processing file 917.pdf: 0\n",
      "Error processing file 1007.pdf: 0\n",
      "Error processing file 687.pdf: 0\n",
      "Error processing file 682.pdf: 0\n",
      "Error processing file 674.pdf: 0\n",
      "Error processing file 895.pdf: 0\n"
     ]
    },
    {
     "name": "stderr",
     "output_type": "stream",
     "text": [
      "Loading data:  26%|██▋       | 273/1035 [00:02<00:07, 101.21it/s]"
     ]
    },
    {
     "name": "stdout",
     "output_type": "stream",
     "text": [
      "Error processing file 855.pdf: 0\n",
      "Error processing file 1018.pdf: 0\n",
      "Error processing file 864.pdf: 0\n",
      "Error processing file 105.pdf: 0\n",
      "Error processing file 509.pdf: 0\n",
      "Error processing file 1033.pdf: 0\n",
      "Error processing file 576.pdf: 0\n",
      "Error processing file 977.pdf: 0\n",
      "Error processing file 423.pdf: 0\n",
      "Error processing file 33.pdf: 0\n",
      "Error processing file 2.pdf: 0\n",
      "Error processing file 283.pdf: 0\n",
      "Error processing file 188.pdf: 0\n",
      "Error processing file 626.pdf: 0\n",
      "Error processing file 248.pdf: 0\n",
      "Error processing file 445.pdf: 0\n",
      "Error processing file 891.pdf: 0\n",
      "Error processing file 518.pdf: 0\n",
      "Error processing file 216.pdf: 0\n",
      "Error processing file 946.pdf: 0\n"
     ]
    },
    {
     "name": "stderr",
     "output_type": "stream",
     "text": [
      "Loading data:  27%|██▋       | 284/1035 [00:02<00:07, 94.71it/s] "
     ]
    },
    {
     "name": "stdout",
     "output_type": "stream",
     "text": [
      "Error processing file 332.pdf: 0\n",
      "Error processing file 10.pdf: 0\n",
      "Error processing file 602.pdf: 0\n",
      "Error processing file 31.pdf: 0\n",
      "Error processing file 213.pdf: 0\n",
      "Error processing file 426.pdf: 0\n",
      "Error processing file 476.pdf: 0\n",
      "Error processing file 768.pdf: 0\n",
      "Error processing file 147.pdf: 0\n",
      "Error processing file 975.pdf: 0\n",
      "Error processing file 737.pdf: 0\n",
      "Error processing file 982.pdf: 0\n",
      "Error processing file 116.pdf: 0\n",
      "Error processing file 710.pdf: 0\n",
      "Error processing file 366.pdf: 0\n",
      "Error processing file 368.pdf: 0\n"
     ]
    },
    {
     "name": "stderr",
     "output_type": "stream",
     "text": [
      "Loading data:  30%|██▉       | 308/1035 [00:02<00:07, 99.58it/s]"
     ]
    },
    {
     "name": "stdout",
     "output_type": "stream",
     "text": [
      "Error processing file 306.pdf: 0\n",
      "Error processing file 845.pdf: 0\n",
      "Error processing file 132.pdf: 0\n",
      "Error processing file 877.pdf: 0\n",
      "Error processing file 676.pdf: 0\n",
      "Error processing file 949.pdf: 0\n",
      "Error processing file 417.pdf: 0\n",
      "Error processing file 99.pdf: 0\n",
      "Error processing file 720.pdf: 0\n",
      "Error processing file 437.pdf: 0\n",
      "Error processing file 190.pdf: 0\n",
      "Error processing file 150.pdf: 0\n",
      "Error processing file 639.pdf: 0\n",
      "Error processing file 690.pdf: 0\n",
      "Error processing file 164.pdf: 0\n",
      "Error processing file 349.pdf: 0\n",
      "Error processing file 1023.pdf: 0\n",
      "Error processing file 293.pdf: 0\n",
      "Error processing file 56.pdf: 0\n",
      "Error processing file 1003.pdf: 0\n",
      "Error processing file 820.pdf: 0\n",
      "Error processing file 874.pdf: 0\n",
      "Error processing file 534.pdf: 0\n",
      "Error processing file 764.pdf: 0\n",
      "Error processing file 796.pdf: 0\n",
      "Error processing file 987.pdf: 0\n"
     ]
    },
    {
     "name": "stderr",
     "output_type": "stream",
     "text": [
      "Loading data:  32%|███▏      | 332/1035 [00:02<00:06, 101.91it/s]"
     ]
    },
    {
     "name": "stdout",
     "output_type": "stream",
     "text": [
      "Error processing file 643.pdf: 0\n",
      "Error processing file 505.pdf: 0\n",
      "Error processing file 901.pdf: 0\n",
      "Error processing file 843.pdf: 0\n",
      "Error processing file 885.pdf: 0\n",
      "Error processing file 421.pdf: 0\n",
      "Error processing file 624.pdf: 0\n",
      "Error processing file 244.pdf: 0\n",
      "Error processing file 263.pdf: 0\n",
      "Error processing file 656.pdf: 0\n",
      "Error processing file 58.pdf: 0\n",
      "Error processing file 765.pdf: 0\n",
      "Error processing file 135.pdf: 0\n",
      "Error processing file 968.pdf: 0\n",
      "Error processing file 1006.pdf: 0\n",
      "Error processing file 723.pdf: 0\n",
      "Error processing file 175.pdf: 0\n"
     ]
    },
    {
     "name": "stderr",
     "output_type": "stream",
     "text": [
      "Loading data:  34%|███▍      | 353/1035 [00:02<00:07, 89.59it/s] "
     ]
    },
    {
     "name": "stdout",
     "output_type": "stream",
     "text": [
      "Error processing file 1032.pdf: 0\n",
      "Error processing file 547.pdf: 0\n",
      "Error processing file 897.pdf: 0\n",
      "Error processing file 776.pdf: 0\n",
      "Error processing file 507.pdf: 0\n",
      "Error processing file 457.pdf: 0\n",
      "Error processing file 215.pdf: 0\n",
      "Error processing file 329.pdf: 0\n",
      "Error processing file 733.pdf: 0\n",
      "Error processing file 652.pdf: 0\n",
      "Error processing file 1002.pdf: 0\n",
      "Error processing file 815.pdf: 0\n",
      "Error processing file 218.pdf: 0\n",
      "Error processing file 530.pdf: 0\n",
      "Error processing file 669.pdf: 0\n",
      "Error processing file 904.pdf: 0\n",
      "Error processing file 889.pdf: 0\n",
      "Error processing file 221.pdf: 0\n",
      "Error processing file 729.pdf: 0\n",
      "Error processing file 959.pdf: 0\n"
     ]
    },
    {
     "name": "stderr",
     "output_type": "stream",
     "text": [
      "Loading data:  35%|███▌      | 363/1035 [00:03<00:08, 81.80it/s]"
     ]
    },
    {
     "name": "stdout",
     "output_type": "stream",
     "text": [
      "Error processing file 594.pdf: 0\n",
      "Error processing file 262.pdf: 0\n",
      "Error processing file 713.pdf: 0\n",
      "Error processing file 910.pdf: 0\n",
      "Error processing file 100.pdf: 0\n",
      "Error processing file 359.pdf: 0\n",
      "Error processing file 831.pdf: 0\n",
      "Error processing file 749.pdf: 0\n",
      "Error processing file 778.pdf: 0\n",
      "Error processing file 872.pdf: 0\n",
      "Error processing file 731.pdf: 0\n",
      "Error processing file 804.pdf: 0\n",
      "Error processing file 257.pdf: 0\n",
      "Error processing file 939.pdf: 0\n",
      "Error processing file 222.pdf: 0\n",
      "Error processing file 370.pdf: 0\n",
      "Error processing file 390.pdf: 0\n",
      "Error processing file 757.pdf: 0\n"
     ]
    },
    {
     "name": "stderr",
     "output_type": "stream",
     "text": [
      "Loading data:  37%|███▋      | 384/1035 [00:03<00:07, 84.60it/s]"
     ]
    },
    {
     "name": "stdout",
     "output_type": "stream",
     "text": [
      "Error processing file 1015.pdf: 0\n",
      "Error processing file 868.pdf: 0\n",
      "Error processing file 1029.pdf: 0\n",
      "Error processing file 769.pdf: 0\n",
      "Error processing file 405.pdf: 0\n",
      "Error processing file 1001.pdf: 0\n",
      "Error processing file 896.pdf: 0\n",
      "Error processing file 995.pdf: 0\n",
      "Error processing file 40.pdf: 0\n",
      "Error processing file 570.pdf: 0\n",
      "Error processing file 750.pdf: 0\n",
      "Error processing file 81.pdf: 0\n",
      "Error processing file 978.pdf: 0\n",
      "Error processing file 563.pdf: 0\n",
      "Error processing file 890.pdf: 0\n",
      "Error processing file 161.pdf: 0\n",
      "Error processing file 533.pdf: 0\n"
     ]
    },
    {
     "name": "stderr",
     "output_type": "stream",
     "text": [
      "Loading data:  39%|███▉      | 405/1035 [00:03<00:08, 78.05it/s]"
     ]
    },
    {
     "name": "stdout",
     "output_type": "stream",
     "text": [
      "Error processing file 878.pdf: 0\n",
      "Error processing file 892.pdf: 0\n",
      "Error processing file 114.pdf: 0\n",
      "Error processing file 182.pdf: 0\n",
      "Error processing file 1026.pdf: 0\n",
      "Error processing file 92.pdf: 0\n",
      "Error processing file 77.pdf: 0\n",
      "Error processing file 347.pdf: 0\n",
      "Error processing file 808.pdf: 0\n",
      "Error processing file 272.pdf: 0\n",
      "Error processing file 401.pdf: 0\n",
      "Error processing file 206.pdf: 0\n",
      "Error processing file 403.pdf: 0\n",
      "Error processing file 6.pdf: 0\n",
      "Error processing file 1004.pdf: 0\n",
      "Error processing file 44.pdf: 0\n"
     ]
    },
    {
     "name": "stderr",
     "output_type": "stream",
     "text": [
      "Loading data:  40%|████      | 419/1035 [00:03<00:06, 92.77it/s]"
     ]
    },
    {
     "name": "stdout",
     "output_type": "stream",
     "text": [
      "Error processing file 744.pdf: 0\n",
      "Error processing file 851.pdf: 0\n",
      "Error processing file 538.pdf: 0\n",
      "Error processing file 852.pdf: 0\n",
      "Error processing file 27.pdf: 0\n",
      "Error processing file 478.pdf: 0\n",
      "Error processing file 365.pdf: 0\n",
      "Error processing file 80.pdf: 0\n",
      "Error processing file 613.pdf: 0\n",
      "Error processing file 110.pdf: 0\n",
      "Error processing file 85.pdf: 0\n",
      "Error processing file 963.pdf: 0\n",
      "Error processing file 634.pdf: 0\n",
      "Error processing file 259.pdf: 0\n",
      "Error processing file 166.pdf: 0\n",
      "Error processing file 471.pdf: 0\n",
      "Error processing file 45.pdf: 0\n",
      "Error processing file 728.pdf: 0\n",
      "Error processing file 124.pdf: 0\n",
      "Error processing file 693.pdf: 0\n",
      "Error processing file 992.pdf: 0\n",
      "Error processing file 339.pdf: 0\n",
      "Error processing file 1028.pdf: 0\n",
      "Error processing file 432.pdf: 0\n",
      "Error processing file 503.pdf: 0\n",
      "Error processing file 529.pdf: 0\n",
      "Error processing file 394.pdf: 0\n",
      "Error processing file 72.pdf: 0\n"
     ]
    },
    {
     "name": "stderr",
     "output_type": "stream",
     "text": [
      "Loading data:  43%|████▎     | 448/1035 [00:03<00:05, 110.45it/s]"
     ]
    },
    {
     "name": "stdout",
     "output_type": "stream",
     "text": [
      "Error processing file 854.pdf: 0\n",
      "Error processing file 523.pdf: 0\n",
      "Error processing file 610.pdf: 0\n",
      "Error processing file 923.pdf: 0\n",
      "Error processing file 463.pdf: 0\n",
      "Error processing file 207.pdf: 0\n",
      "Error processing file 664.pdf: 0\n",
      "Error processing file 972.pdf: 0\n",
      "Error processing file 118.pdf: 0\n",
      "Error processing file 57.pdf: 0\n",
      "Error processing file 520.pdf: 0\n",
      "Error processing file 942.pdf: 0\n",
      "Error processing file 528.pdf: 0\n",
      "Error processing file 396.pdf: 0\n",
      "Error processing file 662.pdf: 0\n",
      "Error processing file 900.pdf: 0\n",
      "Error processing file 173.pdf: 0\n",
      "Error processing file 461.pdf: 0\n",
      "Error processing file 447.pdf: 0\n",
      "Error processing file 456.pdf: 0\n",
      "Error processing file 201.pdf: 0\n",
      "Error processing file 535.pdf: 0\n",
      "Error processing file 623.pdf: 0\n",
      "Error processing file 555.pdf: 0\n"
     ]
    },
    {
     "name": "stderr",
     "output_type": "stream",
     "text": [
      "Loading data:  46%|████▌     | 472/1035 [00:04<00:05, 109.79it/s]"
     ]
    },
    {
     "name": "stdout",
     "output_type": "stream",
     "text": [
      "Error processing file 779.pdf: 0\n",
      "Error processing file 747.pdf: 0\n",
      "Error processing file 724.pdf: 0\n",
      "Error processing file 882.pdf: 0\n",
      "Error processing file 730.pdf: 0\n",
      "Error processing file 189.pdf: 0\n",
      "Error processing file 115.pdf: 0\n",
      "Error processing file 644.pdf: 0\n",
      "Error processing file 675.pdf: 0\n",
      "Error processing file 827.pdf: 0\n",
      "Error processing file 373.pdf: 0\n",
      "Error processing file 704.pdf: 0\n",
      "Error processing file 271.pdf: 0\n",
      "Error processing file 524.pdf: 0\n",
      "Error processing file 258.pdf: 0\n",
      "Error processing file 343.pdf: 0\n",
      "Error processing file 146.pdf: 0\n",
      "Error processing file 762.pdf: 0\n",
      "Error processing file 590.pdf: 0\n",
      "Error processing file 964.pdf: 0\n",
      "Error processing file 236.pdf: 0\n",
      "Error processing file 174.pdf: 0\n",
      "Error processing file 876.pdf: 0\n",
      "Error processing file 557.pdf: 0\n"
     ]
    },
    {
     "name": "stderr",
     "output_type": "stream",
     "text": [
      "Loading data:  48%|████▊     | 497/1035 [00:04<00:04, 113.74it/s]"
     ]
    },
    {
     "name": "stdout",
     "output_type": "stream",
     "text": [
      "Error processing file 531.pdf: 0\n",
      "Error processing file 20.pdf: 0\n",
      "Error processing file 1017.pdf: 0\n",
      "Error processing file 240.pdf: 0\n",
      "Error processing file 7.pdf: 0\n",
      "Error processing file 944.pdf: 0\n",
      "Error processing file 659.pdf: 0\n",
      "Error processing file 356.pdf: 0\n",
      "Error processing file 98.pdf: 0\n",
      "Error processing file 327.pdf: 0\n",
      "Error processing file 807.pdf: 0\n",
      "Error processing file 90.pdf: 0\n",
      "Error processing file 377.pdf: 0\n",
      "Error processing file 120.pdf: 0\n",
      "Error processing file 517.pdf: 0\n",
      "Error processing file 633.pdf: 0\n",
      "Error processing file 651.pdf: 0\n",
      "Error processing file 501.pdf: 0\n",
      "Error processing file 811.pdf: 0\n",
      "Error processing file 415.pdf: 0\n",
      "Error processing file 113.pdf: 0\n",
      "Error processing file 748.pdf: 0\n"
     ]
    },
    {
     "name": "stderr",
     "output_type": "stream",
     "text": [
      "Loading data:  50%|█████     | 521/1035 [00:04<00:05, 98.96it/s] "
     ]
    },
    {
     "name": "stdout",
     "output_type": "stream",
     "text": [
      "Error processing file 612.pdf: 0\n",
      "Error processing file 326.pdf: 0\n",
      "Error processing file 466.pdf: 0\n",
      "Error processing file 554.pdf: 0\n",
      "Error processing file 18.pdf: 0\n",
      "Error processing file 810.pdf: 0\n",
      "Error processing file 994.pdf: 0\n",
      "Error processing file 331.pdf: 0\n",
      "Error processing file 893.pdf: 0\n",
      "Error processing file 137.pdf: 0\n",
      "Error processing file 638.pdf: 0\n",
      "Error processing file 12.pdf: 0\n",
      "Error processing file 884.pdf: 0\n",
      "Error processing file 109.pdf: 0\n",
      "Error processing file 198.pdf: 0\n",
      "Error processing file 761.pdf: 0\n",
      "Error processing file 439.pdf: 0\n"
     ]
    },
    {
     "name": "stderr",
     "output_type": "stream",
     "text": [
      "Loading data:  51%|█████▏    | 532/1035 [00:04<00:05, 85.65it/s]"
     ]
    },
    {
     "name": "stdout",
     "output_type": "stream",
     "text": [
      "Error processing file 580.pdf: 0\n",
      "Error processing file 389.pdf: 0\n",
      "Error processing file 916.pdf: 0\n",
      "Error processing file 82.pdf: 0\n",
      "Error processing file 441.pdf: 0\n",
      "Error processing file 502.pdf: 0\n",
      "Error processing file 980.pdf: 0\n",
      "Error processing file 251.pdf: 0\n",
      "Error processing file 83.pdf: 0\n",
      "Error processing file 342.pdf: 0\n",
      "Error processing file 379.pdf: 0\n",
      "Error processing file 908.pdf: 0\n",
      "Error processing file 29.pdf: 0\n",
      "Error processing file 154.pdf: 0\n",
      "Error processing file 265.pdf: 0\n",
      "Error processing file 280.pdf: 0\n",
      "Error processing file 307.pdf: 0\n",
      "Error processing file 661.pdf: 0\n",
      "Error processing file 53.pdf: 0\n",
      "Error processing file 304.pdf: 0\n",
      "Error processing file 336.pdf: 0\n"
     ]
    },
    {
     "name": "stderr",
     "output_type": "stream",
     "text": [
      "Loading data:  54%|█████▍    | 563/1035 [00:05<00:04, 108.93it/s]"
     ]
    },
    {
     "name": "stdout",
     "output_type": "stream",
     "text": [
      "Error processing file 1022.pdf: 0\n",
      "Error processing file 809.pdf: 0\n",
      "Error processing file 860.pdf: 0\n",
      "Error processing file 95.pdf: 0\n",
      "Error processing file 256.pdf: 0\n",
      "Error processing file 630.pdf: 0\n",
      "Error processing file 224.pdf: 0\n",
      "Error processing file 11.pdf: 0\n",
      "Error processing file 711.pdf: 0\n",
      "Error processing file 952.pdf: 0\n",
      "Error processing file 22.pdf: 0\n",
      "Error processing file 920.pdf: 0\n",
      "Error processing file 853.pdf: 0\n",
      "Error processing file 103.pdf: 0\n",
      "Error processing file 847.pdf: 0\n",
      "Error processing file 967.pdf: 0\n",
      "Error processing file 569.pdf: 0\n",
      "Error processing file 134.pdf: 0\n",
      "Error processing file 453.pdf: 0\n",
      "Error processing file 275.pdf: 0\n",
      "Error processing file 234.pdf: 0\n",
      "Error processing file 267.pdf: 0\n",
      "Error processing file 960.pdf: 0\n",
      "Error processing file 358.pdf: 0\n",
      "Error processing file 383.pdf: 0\n"
     ]
    },
    {
     "name": "stderr",
     "output_type": "stream",
     "text": [
      "Loading data:  57%|█████▋    | 595/1035 [00:05<00:03, 130.73it/s]"
     ]
    },
    {
     "name": "stdout",
     "output_type": "stream",
     "text": [
      "Error processing file 341.pdf: 0\n",
      "Error processing file 177.pdf: 0\n",
      "Error processing file 508.pdf: 0\n",
      "Error processing file 151.pdf: 0\n",
      "Error processing file 60.pdf: 0\n",
      "Error processing file 355.pdf: 0\n",
      "Error processing file 16.pdf: 0\n",
      "Error processing file 446.pdf: 0\n",
      "Error processing file 42.pdf: 0\n",
      "Error processing file 260.pdf: 0\n",
      "Error processing file 308.pdf: 0\n",
      "Error processing file 320.pdf: 0\n",
      "Error processing file 999.pdf: 0\n",
      "Error processing file 226.pdf: 0\n",
      "Error processing file 255.pdf: 0\n",
      "Error processing file 940.pdf: 0\n",
      "Error processing file 607.pdf: 0\n",
      "Error processing file 65.pdf: 0\n",
      "Error processing file 857.pdf: 0\n",
      "Error processing file 902.pdf: 0\n",
      "Error processing file 989.pdf: 0\n",
      "Error processing file 406.pdf: 0\n",
      "Error processing file 1013.pdf: 0\n",
      "Error processing file 548.pdf: 0\n",
      "Error processing file 404.pdf: 0\n",
      "Error processing file 515.pdf: 0\n",
      "Error processing file 990.pdf: 0\n",
      "Error processing file 705.pdf: 0\n",
      "Error processing file 636.pdf: 0\n",
      "Error processing file 247.pdf: 0\n",
      "Error processing file 996.pdf: 0\n",
      "Error processing file 956.pdf: 0\n",
      "Error processing file 962.pdf: 0\n"
     ]
    },
    {
     "name": "stderr",
     "output_type": "stream",
     "text": [
      "Loading data:  59%|█████▉    | 609/1035 [00:05<00:03, 125.11it/s]"
     ]
    },
    {
     "name": "stdout",
     "output_type": "stream",
     "text": [
      "Error processing file 348.pdf: 0\n",
      "Error processing file 1019.pdf: 0\n",
      "Error processing file 907.pdf: 0\n",
      "Error processing file 238.pdf: 0\n",
      "Error processing file 696.pdf: 0\n",
      "Error processing file 363.pdf: 0\n",
      "Error processing file 407.pdf: 0\n",
      "Error processing file 873.pdf: 0\n",
      "Error processing file 186.pdf: 0\n",
      "Error processing file 276.pdf: 0\n",
      "Error processing file 657.pdf: 0\n",
      "Error processing file 483.pdf: 0\n",
      "Error processing file 727.pdf: 0\n",
      "Error processing file 78.pdf: 0\n",
      "Error processing file 191.pdf: 0\n",
      "Error processing file 314.pdf: 0\n",
      "Error processing file 39.pdf: 0\n",
      "Error processing file 480.pdf: 0\n",
      "Error processing file 28.pdf: 0\n",
      "Error processing file 412.pdf: 0\n"
     ]
    },
    {
     "name": "stderr",
     "output_type": "stream",
     "text": [
      "Loading data:  61%|██████▏   | 634/1035 [00:05<00:03, 109.45it/s]"
     ]
    },
    {
     "name": "stdout",
     "output_type": "stream",
     "text": [
      "Error processing file 264.pdf: 0\n",
      "Error processing file 455.pdf: 0\n",
      "Error processing file 111.pdf: 0\n",
      "Error processing file 420.pdf: 0\n",
      "Error processing file 812.pdf: 0\n",
      "Error processing file 598.pdf: 0\n",
      "Error processing file 474.pdf: 0\n",
      "Error processing file 131.pdf: 0\n",
      "Error processing file 15.pdf: 0\n",
      "Error processing file 219.pdf: 0\n",
      "Error processing file 571.pdf: 0\n",
      "Error processing file 498.pdf: 0\n",
      "Error processing file 541.pdf: 0\n",
      "Error processing file 526.pdf: 0\n",
      "Error processing file 617.pdf: 0\n",
      "Error processing file 138.pdf: 0\n",
      "Error processing file 309.pdf: 0\n",
      "Error processing file 614.pdf: 0\n",
      "Error processing file 163.pdf: 0\n",
      "Error processing file 1030.pdf: 0\n",
      "Error processing file 698.pdf: 0\n",
      "Error processing file 512.pdf: 0\n",
      "Error processing file 422.pdf: 0\n"
     ]
    },
    {
     "name": "stderr",
     "output_type": "stream",
     "text": [
      "Loading data:  64%|██████▍   | 662/1035 [00:05<00:03, 117.23it/s]"
     ]
    },
    {
     "name": "stdout",
     "output_type": "stream",
     "text": [
      "Error processing file 879.pdf: 0\n",
      "Error processing file 936.pdf: 0\n",
      "Error processing file 660.pdf: 0\n",
      "Error processing file 126.pdf: 0\n",
      "Error processing file 816.pdf: 0\n",
      "Error processing file 179.pdf: 0\n",
      "Error processing file 172.pdf: 0\n",
      "Error processing file 552.pdf: 0\n",
      "Error processing file 36.pdf: 0\n",
      "Error processing file 599.pdf: 0\n",
      "Error processing file 568.pdf: 0\n",
      "Error processing file 725.pdf: 0\n",
      "Error processing file 880.pdf: 0\n",
      "Error processing file 425.pdf: 0\n",
      "Error processing file 593.pdf: 0\n",
      "Error processing file 581.pdf: 0\n",
      "Error processing file 881.pdf: 0\n",
      "Error processing file 495.pdf: 0\n",
      "Error processing file 96.pdf: 0\n",
      "Error processing file 504.pdf: 0\n",
      "Error processing file 312.pdf: 0\n",
      "Error processing file 667.pdf: 0\n",
      "Error processing file 772.pdf: 0\n",
      "Error processing file 692.pdf: 0\n",
      "Error processing file 767.pdf: 0\n"
     ]
    },
    {
     "name": "stderr",
     "output_type": "stream",
     "text": [
      "Loading data:  65%|██████▌   | 674/1035 [00:05<00:03, 112.93it/s]"
     ]
    },
    {
     "name": "stdout",
     "output_type": "stream",
     "text": [
      "Error processing file 239.pdf: 0\n",
      "Error processing file 869.pdf: 0\n",
      "Error processing file 300.pdf: 0\n",
      "Error processing file 993.pdf: 0\n",
      "Error processing file 586.pdf: 0\n",
      "Error processing file 229.pdf: 0\n",
      "Error processing file 250.pdf: 0\n",
      "Error processing file 719.pdf: 0\n",
      "Error processing file 635.pdf: 0\n",
      "Error processing file 211.pdf: 0\n",
      "Error processing file 387.pdf: 0\n",
      "Error processing file 795.pdf: 0\n",
      "Error processing file 197.pdf: 0\n",
      "Error processing file 440.pdf: 0\n",
      "Error processing file 706.pdf: 0\n",
      "Error processing file 66.pdf: 0\n"
     ]
    },
    {
     "name": "stderr",
     "output_type": "stream",
     "text": [
      "Loading data:  67%|██████▋   | 697/1035 [00:06<00:03, 87.87it/s] "
     ]
    },
    {
     "name": "stdout",
     "output_type": "stream",
     "text": [
      "Error processing file 592.pdf: 0\n",
      "Error processing file 679.pdf: 0\n",
      "Error processing file 34.pdf: 0\n",
      "Error processing file 180.pdf: 0\n",
      "Error processing file 481.pdf: 0\n",
      "Error processing file 556.pdf: 0\n",
      "Error processing file 84.pdf: 0\n",
      "Error processing file 604.pdf: 0\n",
      "Error processing file 448.pdf: 0\n",
      "Error processing file 55.pdf: 0\n",
      "Error processing file 905.pdf: 0\n",
      "Error processing file 637.pdf: 0\n",
      "Error processing file 241.pdf: 0\n"
     ]
    },
    {
     "name": "stderr",
     "output_type": "stream",
     "text": [
      "Loading data:  68%|██████▊   | 707/1035 [00:06<00:04, 75.92it/s]"
     ]
    },
    {
     "name": "stdout",
     "output_type": "stream",
     "text": [
      "Error processing file 620.pdf: 0\n",
      "Error processing file 888.pdf: 0\n",
      "Error processing file 165.pdf: 0\n",
      "Error processing file 578.pdf: 0\n",
      "Error processing file 875.pdf: 0\n",
      "Error processing file 102.pdf: 0\n",
      "Error processing file 997.pdf: 0\n",
      "Error processing file 546.pdf: 0\n",
      "Error processing file 281.pdf: 0\n",
      "Error processing file 1005.pdf: 0\n",
      "Error processing file 866.pdf: 0\n",
      "Error processing file 740.pdf: 0\n",
      "Error processing file 927.pdf: 0\n",
      "Error processing file 400.pdf: 0\n"
     ]
    },
    {
     "name": "stderr",
     "output_type": "stream",
     "text": [
      "Loading data:  70%|███████   | 729/1035 [00:06<00:03, 81.29it/s]"
     ]
    },
    {
     "name": "stdout",
     "output_type": "stream",
     "text": [
      "Error processing file 970.pdf: 0\n",
      "Error processing file 823.pdf: 0\n",
      "Error processing file 585.pdf: 0\n",
      "Error processing file 375.pdf: 0\n",
      "Error processing file 94.pdf: 0\n",
      "Error processing file 609.pdf: 0\n",
      "Error processing file 622.pdf: 0\n",
      "Error processing file 926.pdf: 0\n",
      "Error processing file 561.pdf: 0\n",
      "Error processing file 169.pdf: 0\n",
      "Error processing file 485.pdf: 0\n",
      "Error processing file 726.pdf: 0\n",
      "Error processing file 75.pdf: 0\n",
      "Error processing file 694.pdf: 0\n",
      "Error processing file 632.pdf: 0\n",
      "Error processing file 472.pdf: 0\n",
      "Error processing file 162.pdf: 0\n",
      "Error processing file 805.pdf: 0\n",
      "Error processing file 171.pdf: 0\n",
      "Error processing file 665.pdf: 0\n"
     ]
    },
    {
     "name": "stderr",
     "output_type": "stream",
     "text": [
      "Loading data:  73%|███████▎  | 752/1035 [00:06<00:03, 91.96it/s]"
     ]
    },
    {
     "name": "stdout",
     "output_type": "stream",
     "text": [
      "Error processing file 208.pdf: 0\n",
      "Error processing file 646.pdf: 0\n",
      "Error processing file 691.pdf: 0\n",
      "Error processing file 487.pdf: 0\n",
      "Error processing file 739.pdf: 0\n",
      "Error processing file 409.pdf: 0\n",
      "Error processing file 228.pdf: 0\n",
      "Error processing file 519.pdf: 0\n",
      "Error processing file 797.pdf: 0\n",
      "Error processing file 735.pdf: 0\n",
      "Error processing file 125.pdf: 0\n",
      "Error processing file 715.pdf: 0\n",
      "Error processing file 4.pdf: 0\n",
      "Error processing file 357.pdf: 0\n",
      "Error processing file 382.pdf: 0\n",
      "Error processing file 802.pdf: 0\n",
      "Error processing file 291.pdf: 0\n",
      "Error processing file 753.pdf: 0\n",
      "Error processing file 410.pdf: 0\n",
      "Error processing file 454.pdf: 0\n",
      "Error processing file 788.pdf: 0\n",
      "Error processing file 759.pdf: 0\n",
      "Error processing file 784.pdf: 0\n"
     ]
    },
    {
     "name": "stderr",
     "output_type": "stream",
     "text": [
      "Loading data:  74%|███████▎  | 763/1035 [00:07<00:03, 87.26it/s]"
     ]
    },
    {
     "name": "stdout",
     "output_type": "stream",
     "text": [
      "Error processing file 915.pdf: 0\n",
      "Error processing file 742.pdf: 0\n",
      "Error processing file 388.pdf: 0\n",
      "Error processing file 688.pdf: 0\n",
      "Error processing file 703.pdf: 0\n",
      "Error processing file 600.pdf: 0\n",
      "Error processing file 1034.pdf: 0\n",
      "Error processing file 760.pdf: 0\n",
      "Error processing file 663.pdf: 0\n",
      "Error processing file 562.pdf: 0\n",
      "Error processing file 386.pdf: 0\n",
      "Error processing file 76.pdf: 0\n",
      "Error processing file 564.pdf: 0\n"
     ]
    },
    {
     "name": "stderr",
     "output_type": "stream",
     "text": [
      "Loading data:  75%|███████▌  | 781/1035 [00:07<00:03, 77.84it/s]"
     ]
    },
    {
     "name": "stdout",
     "output_type": "stream",
     "text": [
      "Error processing file 1.pdf: 0\n",
      "Error processing file 414.pdf: 0\n",
      "Error processing file 985.pdf: 0\n",
      "Error processing file 717.pdf: 0\n",
      "Error processing file 489.pdf: 0\n",
      "Error processing file 316.pdf: 0\n",
      "Error processing file 87.pdf: 0\n",
      "Error processing file 112.pdf: 0\n",
      "Error processing file 274.pdf: 0\n",
      "Error processing file 911.pdf: 0\n",
      "Error processing file 537.pdf: 0\n",
      "Error processing file 71.pdf: 0\n",
      "Error processing file 641.pdf: 0\n",
      "Error processing file 168.pdf: 0\n",
      "Error processing file 470.pdf: 0\n"
     ]
    },
    {
     "name": "stderr",
     "output_type": "stream",
     "text": [
      "Loading data:  77%|███████▋  | 797/1035 [00:07<00:03, 74.46it/s]"
     ]
    },
    {
     "name": "stdout",
     "output_type": "stream",
     "text": [
      "Error processing file 850.pdf: 0\n",
      "Error processing file 266.pdf: 0\n",
      "Error processing file 611.pdf: 0\n",
      "Error processing file 840.pdf: 0\n",
      "Error processing file 210.pdf: 0\n",
      "Error processing file 871.pdf: 0\n",
      "Error processing file 521.pdf: 0\n",
      "Error processing file 149.pdf: 0\n",
      "Error processing file 203.pdf: 0\n",
      "Error processing file 302.pdf: 0\n",
      "Error processing file 217.pdf: 0\n",
      "Error processing file 1011.pdf: 0\n",
      "Error processing file 681.pdf: 0\n",
      "Error processing file 91.pdf: 0\n",
      "Error processing file 294.pdf: 0\n"
     ]
    },
    {
     "name": "stderr",
     "output_type": "stream",
     "text": [
      "Loading data:  79%|███████▉  | 816/1035 [00:07<00:02, 83.49it/s]"
     ]
    },
    {
     "name": "stdout",
     "output_type": "stream",
     "text": [
      "Error processing file 282.pdf: 0\n",
      "Error processing file 1010.pdf: 0\n",
      "Error processing file 223.pdf: 0\n",
      "Error processing file 789.pdf: 0\n",
      "Error processing file 459.pdf: 0\n",
      "Error processing file 367.pdf: 0\n",
      "Error processing file 953.pdf: 0\n",
      "Error processing file 411.pdf: 0\n",
      "Error processing file 494.pdf: 0\n",
      "Error processing file 708.pdf: 0\n",
      "Error processing file 187.pdf: 0\n",
      "Error processing file 384.pdf: 0\n",
      "Error processing file 948.pdf: 0\n",
      "Error processing file 542.pdf: 0\n",
      "Error processing file 527.pdf: 0\n",
      "Error processing file 376.pdf: 0\n",
      "Error processing file 603.pdf: 0\n",
      "Error processing file 364.pdf: 0\n",
      "Error processing file 63.pdf: 0\n"
     ]
    },
    {
     "name": "stderr",
     "output_type": "stream",
     "text": [
      "Loading data:  80%|███████▉  | 825/1035 [00:07<00:02, 81.43it/s]"
     ]
    },
    {
     "name": "stdout",
     "output_type": "stream",
     "text": [
      "Error processing file 269.pdf: 0\n",
      "Error processing file 479.pdf: 0\n",
      "Error processing file 321.pdf: 0\n",
      "Error processing file 544.pdf: 0\n",
      "Error processing file 14.pdf: 0\n",
      "Error processing file 9.pdf: 0\n",
      "Error processing file 919.pdf: 0\n",
      "Error processing file 225.pdf: 0\n",
      "Error processing file 825.pdf: 0\n",
      "Error processing file 492.pdf: 0\n",
      "Error processing file 699.pdf: 0\n",
      "Error processing file 433.pdf: 0\n",
      "Error processing file 352.pdf: 0\n",
      "Error processing file 668.pdf: 0\n"
     ]
    },
    {
     "name": "stderr",
     "output_type": "stream",
     "text": [
      "Loading data:  82%|████████▏ | 846/1035 [00:08<00:02, 87.48it/s]"
     ]
    },
    {
     "name": "stdout",
     "output_type": "stream",
     "text": [
      "Error processing file 539.pdf: 0\n",
      "Error processing file 647.pdf: 0\n",
      "Error processing file 392.pdf: 0\n",
      "Error processing file 700.pdf: 0\n",
      "Error processing file 68.pdf: 0\n",
      "Error processing file 287.pdf: 0\n",
      "Error processing file 1025.pdf: 0\n",
      "Error processing file 193.pdf: 0\n",
      "Error processing file 601.pdf: 0\n",
      "Error processing file 938.pdf: 0\n",
      "Error processing file 144.pdf: 0\n",
      "Error processing file 832.pdf: 0\n",
      "Error processing file 943.pdf: 0\n",
      "Error processing file 798.pdf: 0\n",
      "Error processing file 631.pdf: 0\n",
      "Error processing file 567.pdf: 0\n",
      "Error processing file 957.pdf: 0\n",
      "Error processing file 958.pdf: 0\n",
      "Error processing file 732.pdf: 0\n",
      "Error processing file 252.pdf: 0\n",
      "Error processing file 344.pdf: 0\n",
      "Error processing file 467.pdf: 0\n"
     ]
    },
    {
     "name": "stderr",
     "output_type": "stream",
     "text": [
      "Loading data:  84%|████████▍ | 872/1035 [00:08<00:01, 107.46it/s]"
     ]
    },
    {
     "name": "stdout",
     "output_type": "stream",
     "text": [
      "Error processing file 824.pdf: 0\n",
      "Error processing file 1009.pdf: 0\n",
      "Error processing file 695.pdf: 0\n",
      "Error processing file 328.pdf: 0\n",
      "Error processing file 38.pdf: 0\n",
      "Error processing file 482.pdf: 0\n",
      "Error processing file 299.pdf: 0\n",
      "Error processing file 858.pdf: 0\n",
      "Error processing file 119.pdf: 0\n",
      "Error processing file 983.pdf: 0\n",
      "Error processing file 13.pdf: 0\n",
      "Error processing file 458.pdf: 0\n",
      "Error processing file 279.pdf: 0\n",
      "Error processing file 246.pdf: 0\n",
      "Error processing file 434.pdf: 0\n",
      "Error processing file 46.pdf: 0\n",
      "Error processing file 465.pdf: 0\n",
      "Error processing file 74.pdf: 0\n",
      "Error processing file 277.pdf: 0\n",
      "Error processing file 136.pdf: 0\n",
      "Error processing file 324.pdf: 0\n",
      "Error processing file 973.pdf: 0\n",
      "Error processing file 122.pdf: 0\n",
      "Error processing file 158.pdf: 0\n",
      "Error processing file 898.pdf: 0\n"
     ]
    },
    {
     "name": "stderr",
     "output_type": "stream",
     "text": [
      "Loading data:  86%|████████▋ | 894/1035 [00:08<00:01, 100.43it/s]"
     ]
    },
    {
     "name": "stdout",
     "output_type": "stream",
     "text": [
      "Error processing file 237.pdf: 0\n",
      "Error processing file 323.pdf: 0\n",
      "Error processing file 200.pdf: 0\n",
      "Error processing file 966.pdf: 0\n",
      "Error processing file 849.pdf: 0\n",
      "Error processing file 334.pdf: 0\n",
      "Error processing file 153.pdf: 0\n",
      "Error processing file 998.pdf: 0\n",
      "Error processing file 35.pdf: 0\n",
      "Error processing file 848.pdf: 0\n",
      "Error processing file 152.pdf: 0\n",
      "Error processing file 391.pdf: 0\n",
      "Error processing file 1024.pdf: 0\n",
      "Error processing file 560.pdf: 0\n",
      "Error processing file 790.pdf: 0\n",
      "Error processing file 859.pdf: 0\n",
      "Error processing file 838.pdf: 0\n",
      "Error processing file 756.pdf: 0\n",
      "Error processing file 814.pdf: 0\n",
      "Error processing file 26.pdf: 0\n"
     ]
    },
    {
     "name": "stderr",
     "output_type": "stream",
     "text": [
      "Loading data:  88%|████████▊ | 915/1035 [00:08<00:01, 98.21it/s] "
     ]
    },
    {
     "name": "stdout",
     "output_type": "stream",
     "text": [
      "Error processing file 196.pdf: 0\n",
      "Error processing file 933.pdf: 0\n",
      "Error processing file 67.pdf: 0\n",
      "Error processing file 751.pdf: 0\n",
      "Error processing file 579.pdf: 0\n",
      "Error processing file 369.pdf: 0\n",
      "Error processing file 21.pdf: 0\n",
      "Error processing file 741.pdf: 0\n",
      "Error processing file 469.pdf: 0\n",
      "Error processing file 185.pdf: 0\n",
      "Error processing file 1031.pdf: 0\n",
      "Error processing file 947.pdf: 0\n",
      "Error processing file 292.pdf: 0\n",
      "Error processing file 886.pdf: 0\n",
      "Error processing file 444.pdf: 0\n",
      "Error processing file 48.pdf: 0\n",
      "Error processing file 941.pdf: 0\n",
      "Error processing file 870.pdf: 0\n",
      "Error processing file 97.pdf: 0\n"
     ]
    },
    {
     "name": "stderr",
     "output_type": "stream",
     "text": [
      "Loading data:  90%|█████████ | 935/1035 [00:09<00:01, 91.63it/s]"
     ]
    },
    {
     "name": "stdout",
     "output_type": "stream",
     "text": [
      "Error processing file 286.pdf: 0\n",
      "Error processing file 928.pdf: 0\n",
      "Error processing file 30.pdf: 0\n",
      "Error processing file 781.pdf: 0\n",
      "Error processing file 488.pdf: 0\n",
      "Error processing file 595.pdf: 0\n",
      "Error processing file 93.pdf: 0\n",
      "Error processing file 117.pdf: 0\n",
      "Error processing file 597.pdf: 0\n",
      "Error processing file 596.pdf: 0\n",
      "Error processing file 148.pdf: 0\n",
      "Error processing file 462.pdf: 0\n",
      "Error processing file 746.pdf: 0\n",
      "Error processing file 894.pdf: 0\n",
      "Error processing file 532.pdf: 0\n",
      "Error processing file 979.pdf: 0\n",
      "Error processing file 428.pdf: 0\n",
      "Error processing file 965.pdf: 0\n",
      "Error processing file 313.pdf: 0\n",
      "Error processing file 393.pdf: 0\n"
     ]
    },
    {
     "name": "stderr",
     "output_type": "stream",
     "text": [
      "Loading data:  93%|█████████▎| 958/1035 [00:09<00:00, 99.86it/s]"
     ]
    },
    {
     "name": "stdout",
     "output_type": "stream",
     "text": [
      "Error processing file 839.pdf: 0\n",
      "Error processing file 837.pdf: 0\n",
      "Error processing file 766.pdf: 0\n",
      "Error processing file 270.pdf: 0\n",
      "Error processing file 574.pdf: 0\n",
      "Error processing file 924.pdf: 0\n",
      "Error processing file 834.pdf: 0\n",
      "Error processing file 930.pdf: 0\n",
      "Error processing file 145.pdf: 0\n",
      "Error processing file 846.pdf: 0\n",
      "Error processing file 573.pdf: 0\n",
      "Error processing file 232.pdf: 0\n",
      "Error processing file 491.pdf: 0\n",
      "Error processing file 442.pdf: 0\n",
      "Error processing file 954.pdf: 0\n",
      "Error processing file 108.pdf: 0\n",
      "Error processing file 413.pdf: 0\n",
      "Error processing file 143.pdf: 0\n",
      "Error processing file 566.pdf: 0\n",
      "Error processing file 792.pdf: 0\n",
      "Error processing file 142.pdf: 0\n",
      "Error processing file 899.pdf: 0\n",
      "Error processing file 771.pdf: 0\n"
     ]
    },
    {
     "name": "stderr",
     "output_type": "stream",
     "text": [
      "Loading data:  94%|█████████▎| 969/1035 [00:09<00:00, 91.28it/s]"
     ]
    },
    {
     "name": "stdout",
     "output_type": "stream",
     "text": [
      "Error processing file 553.pdf: 0\n",
      "Error processing file 0.pdf: 0\n",
      "Error processing file 273.pdf: 0\n",
      "Error processing file 374.pdf: 0\n",
      "Error processing file 473.pdf: 0\n",
      "Error processing file 714.pdf: 0\n",
      "Error processing file 230.pdf: 0\n",
      "Error processing file 408.pdf: 0\n",
      "Error processing file 743.pdf: 0\n",
      "Error processing file 991.pdf: 0\n",
      "Error processing file 653.pdf: 0\n",
      "Error processing file 354.pdf: 0\n",
      "Error processing file 912.pdf: 0\n",
      "Error processing file 722.pdf: 0\n"
     ]
    },
    {
     "name": "stderr",
     "output_type": "stream",
     "text": [
      "Loading data:  95%|█████████▍| 979/1035 [00:09<00:00, 89.49it/s]"
     ]
    },
    {
     "name": "stdout",
     "output_type": "stream",
     "text": [
      "Error processing file 284.pdf: 0\n",
      "Error processing file 464.pdf: 0\n",
      "Error processing file 25.pdf: 0\n",
      "Error processing file 340.pdf: 0\n",
      "Error processing file 311.pdf: 0\n",
      "Error processing file 800.pdf: 0\n",
      "Error processing file 981.pdf: 0\n",
      "Error processing file 475.pdf: 0\n",
      "Error processing file 903.pdf: 0\n",
      "Error processing file 205.pdf: 0\n"
     ]
    },
    {
     "name": "stderr",
     "output_type": "stream",
     "text": [
      "Loading data:  96%|█████████▌| 989/1035 [00:09<00:00, 56.16it/s]"
     ]
    },
    {
     "name": "stdout",
     "output_type": "stream",
     "text": [
      "Error processing file 449.pdf: 0\n",
      "Error processing file 782.pdf: 0\n",
      "Error processing file 686.pdf: 0\n",
      "Error processing file 677.pdf: 0\n",
      "Error processing file 536.pdf: 0\n",
      "Error processing file 734.pdf: 0\n",
      "Error processing file 826.pdf: 0\n",
      "Error processing file 181.pdf: 0\n",
      "Error processing file 506.pdf: 0\n",
      "Error processing file 54.pdf: 0\n",
      "Error processing file 654.pdf: 0\n"
     ]
    },
    {
     "name": "stderr",
     "output_type": "stream",
     "text": [
      "Loading data:  96%|█████████▋| 997/1035 [00:10<00:00, 42.58it/s]"
     ]
    },
    {
     "name": "stdout",
     "output_type": "stream",
     "text": [
      "Error processing file 47.pdf: 0\n",
      "Error processing file 867.pdf: 0\n",
      "Error processing file 861.pdf: 0\n",
      "Error processing file 69.pdf: 0\n",
      "Error processing file 1008.pdf: 0\n"
     ]
    },
    {
     "name": "stderr",
     "output_type": "stream",
     "text": [
      "Loading data:  97%|█████████▋| 1003/1035 [00:10<00:01, 28.93it/s]"
     ]
    },
    {
     "name": "stdout",
     "output_type": "stream",
     "text": [
      "Error processing file 606.pdf: 0\n",
      "Error processing file 231.pdf: 0\n",
      "Error processing file 325.pdf: 0\n",
      "Error processing file 510.pdf: 0\n",
      "Error processing file 588.pdf: 0\n",
      "Error processing file 424.pdf: 0\n"
     ]
    },
    {
     "name": "stderr",
     "output_type": "stream",
     "text": [
      "Loading data:  97%|█████████▋| 1008/1035 [00:10<00:00, 28.06it/s]"
     ]
    },
    {
     "name": "stdout",
     "output_type": "stream",
     "text": [
      "Error processing file 139.pdf: 0\n",
      "Error processing file 672.pdf: 0\n"
     ]
    },
    {
     "name": "stderr",
     "output_type": "stream",
     "text": [
      "Loading data:  98%|█████████▊| 1012/1035 [00:11<00:01, 20.26it/s]"
     ]
    },
    {
     "name": "stdout",
     "output_type": "stream",
     "text": [
      "Error processing file 929.pdf: 0\n",
      "Error processing file 863.pdf: 0\n",
      "Error processing file 430.pdf: 0\n",
      "Error processing file 79.pdf: 0\n"
     ]
    },
    {
     "name": "stderr",
     "output_type": "stream",
     "text": [
      "Loading data:  98%|█████████▊| 1015/1035 [00:11<00:01, 16.77it/s]"
     ]
    },
    {
     "name": "stdout",
     "output_type": "stream",
     "text": [
      "Error processing file 793.pdf: 0\n",
      "Error processing file 106.pdf: 0\n",
      "Error processing file 333.pdf: 0\n",
      "Error processing file 8.pdf: 0\n"
     ]
    },
    {
     "name": "stderr",
     "output_type": "stream",
     "text": [
      "Loading data:  98%|█████████▊| 1018/1035 [00:11<00:01, 14.33it/s]"
     ]
    },
    {
     "name": "stdout",
     "output_type": "stream",
     "text": [
      "Error processing file 398.pdf: 0\n",
      "Error processing file 88.pdf: 0\n"
     ]
    },
    {
     "name": "stderr",
     "output_type": "stream",
     "text": [
      "Loading data:  99%|█████████▊| 1020/1035 [00:12<00:01, 13.80it/s]"
     ]
    },
    {
     "name": "stdout",
     "output_type": "stream",
     "text": [
      "Error processing file 268.pdf: 0\n",
      "Error processing file 73.pdf: 0\n",
      "Error processing file 452.pdf: 0\n"
     ]
    },
    {
     "name": "stderr",
     "output_type": "stream",
     "text": [
      "Loading data:  99%|█████████▊| 1022/1035 [00:12<00:01, 11.13it/s]"
     ]
    },
    {
     "name": "stdout",
     "output_type": "stream",
     "text": [
      "Error processing file 709.pdf: 0\n"
     ]
    },
    {
     "name": "stderr",
     "output_type": "stream",
     "text": [
      "Loading data:  99%|█████████▉| 1024/1035 [00:12<00:01,  9.25it/s]"
     ]
    },
    {
     "name": "stdout",
     "output_type": "stream",
     "text": [
      "Error processing file 438.pdf: 0\n",
      "Error processing file 315.pdf: 0\n",
      "Error processing file 925.pdf: 0\n"
     ]
    },
    {
     "name": "stderr",
     "output_type": "stream",
     "text": [
      "Loading data:  99%|█████████▉| 1026/1035 [00:13<00:01,  5.87it/s]"
     ]
    },
    {
     "name": "stdout",
     "output_type": "stream",
     "text": [
      "Error processing file 159.pdf: 0\n",
      "Error processing file 787.pdf: 0\n"
     ]
    },
    {
     "name": "stderr",
     "output_type": "stream",
     "text": [
      "Loading data:  99%|█████████▉| 1028/1035 [00:14<00:01,  5.41it/s]"
     ]
    },
    {
     "name": "stdout",
     "output_type": "stream",
     "text": [
      "Error processing file 86.pdf: 0\n",
      "Error processing file 301.pdf: 0\n"
     ]
    },
    {
     "name": "stderr",
     "output_type": "stream",
     "text": [
      "Loading data: 100%|█████████▉| 1030/1035 [00:15<00:01,  3.24it/s]"
     ]
    },
    {
     "name": "stdout",
     "output_type": "stream",
     "text": [
      "Error processing file 655.pdf: 0\n"
     ]
    },
    {
     "name": "stderr",
     "output_type": "stream",
     "text": [
      "Loading data: 100%|█████████▉| 1031/1035 [00:16<00:01,  2.59it/s]"
     ]
    },
    {
     "name": "stdout",
     "output_type": "stream",
     "text": [
      "Error processing file 107.pdf: 0\n"
     ]
    },
    {
     "name": "stderr",
     "output_type": "stream",
     "text": [
      "Loading data: 100%|█████████▉| 1032/1035 [00:16<00:01,  2.24it/s]"
     ]
    },
    {
     "name": "stdout",
     "output_type": "stream",
     "text": [
      "Error processing file 587.pdf: 0\n"
     ]
    },
    {
     "name": "stderr",
     "output_type": "stream",
     "text": [
      "Loading data: 100%|█████████▉| 1033/1035 [00:18<00:01,  1.40it/s]"
     ]
    },
    {
     "name": "stdout",
     "output_type": "stream",
     "text": [
      "Error processing file 752.pdf: 0\n"
     ]
    },
    {
     "name": "stderr",
     "output_type": "stream",
     "text": [
      "Loading data: 100%|██████████| 1035/1035 [00:19<00:00, 53.08it/s]"
     ]
    },
    {
     "name": "stdout",
     "output_type": "stream",
     "text": [
      "Error processing file 242.pdf: 0\n",
      "Error processing file 758.pdf: 0\n"
     ]
    },
    {
     "name": "stderr",
     "output_type": "stream",
     "text": [
      "\n",
      "Loading data: 100%|██████████| 617/617 [00:00<00:00, 401471.54it/s]\n",
      "Loading data:   3%|▎         | 22/643 [00:00<00:05, 120.26it/s]"
     ]
    },
    {
     "name": "stdout",
     "output_type": "stream",
     "text": [
      "Error processing file 49.pdf: 0\n",
      "Error processing file 130.pdf: 0\n",
      "Error processing file 290.pdf: 0\n",
      "Error processing file 121.pdf: 0\n",
      "Error processing file 435.pdf: 0\n",
      "Error processing file 202.pdf: 0\n",
      "Error processing file 192.pdf: 0\n",
      "Error processing file 551.pdf: 0\n",
      "Error processing file 305.pdf: 0\n",
      "Error processing file 513.pdf: 0\n",
      "Error processing file 583.pdf: 0\n",
      "Error processing file 416.pdf: 0\n",
      "Error processing file 608.pdf: 0\n",
      "Error processing file 602.pdf: 0\n",
      "Error processing file 41.pdf: 0\n",
      "Error processing file 237.pdf: 0\n",
      "Error processing file 550.pdf: 0\n",
      "Error processing file 337.pdf: 0\n",
      "Error processing file 3.pdf: 0\n",
      "Error processing file 522.pdf: 0\n",
      "Error processing file 378.pdf: 0\n",
      "Error processing file 212.pdf: 0\n",
      "Error processing file 289.pdf: 0\n",
      "Error processing file 194.pdf: 0\n",
      "Error processing file 431.pdf: 0\n",
      "Error processing file 372.pdf: 0\n",
      "Error processing file 12.pdf: 0\n",
      "Error processing file 140.pdf: 0\n",
      "Error processing file 51.pdf: 0\n",
      "Error processing file 43.pdf: 0\n",
      "Error processing file 497.pdf: 0\n",
      "Error processing file 606.pdf: 0\n",
      "Error processing file 295.pdf: 0\n",
      "Error processing file 629.pdf: 0\n",
      "Error processing file 353.pdf: 0\n",
      "Error processing file 360.pdf: 0\n",
      "Error processing file 204.pdf: 0\n",
      "Error processing file 371.pdf: 0\n",
      "Error processing file 477.pdf: 0\n",
      "Error processing file 605.pdf: 0\n",
      "Error processing file 381.pdf: 0\n",
      "Error processing file 496.pdf: 0\n",
      "Error processing file 545.pdf: 0\n",
      "Error processing file 298.pdf: 0\n",
      "Error processing file 526.pdf: 0\n",
      "Error processing file 245.pdf: 0\n",
      "Error processing file 351.pdf: 0\n",
      "Error processing file 577.pdf: 0\n",
      "Error processing file 123.pdf: 0\n",
      "Error processing file 436.pdf: 0\n",
      "Error processing file 184.pdf: 0\n",
      "Error processing file 319.pdf: 0\n",
      "Error processing file 52.pdf: 0\n",
      "Error processing file 338.pdf: 0\n",
      "Error processing file 19.pdf: 0\n",
      "Error processing file 220.pdf: 0\n",
      "Error processing file 531.pdf: 0\n",
      "Error processing file 419.pdf: 0\n",
      "Error processing file 443.pdf: 0\n",
      "Error processing file 297.pdf: 0\n",
      "Error processing file 310.pdf: 0\n",
      "Error processing file 540.pdf: 0\n",
      "Error processing file 543.pdf: 0\n",
      "Error processing file 486.pdf: 0\n",
      "Error processing file 285.pdf: 0\n"
     ]
    },
    {
     "name": "stderr",
     "output_type": "stream",
     "text": [
      "Loading data:  15%|█▌        | 98/643 [00:00<00:02, 271.54it/s]"
     ]
    },
    {
     "name": "stdout",
     "output_type": "stream",
     "text": [
      "Error processing file 61.pdf: 0\n",
      "Error processing file 429.pdf: 0\n",
      "Error processing file 361.pdf: 0\n",
      "Error processing file 254.pdf: 0\n",
      "Error processing file 243.pdf: 0\n",
      "Error processing file 399.pdf: 0\n",
      "Error processing file 235.pdf: 0\n",
      "Error processing file 484.pdf: 0\n",
      "Error processing file 619.pdf: 0\n",
      "Error processing file 385.pdf: 0\n",
      "Error processing file 199.pdf: 0\n",
      "Error processing file 616.pdf: 0\n",
      "Error processing file 507.pdf: 0\n",
      "Error processing file 490.pdf: 0\n",
      "Error processing file 330.pdf: 0\n",
      "Error processing file 558.pdf: 0\n",
      "Error processing file 327.pdf: 0\n",
      "Error processing file 572.pdf: 0\n",
      "Error processing file 625.pdf: 0\n",
      "Error processing file 500.pdf: 0\n",
      "Error processing file 178.pdf: 0\n",
      "Error processing file 615.pdf: 0\n",
      "Error processing file 214.pdf: 0\n",
      "Error processing file 380.pdf: 0\n",
      "Error processing file 249.pdf: 0\n",
      "Error processing file 335.pdf: 0\n",
      "Error processing file 141.pdf: 0\n",
      "Error processing file 525.pdf: 0\n",
      "Error processing file 32.pdf: 0\n",
      "Error processing file 559.pdf: 0\n",
      "Error processing file 451.pdf: 0\n",
      "Error processing file 195.pdf: 0\n",
      "Error processing file 64.pdf: 0\n",
      "Error processing file 127.pdf: 0\n",
      "Error processing file 24.pdf: 0\n",
      "Error processing file 318.pdf: 0\n",
      "Error processing file 345.pdf: 0\n",
      "Error processing file 639.pdf: 0\n",
      "Error processing file 23.pdf: 0\n",
      "Error processing file 50.pdf: 0\n",
      "Error processing file 397.pdf: 0\n",
      "Error processing file 28.pdf: 0\n",
      "Error processing file 549.pdf: 0\n",
      "Error processing file 17.pdf: 0\n",
      "Error processing file 167.pdf: 0\n",
      "Error processing file 627.pdf: 0\n",
      "Error processing file 209.pdf: 0\n",
      "Error processing file 450.pdf: 0\n",
      "Error processing file 128.pdf: 0\n",
      "Error processing file 70.pdf: 0\n",
      "Error processing file 582.pdf: 0\n",
      "Error processing file 642.pdf: 0\n",
      "Error processing file 493.pdf: 0\n",
      "Error processing file 575.pdf: 0\n",
      "Error processing file 62.pdf: 0\n",
      "Error processing file 147.pdf: 0\n",
      "Error processing file 565.pdf: 0\n",
      "Error processing file 155.pdf: 0\n",
      "Error processing file 288.pdf: 0\n",
      "Error processing file 59.pdf: 0\n",
      "Error processing file 104.pdf: 0\n",
      "Error processing file 640.pdf: 0\n",
      "Error processing file 233.pdf: 0\n",
      "Error processing file 628.pdf: 0\n",
      "Error processing file 591.pdf: 0\n",
      "Error processing file 445.pdf: 0\n",
      "Error processing file 468.pdf: 0\n",
      "Error processing file 576.pdf: 0\n",
      "Error processing file 133.pdf: 0\n",
      "Error processing file 138.pdf: 0\n",
      "Error processing file 253.pdf: 0\n",
      "Error processing file 185.pdf: 0\n",
      "Error processing file 176.pdf: 0\n",
      "Error processing file 261.pdf: 0\n",
      "Error processing file 156.pdf: 0\n",
      "Error processing file 322.pdf: 0\n",
      "Error processing file 317.pdf: 0\n",
      "Error processing file 346.pdf: 0\n",
      "Error processing file 213.pdf: 0\n",
      "Error processing file 283.pdf: 0\n",
      "Error processing file 37.pdf: 0\n"
     ]
    },
    {
     "name": "stderr",
     "output_type": "stream",
     "text": [
      "Loading data:  30%|██▉       | 190/643 [00:00<00:01, 361.25it/s]"
     ]
    },
    {
     "name": "stdout",
     "output_type": "stream",
     "text": [
      "Error processing file 499.pdf: 0\n",
      "Error processing file 296.pdf: 0\n",
      "Error processing file 584.pdf: 0\n",
      "Error processing file 278.pdf: 0\n",
      "Error processing file 402.pdf: 0\n",
      "Error processing file 101.pdf: 0\n",
      "Error processing file 383.pdf: 0\n",
      "Error processing file 216.pdf: 0\n",
      "Error processing file 44.pdf: 0\n",
      "Error processing file 395.pdf: 0\n",
      "Error processing file 129.pdf: 0\n",
      "Error processing file 518.pdf: 0\n",
      "Error processing file 476.pdf: 0\n",
      "Error processing file 418.pdf: 0\n",
      "Error processing file 188.pdf: 0\n",
      "Error processing file 503.pdf: 0\n",
      "Error processing file 618.pdf: 0\n",
      "Error processing file 460.pdf: 0\n",
      "Error processing file 105.pdf: 0\n",
      "Error processing file 170.pdf: 0\n",
      "Error processing file 509.pdf: 0\n",
      "Error processing file 455.pdf: 0\n",
      "Error processing file 516.pdf: 0\n",
      "Error processing file 77.pdf: 0\n",
      "Error processing file 293.pdf: 0\n",
      "Error processing file 359.pdf: 0\n",
      "Error processing file 116.pdf: 0\n",
      "Error processing file 157.pdf: 0\n",
      "Error processing file 621.pdf: 0\n",
      "Error processing file 368.pdf: 0\n",
      "Error processing file 350.pdf: 0\n",
      "Error processing file 99.pdf: 0\n",
      "Error processing file 366.pdf: 0\n",
      "Error processing file 417.pdf: 0\n",
      "Error processing file 227.pdf: 0\n",
      "Error processing file 135.pdf: 0\n",
      "Error processing file 547.pdf: 0\n",
      "Error processing file 56.pdf: 0\n",
      "Error processing file 183.pdf: 0\n",
      "Error processing file 150.pdf: 0\n",
      "Error processing file 33.pdf: 0\n",
      "Error processing file 349.pdf: 0\n",
      "Error processing file 362.pdf: 0\n",
      "Error processing file 426.pdf: 0\n",
      "Error processing file 427.pdf: 0\n",
      "Error processing file 530.pdf: 0\n",
      "Error processing file 332.pdf: 0\n",
      "Error processing file 10.pdf: 0\n",
      "Error processing file 406.pdf: 0\n",
      "Error processing file 2.pdf: 0\n",
      "Error processing file 589.pdf: 0\n",
      "Error processing file 511.pdf: 0\n",
      "Error processing file 160.pdf: 0\n",
      "Error processing file 215.pdf: 0\n",
      "Error processing file 457.pdf: 0\n",
      "Error processing file 643.pdf: 0\n",
      "Error processing file 306.pdf: 0\n",
      "Error processing file 365.pdf: 0\n",
      "Error processing file 31.pdf: 0\n",
      "Error processing file 421.pdf: 0\n",
      "Error processing file 439.pdf: 0\n",
      "Error processing file 81.pdf: 0\n",
      "Error processing file 624.pdf: 0\n",
      "Error processing file 175.pdf: 0\n",
      "Error processing file 236.pdf: 0\n",
      "Error processing file 471.pdf: 0\n",
      "Error processing file 190.pdf: 0\n",
      "Error processing file 257.pdf: 0\n",
      "Error processing file 221.pdf: 0\n",
      "Error processing file 626.pdf: 0\n",
      "Error processing file 570.pdf: 0\n",
      "Error processing file 89.pdf: 0\n",
      "Error processing file 222.pdf: 0\n",
      "Error processing file 528.pdf: 0\n",
      "Error processing file 533.pdf: 0\n",
      "Error processing file 505.pdf: 0\n",
      "Error processing file 244.pdf: 0\n",
      "Error processing file 534.pdf: 0\n",
      "Error processing file 182.pdf: 0\n"
     ]
    },
    {
     "name": "stderr",
     "output_type": "stream",
     "text": [
      "Loading data:  43%|████▎     | 277/643 [00:00<00:00, 397.08it/s]"
     ]
    },
    {
     "name": "stdout",
     "output_type": "stream",
     "text": [
      "Error processing file 423.pdf: 0\n",
      "Error processing file 263.pdf: 0\n",
      "Error processing file 40.pdf: 0\n",
      "Error processing file 280.pdf: 0\n",
      "Error processing file 517.pdf: 0\n",
      "Error processing file 304.pdf: 0\n",
      "Error processing file 260.pdf: 0\n",
      "Error processing file 604.pdf: 0\n",
      "Error processing file 72.pdf: 0\n",
      "Error processing file 88.pdf: 0\n",
      "Error processing file 438.pdf: 0\n",
      "Error processing file 262.pdf: 0\n",
      "Error processing file 132.pdf: 0\n",
      "Error processing file 174.pdf: 0\n",
      "Error processing file 523.pdf: 0\n",
      "Error processing file 266.pdf: 0\n",
      "Error processing file 538.pdf: 0\n",
      "Error processing file 113.pdf: 0\n",
      "Error processing file 166.pdf: 0\n",
      "Error processing file 594.pdf: 0\n",
      "Error processing file 206.pdf: 0\n",
      "Error processing file 437.pdf: 0\n",
      "Error processing file 563.pdf: 0\n",
      "Error processing file 535.pdf: 0\n",
      "Error processing file 80.pdf: 0\n",
      "Error processing file 405.pdf: 0\n",
      "Error processing file 529.pdf: 0\n",
      "Error processing file 218.pdf: 0\n",
      "Error processing file 27.pdf: 0\n",
      "Error processing file 394.pdf: 0\n",
      "Error processing file 303.pdf: 0\n",
      "Error processing file 161.pdf: 0\n",
      "Error processing file 248.pdf: 0\n",
      "Error processing file 45.pdf: 0\n",
      "Error processing file 514.pdf: 0\n",
      "Error processing file 329.pdf: 0\n",
      "Error processing file 118.pdf: 0\n",
      "Error processing file 6.pdf: 0\n",
      "Error processing file 272.pdf: 0\n",
      "Error processing file 331.pdf: 0\n",
      "Error processing file 370.pdf: 0\n",
      "Error processing file 100.pdf: 0\n",
      "Error processing file 613.pdf: 0\n",
      "Error processing file 164.pdf: 0\n",
      "Error processing file 478.pdf: 0\n",
      "Error processing file 555.pdf: 0\n",
      "Error processing file 569.pdf: 0\n",
      "Error processing file 343.pdf: 0\n",
      "Error processing file 173.pdf: 0\n",
      "Error processing file 124.pdf: 0\n",
      "Error processing file 207.pdf: 0\n",
      "Error processing file 610.pdf: 0\n",
      "Error processing file 115.pdf: 0\n",
      "Error processing file 189.pdf: 0\n",
      "Error processing file 82.pdf: 0\n",
      "Error processing file 390.pdf: 0\n",
      "Error processing file 463.pdf: 0\n",
      "Error processing file 258.pdf: 0\n",
      "Error processing file 240.pdf: 0\n",
      "Error processing file 441.pdf: 0\n",
      "Error processing file 103.pdf: 0\n",
      "Error processing file 456.pdf: 0\n",
      "Error processing file 432.pdf: 0\n",
      "Error processing file 501.pdf: 0\n",
      "Error processing file 114.pdf: 0\n",
      "Error processing file 634.pdf: 0\n",
      "Error processing file 85.pdf: 0\n",
      "Error processing file 18.pdf: 0\n",
      "Error processing file 557.pdf: 0\n",
      "Error processing file 271.pdf: 0\n",
      "Error processing file 403.pdf: 0\n",
      "Error processing file 520.pdf: 0\n",
      "Error processing file 307.pdf: 0\n",
      "Error processing file 110.pdf: 0\n",
      "Error processing file 7.pdf: 0\n",
      "Error processing file 447.pdf: 0\n",
      "Error processing file 633.pdf: 0\n",
      "Error processing file 92.pdf: 0\n",
      "Error processing file 146.pdf: 0\n",
      "Error processing file 379.pdf: 0\n",
      "Error processing file 524.pdf: 0\n",
      "Error processing file 98.pdf: 0\n",
      "Error processing file 347.pdf: 0\n",
      "Error processing file 415.pdf: 0\n",
      "Error processing file 265.pdf: 0\n",
      "Error processing file 401.pdf: 0\n",
      "Error processing file 612.pdf: 0\n",
      "Error processing file 137.pdf: 0\n",
      "Error processing file 339.pdf: 0\n"
     ]
    },
    {
     "name": "stderr",
     "output_type": "stream",
     "text": [
      "Loading data:  58%|█████▊    | 371/643 [00:01<00:00, 418.38it/s]"
     ]
    },
    {
     "name": "stdout",
     "output_type": "stream",
     "text": [
      "Error processing file 60.pdf: 0\n",
      "Error processing file 42.pdf: 0\n",
      "Error processing file 259.pdf: 0\n",
      "Error processing file 154.pdf: 0\n",
      "Error processing file 348.pdf: 0\n",
      "Error processing file 502.pdf: 0\n",
      "Error processing file 590.pdf: 0\n",
      "Error processing file 630.pdf: 0\n",
      "Error processing file 149.pdf: 0\n",
      "Error processing file 95.pdf: 0\n",
      "Error processing file 461.pdf: 0\n",
      "Error processing file 53.pdf: 0\n",
      "Error processing file 275.pdf: 0\n",
      "Error processing file 389.pdf: 0\n",
      "Error processing file 58.pdf: 0\n",
      "Error processing file 11.pdf: 0\n",
      "Error processing file 57.pdf: 0\n",
      "Error processing file 554.pdf: 0\n",
      "Error processing file 224.pdf: 0\n",
      "Error processing file 90.pdf: 0\n",
      "Error processing file 355.pdf: 0\n",
      "Error processing file 187.pdf: 0\n",
      "Error processing file 109.pdf: 0\n",
      "Error processing file 256.pdf: 0\n",
      "Error processing file 29.pdf: 0\n",
      "Error processing file 201.pdf: 0\n",
      "Error processing file 120.pdf: 0\n",
      "Error processing file 326.pdf: 0\n",
      "Error processing file 358.pdf: 0\n",
      "Error processing file 407.pdf: 0\n",
      "Error processing file 580.pdf: 0\n",
      "Error processing file 474.pdf: 0\n",
      "Error processing file 342.pdf: 0\n",
      "Error processing file 341.pdf: 0\n",
      "Error processing file 373.pdf: 0\n",
      "Error processing file 22.pdf: 0\n",
      "Error processing file 234.pdf: 0\n",
      "Error processing file 177.pdf: 0\n",
      "Error processing file 623.pdf: 0\n",
      "Error processing file 532.pdf: 0\n",
      "Error processing file 134.pdf: 0\n",
      "Error processing file 453.pdf: 0\n",
      "Error processing file 107.pdf: 0\n",
      "Error processing file 541.pdf: 0\n",
      "Error processing file 217.pdf: 0\n",
      "Error processing file 508.pdf: 0\n",
      "Error processing file 86.pdf: 0\n",
      "Error processing file 308.pdf: 0\n",
      "Error processing file 440.pdf: 0\n",
      "Error processing file 83.pdf: 0\n",
      "Error processing file 228.pdf: 0\n",
      "Error processing file 404.pdf: 0\n",
      "Error processing file 186.pdf: 0\n",
      "Error processing file 16.pdf: 0\n",
      "Error processing file 78.pdf: 0\n",
      "Error processing file 552.pdf: 0\n",
      "Error processing file 241.pdf: 0\n",
      "Error processing file 198.pdf: 0\n",
      "Error processing file 601.pdf: 0\n",
      "Error processing file 267.pdf: 0\n",
      "Error processing file 446.pdf: 0\n",
      "Error processing file 614.pdf: 0\n",
      "Error processing file 191.pdf: 0\n",
      "Error processing file 586.pdf: 0\n",
      "Error processing file 483.pdf: 0\n",
      "Error processing file 247.pdf: 0\n",
      "Error processing file 276.pdf: 0\n",
      "Error processing file 492.pdf: 0\n",
      "Error processing file 336.pdf: 0\n",
      "Error processing file 515.pdf: 0\n",
      "Error processing file 498.pdf: 0\n",
      "Error processing file 255.pdf: 0\n",
      "Error processing file 587.pdf: 0\n",
      "Error processing file 377.pdf: 0\n",
      "Error processing file 412.pdf: 0\n",
      "Error processing file 475.pdf: 0\n",
      "Error processing file 238.pdf: 0\n",
      "Error processing file 363.pdf: 0\n",
      "Error processing file 480.pdf: 0\n",
      "Error processing file 179.pdf: 0\n",
      "Error processing file 211.pdf: 0\n",
      "Error processing file 250.pdf: 0\n",
      "Error processing file 556.pdf: 0\n"
     ]
    },
    {
     "name": "stderr",
     "output_type": "stream",
     "text": [
      "Loading data:  64%|██████▍   | 413/643 [00:01<00:00, 370.66it/s]"
     ]
    },
    {
     "name": "stdout",
     "output_type": "stream",
     "text": [
      "Error processing file 36.pdf: 0\n",
      "Error processing file 151.pdf: 0\n",
      "Error processing file 548.pdf: 0\n",
      "Error processing file 504.pdf: 0\n",
      "Error processing file 20.pdf: 0\n",
      "Error processing file 301.pdf: 0\n",
      "Error processing file 208.pdf: 0\n",
      "Error processing file 96.pdf: 0\n",
      "Error processing file 636.pdf: 0\n",
      "Error processing file 251.pdf: 0\n",
      "Error processing file 568.pdf: 0\n",
      "Error processing file 39.pdf: 0\n",
      "Error processing file 546.pdf: 0\n",
      "Error processing file 55.pdf: 0\n",
      "Error processing file 599.pdf: 0\n",
      "Error processing file 172.pdf: 0\n",
      "Error processing file 320.pdf: 0\n",
      "Error processing file 239.pdf: 0\n",
      "Error processing file 638.pdf: 0\n",
      "Error processing file 181.pdf: 0\n",
      "Error processing file 169.pdf: 0\n",
      "Error processing file 48.pdf: 0\n",
      "Error processing file 197.pdf: 0\n",
      "Error processing file 581.pdf: 0\n",
      "Error processing file 94.pdf: 0\n",
      "Error processing file 309.pdf: 0\n",
      "Error processing file 598.pdf: 0\n",
      "Error processing file 34.pdf: 0\n",
      "Error processing file 226.pdf: 0\n",
      "Error processing file 448.pdf: 0\n",
      "Error processing file 400.pdf: 0\n",
      "Error processing file 472.pdf: 0\n",
      "Error processing file 242.pdf: 0\n",
      "Error processing file 91.pdf: 0\n",
      "Error processing file 302.pdf: 0\n",
      "Error processing file 171.pdf: 0\n",
      "Error processing file 35.pdf: 0\n",
      "Error processing file 356.pdf: 0\n",
      "Error processing file 588.pdf: 0\n",
      "Error processing file 386.pdf: 0\n",
      "Error processing file 291.pdf: 0\n",
      "Error processing file 163.pdf: 0\n",
      "Error processing file 410.pdf: 0\n",
      "Error processing file 4.pdf: 0\n",
      "Error processing file 8.pdf: 0\n",
      "Error processing file 561.pdf: 0\n",
      "Error processing file 125.pdf: 0\n",
      "Error processing file 396.pdf: 0\n"
     ]
    },
    {
     "name": "stderr",
     "output_type": "stream",
     "text": [
      "Loading data:  70%|███████   | 451/643 [00:01<00:01, 139.24it/s]"
     ]
    },
    {
     "name": "stdout",
     "output_type": "stream",
     "text": [
      "Error processing file 316.pdf: 0\n",
      "Error processing file 537.pdf: 0\n",
      "Error processing file 375.pdf: 0\n",
      "Error processing file 180.pdf: 0\n",
      "Error processing file 333.pdf: 0\n",
      "Error processing file 622.pdf: 0\n",
      "Error processing file 274.pdf: 0\n",
      "Error processing file 282.pdf: 0\n",
      "Error processing file 632.pdf: 0\n",
      "Error processing file 76.pdf: 0\n",
      "Error processing file 314.pdf: 0\n",
      "Error processing file 68.pdf: 0\n",
      "Error processing file 466.pdf: 0\n",
      "Error processing file 264.pdf: 0\n",
      "Error processing file 294.pdf: 0\n",
      "Error processing file 111.pdf: 0\n",
      "Error processing file 300.pdf: 0\n",
      "Error processing file 219.pdf: 0\n",
      "Error processing file 414.pdf: 0\n",
      "Error processing file 63.pdf: 0\n",
      "Error processing file 562.pdf: 0\n"
     ]
    },
    {
     "name": "stderr",
     "output_type": "stream",
     "text": [
      "Loading data:  79%|███████▉  | 507/643 [00:02<00:00, 167.30it/s]"
     ]
    },
    {
     "name": "stdout",
     "output_type": "stream",
     "text": [
      "Error processing file 596.pdf: 0\n",
      "Error processing file 66.pdf: 0\n",
      "Error processing file 321.pdf: 0\n",
      "Error processing file 387.pdf: 0\n",
      "Error processing file 376.pdf: 0\n",
      "Error processing file 600.pdf: 0\n",
      "Error processing file 87.pdf: 0\n",
      "Error processing file 527.pdf: 0\n",
      "Error processing file 564.pdf: 0\n",
      "Error processing file 536.pdf: 0\n",
      "Error processing file 593.pdf: 0\n",
      "Error processing file 578.pdf: 0\n",
      "Error processing file 367.pdf: 0\n",
      "Error processing file 635.pdf: 0\n",
      "Error processing file 519.pdf: 0\n",
      "Error processing file 411.pdf: 0\n",
      "Error processing file 592.pdf: 0\n",
      "Error processing file 470.pdf: 0\n",
      "Error processing file 126.pdf: 0\n",
      "Error processing file 131.pdf: 0\n",
      "Error processing file 585.pdf: 0\n",
      "Error processing file 325.pdf: 0\n",
      "Error processing file 609.pdf: 0\n",
      "Error processing file 512.pdf: 0\n",
      "Error processing file 281.pdf: 0\n",
      "Error processing file 567.pdf: 0\n",
      "Error processing file 193.pdf: 0\n",
      "Error processing file 15.pdf: 0\n",
      "Error processing file 102.pdf: 0\n",
      "Error processing file 428.pdf: 0\n",
      "Error processing file 620.pdf: 0\n",
      "Error processing file 485.pdf: 0\n",
      "Error processing file 641.pdf: 0\n",
      "Error processing file 617.pdf: 0\n",
      "Error processing file 357.pdf: 0\n",
      "Error processing file 521.pdf: 0\n",
      "Error processing file 571.pdf: 0\n",
      "Error processing file 398.pdf: 0\n",
      "Error processing file 494.pdf: 0\n",
      "Error processing file 481.pdf: 0\n",
      "Error processing file 1.pdf: 0\n",
      "Error processing file 75.pdf: 0\n",
      "Error processing file 65.pdf: 0\n",
      "Error processing file 225.pdf: 0\n",
      "Error processing file 112.pdf: 0\n",
      "Error processing file 364.pdf: 0\n",
      "Error processing file 223.pdf: 0\n",
      "Error processing file 279.pdf: 0\n",
      "Error processing file 422.pdf: 0\n",
      "Error processing file 495.pdf: 0\n",
      "Error processing file 459.pdf: 0\n",
      "Error processing file 210.pdf: 0\n",
      "Error processing file 71.pdf: 0\n",
      "Error processing file 14.pdf: 0\n",
      "Error processing file 544.pdf: 0\n",
      "Error processing file 420.pdf: 0\n",
      "Error processing file 200.pdf: 0\n",
      "Error processing file 148.pdf: 0\n",
      "Error processing file 168.pdf: 0\n",
      "Error processing file 144.pdf: 0\n",
      "Error processing file 388.pdf: 0\n",
      "Error processing file 433.pdf: 0\n",
      "Error processing file 229.pdf: 0\n",
      "Error processing file 489.pdf: 0\n",
      "Error processing file 162.pdf: 0\n",
      "Error processing file 269.pdf: 0\n",
      "Error processing file 38.pdf: 0\n",
      "Error processing file 119.pdf: 0\n",
      "Error processing file 384.pdf: 0\n",
      "Error processing file 434.pdf: 0\n",
      "Error processing file 136.pdf: 0\n",
      "Error processing file 631.pdf: 0\n"
     ]
    },
    {
     "name": "stderr",
     "output_type": "stream",
     "text": [
      "Loading data:  91%|█████████▏| 588/643 [00:02<00:00, 243.37it/s]"
     ]
    },
    {
     "name": "stdout",
     "output_type": "stream",
     "text": [
      "Error processing file 425.pdf: 0\n",
      "Error processing file 458.pdf: 0\n",
      "Error processing file 479.pdf: 0\n",
      "Error processing file 539.pdf: 0\n",
      "Error processing file 430.pdf: 0\n",
      "Error processing file 203.pdf: 0\n",
      "Error processing file 542.pdf: 0\n",
      "Error processing file 74.pdf: 0\n",
      "Error processing file 165.pdf: 0\n",
      "Error processing file 9.pdf: 0\n",
      "Error processing file 153.pdf: 0\n",
      "Error processing file 252.pdf: 0\n",
      "Error processing file 603.pdf: 0\n",
      "Error processing file 46.pdf: 0\n",
      "Error processing file 122.pdf: 0\n",
      "Error processing file 84.pdf: 0\n",
      "Error processing file 352.pdf: 0\n",
      "Error processing file 611.pdf: 0\n",
      "Error processing file 196.pdf: 0\n",
      "Error processing file 482.pdf: 0\n",
      "Error processing file 287.pdf: 0\n",
      "Error processing file 454.pdf: 0\n",
      "Error processing file 409.pdf: 0\n",
      "Error processing file 607.pdf: 0\n",
      "Error processing file 382.pdf: 0\n",
      "Error processing file 324.pdf: 0\n",
      "Error processing file 158.pdf: 0\n",
      "Error processing file 392.pdf: 0\n",
      "Error processing file 595.pdf: 0\n",
      "Error processing file 487.pdf: 0\n",
      "Error processing file 277.pdf: 0\n",
      "Error processing file 246.pdf: 0\n",
      "Error processing file 462.pdf: 0\n",
      "Error processing file 369.pdf: 0\n",
      "Error processing file 315.pdf: 0\n",
      "Error processing file 97.pdf: 0\n",
      "Error processing file 268.pdf: 0\n",
      "Error processing file 30.pdf: 0\n",
      "Error processing file 54.pdf: 0\n",
      "Error processing file 47.pdf: 0\n",
      "Error processing file 93.pdf: 0\n",
      "Error processing file 145.pdf: 0\n",
      "Error processing file 312.pdf: 0\n",
      "Error processing file 323.pdf: 0\n",
      "Error processing file 393.pdf: 0\n",
      "Error processing file 452.pdf: 0\n",
      "Error processing file 21.pdf: 0\n",
      "Error processing file 560.pdf: 0\n",
      "Error processing file 292.pdf: 0\n",
      "Error processing file 328.pdf: 0\n",
      "Error processing file 313.pdf: 0\n",
      "Error processing file 597.pdf: 0\n",
      "Error processing file 469.pdf: 0\n",
      "Error processing file 566.pdf: 0\n",
      "Error processing file 510.pdf: 0\n",
      "Error processing file 574.pdf: 0\n",
      "Error processing file 344.pdf: 0\n",
      "Error processing file 117.pdf: 0\n",
      "Error processing file 465.pdf: 0\n",
      "Error processing file 13.pdf: 0\n",
      "Error processing file 143.pdf: 0\n",
      "Error processing file 340.pdf: 0\n",
      "Error processing file 73.pdf: 0\n",
      "Error processing file 286.pdf: 0\n",
      "Error processing file 573.pdf: 0\n",
      "Error processing file 231.pdf: 0\n",
      "Error processing file 69.pdf: 0\n",
      "Error processing file 25.pdf: 0\n",
      "Error processing file 354.pdf: 0\n",
      "Error processing file 108.pdf: 0\n",
      "Error processing file 311.pdf: 0\n",
      "Error processing file 299.pdf: 0\n",
      "Error processing file 442.pdf: 0\n",
      "Error processing file 374.pdf: 0\n",
      "Error processing file 579.pdf: 0\n",
      "Error processing file 488.pdf: 0\n",
      "Error processing file 467.pdf: 0\n",
      "Error processing file 26.pdf: 0\n",
      "Error processing file 334.pdf: 0\n",
      "Error processing file 391.pdf: 0\n",
      "Error processing file 67.pdf: 0\n"
     ]
    },
    {
     "name": "stderr",
     "output_type": "stream",
     "text": [
      "Loading data:  99%|█████████▊| 634/643 [00:02<00:00, 288.84it/s]"
     ]
    },
    {
     "name": "stdout",
     "output_type": "stream",
     "text": [
      "Error processing file 205.pdf: 0\n",
      "Error processing file 637.pdf: 0\n",
      "Error processing file 444.pdf: 0\n",
      "Error processing file 152.pdf: 0\n",
      "Error processing file 553.pdf: 0\n",
      "Error processing file 473.pdf: 0\n",
      "Error processing file 142.pdf: 0\n",
      "Error processing file 232.pdf: 0\n",
      "Error processing file 464.pdf: 0\n",
      "Error processing file 413.pdf: 0\n",
      "Error processing file 139.pdf: 0\n",
      "Error processing file 270.pdf: 0\n",
      "Error processing file 506.pdf: 0\n",
      "Error processing file 230.pdf: 0\n",
      "Error processing file 408.pdf: 0\n",
      "Error processing file 284.pdf: 0\n",
      "Error processing file 424.pdf: 0\n",
      "Error processing file 106.pdf: 0\n",
      "Error processing file 449.pdf: 0\n",
      "Error processing file 159.pdf: 0\n",
      "Error processing file 273.pdf: 0\n",
      "Error processing file 491.pdf: 0\n"
     ]
    },
    {
     "name": "stderr",
     "output_type": "stream",
     "text": [
      "Loading data: 100%|██████████| 643/643 [00:02<00:00, 241.18it/s]"
     ]
    },
    {
     "name": "stdout",
     "output_type": "stream",
     "text": [
      "Error processing file 79.pdf: 0\n"
     ]
    },
    {
     "name": "stderr",
     "output_type": "stream",
     "text": [
      "\n",
      "Loading data:   3%|▎         | 27/1035 [00:00<00:07, 127.93it/s]"
     ]
    },
    {
     "name": "stdout",
     "output_type": "stream",
     "text": [
      "Error processing file 360.pdf: 0\n",
      "Error processing file 381.pdf: 0\n",
      "Error processing file 310.pdf: 0\n",
      "Error processing file 550.pdf: 0\n",
      "Error processing file 551.pdf: 0\n",
      "Error processing file 140.pdf: 0\n",
      "Error processing file 773.pdf: 0\n",
      "Error processing file 801.pdf: 0\n",
      "Error processing file 285.pdf: 0\n",
      "Error processing file 951.pdf: 0\n",
      "Error processing file 775.pdf: 0\n",
      "Error processing file 49.pdf: 0\n",
      "Error processing file 194.pdf: 0\n",
      "Error processing file 770.pdf: 0\n",
      "Error processing file 830.pdf: 0\n",
      "Error processing file 184.pdf: 0\n",
      "Error processing file 627.pdf: 0\n",
      "Error processing file 416.pdf: 0\n",
      "Error processing file 575.pdf: 0\n",
      "Error processing file 436.pdf: 0\n",
      "Error processing file 619.pdf: 0\n",
      "Error processing file 41.pdf: 0\n",
      "Error processing file 378.pdf: 0\n",
      "Error processing file 685.pdf: 0\n",
      "Error processing file 950.pdf: 0\n",
      "Error processing file 559.pdf: 0\n",
      "Error processing file 629.pdf: 0\n",
      "Error processing file 202.pdf: 0\n",
      "Error processing file 305.pdf: 0\n",
      "Error processing file 431.pdf: 0\n",
      "Error processing file 955.pdf: 0\n"
     ]
    },
    {
     "name": "stderr",
     "output_type": "stream",
     "text": [
      "Loading data:   7%|▋         | 71/1035 [00:00<00:05, 186.66it/s]"
     ]
    },
    {
     "name": "stdout",
     "output_type": "stream",
     "text": [
      "Error processing file 583.pdf: 0\n",
      "Error processing file 121.pdf: 0\n",
      "Error processing file 628.pdf: 0\n",
      "Error processing file 961.pdf: 0\n",
      "Error processing file 290.pdf: 0\n",
      "Error processing file 799.pdf: 0\n",
      "Error processing file 909.pdf: 0\n",
      "Error processing file 645.pdf: 0\n",
      "Error processing file 337.pdf: 0\n",
      "Error processing file 577.pdf: 0\n",
      "Error processing file 496.pdf: 0\n",
      "Error processing file 791.pdf: 0\n",
      "Error processing file 192.pdf: 0\n",
      "Error processing file 52.pdf: 0\n",
      "Error processing file 683.pdf: 0\n",
      "Error processing file 984.pdf: 0\n",
      "Error processing file 918.pdf: 0\n",
      "Error processing file 842.pdf: 0\n",
      "Error processing file 385.pdf: 0\n",
      "Error processing file 3.pdf: 0\n",
      "Error processing file 922.pdf: 0\n",
      "Error processing file 818.pdf: 0\n",
      "Error processing file 123.pdf: 0\n",
      "Error processing file 883.pdf: 0\n",
      "Error processing file 338.pdf: 0\n",
      "Error processing file 43.pdf: 0\n",
      "Error processing file 399.pdf: 0\n",
      "Error processing file 220.pdf: 0\n",
      "Error processing file 971.pdf: 0\n",
      "Error processing file 862.pdf: 0\n",
      "Error processing file 209.pdf: 0\n",
      "Error processing file 906.pdf: 0\n",
      "Error processing file 64.pdf: 0\n",
      "Error processing file 24.pdf: 0\n",
      "Error processing file 477.pdf: 0\n",
      "Error processing file 736.pdf: 0\n",
      "Error processing file 572.pdf: 0\n",
      "Error processing file 245.pdf: 0\n",
      "Error processing file 497.pdf: 0\n",
      "Error processing file 167.pdf: 0\n",
      "Error processing file 330.pdf: 0\n",
      "Error processing file 935.pdf: 0\n",
      "Error processing file 754.pdf: 0\n"
     ]
    },
    {
     "name": "stderr",
     "output_type": "stream",
     "text": [
      "Loading data:  11%|█         | 115/1035 [00:00<00:04, 188.52it/s]"
     ]
    },
    {
     "name": "stdout",
     "output_type": "stream",
     "text": [
      "Error processing file 835.pdf: 0\n",
      "Error processing file 204.pdf: 0\n",
      "Error processing file 931.pdf: 0\n",
      "Error processing file 353.pdf: 0\n",
      "Error processing file 615.pdf: 0\n",
      "Error processing file 934.pdf: 0\n",
      "Error processing file 806.pdf: 0\n",
      "Error processing file 913.pdf: 0\n",
      "Error processing file 937.pdf: 0\n",
      "Error processing file 335.pdf: 0\n",
      "Error processing file 701.pdf: 0\n",
      "Error processing file 429.pdf: 0\n",
      "Error processing file 608.pdf: 0\n",
      "Error processing file 616.pdf: 0\n",
      "Error processing file 318.pdf: 0\n",
      "Error processing file 443.pdf: 0\n",
      "Error processing file 50.pdf: 0\n",
      "Error processing file 297.pdf: 0\n",
      "Error processing file 794.pdf: 0\n",
      "Error processing file 1021.pdf: 0\n",
      "Error processing file 887.pdf: 0\n",
      "Error processing file 522.pdf: 0\n",
      "Error processing file 545.pdf: 0\n",
      "Error processing file 745.pdf: 0\n",
      "Error processing file 61.pdf: 0\n",
      "Error processing file 298.pdf: 0\n",
      "Error processing file 819.pdf: 0\n",
      "Error processing file 212.pdf: 0\n",
      "Error processing file 362.pdf: 0\n",
      "Error processing file 836.pdf: 0\n",
      "Error processing file 565.pdf: 0\n",
      "Error processing file 51.pdf: 0\n",
      "Error processing file 513.pdf: 0\n",
      "Error processing file 371.pdf: 0\n",
      "Error processing file 605.pdf: 0\n",
      "Error processing file 738.pdf: 0\n",
      "Error processing file 969.pdf: 0\n",
      "Error processing file 721.pdf: 0\n",
      "Error processing file 540.pdf: 0\n",
      "Error processing file 702.pdf: 0\n",
      "Error processing file 718.pdf: 0\n"
     ]
    },
    {
     "name": "stderr",
     "output_type": "stream",
     "text": [
      "Loading data:  13%|█▎        | 135/1035 [00:00<00:05, 163.06it/s]"
     ]
    },
    {
     "name": "stdout",
     "output_type": "stream",
     "text": [
      "Error processing file 372.pdf: 0\n",
      "Error processing file 666.pdf: 0\n",
      "Error processing file 70.pdf: 0\n",
      "Error processing file 1020.pdf: 0\n",
      "Error processing file 295.pdf: 0\n",
      "Error processing file 19.pdf: 0\n",
      "Error processing file 289.pdf: 0\n",
      "Error processing file 817.pdf: 0\n",
      "Error processing file 345.pdf: 0\n",
      "Error processing file 243.pdf: 0\n",
      "Error processing file 712.pdf: 0\n",
      "Error processing file 397.pdf: 0\n",
      "Error processing file 785.pdf: 0\n",
      "Error processing file 23.pdf: 0\n",
      "Error processing file 500.pdf: 0\n",
      "Error processing file 549.pdf: 0\n",
      "Error processing file 803.pdf: 0\n",
      "Error processing file 141.pdf: 0\n",
      "Error processing file 841.pdf: 0\n",
      "Error processing file 214.pdf: 0\n",
      "Error processing file 649.pdf: 0\n",
      "Error processing file 670.pdf: 0\n",
      "Error processing file 988.pdf: 0\n",
      "Error processing file 786.pdf: 0\n",
      "Error processing file 525.pdf: 0\n",
      "Error processing file 684.pdf: 0\n"
     ]
    },
    {
     "name": "stderr",
     "output_type": "stream",
     "text": [
      "Loading data:  15%|█▍        | 153/1035 [00:00<00:05, 159.15it/s]"
     ]
    },
    {
     "name": "stdout",
     "output_type": "stream",
     "text": [
      "Error processing file 199.pdf: 0\n",
      "Error processing file 59.pdf: 0\n",
      "Error processing file 543.pdf: 0\n",
      "Error processing file 176.pdf: 0\n",
      "Error processing file 558.pdf: 0\n",
      "Error processing file 127.pdf: 0\n",
      "Error processing file 317.pdf: 0\n",
      "Error processing file 451.pdf: 0\n",
      "Error processing file 278.pdf: 0\n",
      "Error processing file 361.pdf: 0\n",
      "Error processing file 865.pdf: 0\n",
      "Error processing file 697.pdf: 0\n",
      "Error processing file 680.pdf: 0\n",
      "Error processing file 435.pdf: 0\n",
      "Error processing file 288.pdf: 0\n",
      "Error processing file 129.pdf: 0\n",
      "Error processing file 380.pdf: 0\n",
      "Error processing file 486.pdf: 0\n",
      "Error processing file 974.pdf: 0\n",
      "Error processing file 780.pdf: 0\n",
      "Error processing file 319.pdf: 0\n",
      "Error processing file 822.pdf: 0\n",
      "Error processing file 673.pdf: 0\n",
      "Error processing file 625.pdf: 0\n",
      "Error processing file 128.pdf: 0\n",
      "Error processing file 133.pdf: 0\n",
      "Error processing file 584.pdf: 0\n",
      "Error processing file 490.pdf: 0\n"
     ]
    },
    {
     "name": "stderr",
     "output_type": "stream",
     "text": [
      "Loading data:  18%|█▊        | 185/1035 [00:01<00:06, 131.28it/s]"
     ]
    },
    {
     "name": "stdout",
     "output_type": "stream",
     "text": [
      "Error processing file 783.pdf: 0\n",
      "Error processing file 235.pdf: 0\n",
      "Error processing file 351.pdf: 0\n",
      "Error processing file 650.pdf: 0\n",
      "Error processing file 493.pdf: 0\n",
      "Error processing file 716.pdf: 0\n",
      "Error processing file 582.pdf: 0\n",
      "Error processing file 774.pdf: 0\n",
      "Error processing file 155.pdf: 0\n",
      "Error processing file 1016.pdf: 0\n",
      "Error processing file 183.pdf: 0\n",
      "Error processing file 156.pdf: 0\n",
      "Error processing file 1000.pdf: 0\n",
      "Error processing file 648.pdf: 0\n",
      "Error processing file 450.pdf: 0\n",
      "Error processing file 104.pdf: 0\n",
      "Error processing file 844.pdf: 0\n",
      "Error processing file 395.pdf: 0\n"
     ]
    },
    {
     "name": "stderr",
     "output_type": "stream",
     "text": [
      "Loading data:  19%|█▉        | 199/1035 [00:01<00:07, 106.48it/s]"
     ]
    },
    {
     "name": "stdout",
     "output_type": "stream",
     "text": [
      "Error processing file 101.pdf: 0\n",
      "Error processing file 253.pdf: 0\n",
      "Error processing file 833.pdf: 0\n",
      "Error processing file 419.pdf: 0\n",
      "Error processing file 813.pdf: 0\n",
      "Error processing file 976.pdf: 0\n",
      "Error processing file 160.pdf: 0\n",
      "Error processing file 303.pdf: 0\n",
      "Error processing file 640.pdf: 0\n",
      "Error processing file 296.pdf: 0\n",
      "Error processing file 658.pdf: 0\n",
      "Error processing file 468.pdf: 0\n",
      "Error processing file 932.pdf: 0\n",
      "Error processing file 484.pdf: 0\n",
      "Error processing file 427.pdf: 0\n",
      "Error processing file 254.pdf: 0\n",
      "Error processing file 828.pdf: 0\n",
      "Error processing file 589.pdf: 0\n",
      "Error processing file 62.pdf: 0\n"
     ]
    },
    {
     "name": "stderr",
     "output_type": "stream",
     "text": [
      "Loading data:  20%|██        | 211/1035 [00:01<00:08, 93.18it/s] "
     ]
    },
    {
     "name": "stdout",
     "output_type": "stream",
     "text": [
      "Error processing file 671.pdf: 0\n",
      "Error processing file 618.pdf: 0\n",
      "Error processing file 707.pdf: 0\n",
      "Error processing file 178.pdf: 0\n",
      "Error processing file 17.pdf: 0\n",
      "Error processing file 1014.pdf: 0\n",
      "Error processing file 1027.pdf: 0\n",
      "Error processing file 130.pdf: 0\n",
      "Error processing file 642.pdf: 0\n",
      "Error processing file 986.pdf: 0\n"
     ]
    },
    {
     "name": "stderr",
     "output_type": "stream",
     "text": [
      "Loading data:  21%|██▏       | 222/1035 [00:01<00:09, 81.85it/s]"
     ]
    },
    {
     "name": "stdout",
     "output_type": "stream",
     "text": [
      "Error processing file 689.pdf: 0\n",
      "Error processing file 499.pdf: 0\n",
      "Error processing file 32.pdf: 0\n",
      "Error processing file 322.pdf: 0\n",
      "Error processing file 89.pdf: 0\n",
      "Error processing file 195.pdf: 0\n",
      "Error processing file 402.pdf: 0\n",
      "Error processing file 821.pdf: 0\n",
      "Error processing file 37.pdf: 0\n",
      "Error processing file 233.pdf: 0\n",
      "Error processing file 678.pdf: 0\n",
      "Error processing file 763.pdf: 0\n"
     ]
    },
    {
     "name": "stderr",
     "output_type": "stream",
     "text": [
      "Loading data:  23%|██▎       | 239/1035 [00:02<00:10, 75.17it/s]"
     ]
    },
    {
     "name": "stdout",
     "output_type": "stream",
     "text": [
      "Error processing file 591.pdf: 0\n",
      "Error processing file 346.pdf: 0\n",
      "Error processing file 777.pdf: 0\n",
      "Error processing file 856.pdf: 0\n",
      "Error processing file 516.pdf: 0\n",
      "Error processing file 157.pdf: 0\n",
      "Error processing file 249.pdf: 0\n",
      "Error processing file 945.pdf: 0\n",
      "Error processing file 216.pdf: 0\n",
      "Error processing file 350.pdf: 0\n",
      "Error processing file 227.pdf: 0\n",
      "Error processing file 914.pdf: 0\n",
      "Error processing file 170.pdf: 0\n",
      "Error processing file 921.pdf: 0\n",
      "Error processing file 1012.pdf: 0\n",
      "Error processing file 460.pdf: 0\n"
     ]
    },
    {
     "name": "stderr",
     "output_type": "stream",
     "text": [
      "Loading data:  25%|██▍       | 255/1035 [00:02<00:10, 72.07it/s]"
     ]
    },
    {
     "name": "stdout",
     "output_type": "stream",
     "text": [
      "Error processing file 511.pdf: 0\n",
      "Error processing file 514.pdf: 0\n",
      "Error processing file 418.pdf: 0\n",
      "Error processing file 682.pdf: 0\n",
      "Error processing file 1007.pdf: 0\n",
      "Error processing file 917.pdf: 0\n",
      "Error processing file 33.pdf: 0\n",
      "Error processing file 829.pdf: 0\n",
      "Error processing file 674.pdf: 0\n",
      "Error processing file 105.pdf: 0\n",
      "Error processing file 755.pdf: 0\n",
      "Error processing file 1018.pdf: 0\n",
      "Error processing file 855.pdf: 0\n",
      "Error processing file 895.pdf: 0\n",
      "Error processing file 261.pdf: 0\n",
      "Error processing file 723.pdf: 0\n",
      "Error processing file 1033.pdf: 0\n",
      "Error processing file 213.pdf: 0\n",
      "Error processing file 720.pdf: 0\n",
      "Error processing file 423.pdf: 0\n",
      "Error processing file 509.pdf: 0\n",
      "Error processing file 445.pdf: 0\n"
     ]
    },
    {
     "name": "stderr",
     "output_type": "stream",
     "text": [
      "Loading data:  27%|██▋       | 279/1035 [00:02<00:08, 90.01it/s]"
     ]
    },
    {
     "name": "stdout",
     "output_type": "stream",
     "text": [
      "Error processing file 188.pdf: 0\n",
      "Error processing file 576.pdf: 0\n",
      "Error processing file 2.pdf: 0\n",
      "Error processing file 626.pdf: 0\n",
      "Error processing file 518.pdf: 0\n",
      "Error processing file 248.pdf: 0\n",
      "Error processing file 687.pdf: 0\n",
      "Error processing file 891.pdf: 0\n",
      "Error processing file 621.pdf: 0\n",
      "Error processing file 864.pdf: 0\n",
      "Error processing file 946.pdf: 0\n",
      "Error processing file 332.pdf: 0\n",
      "Error processing file 10.pdf: 0\n",
      "Error processing file 476.pdf: 0\n",
      "Error processing file 31.pdf: 0\n",
      "Error processing file 283.pdf: 0\n",
      "Error processing file 975.pdf: 0\n",
      "Error processing file 426.pdf: 0\n"
     ]
    },
    {
     "name": "stderr",
     "output_type": "stream",
     "text": [
      "Loading data:  29%|██▉       | 305/1035 [00:02<00:07, 101.57it/s]"
     ]
    },
    {
     "name": "stdout",
     "output_type": "stream",
     "text": [
      "Error processing file 982.pdf: 0\n",
      "Error processing file 737.pdf: 0\n",
      "Error processing file 768.pdf: 0\n",
      "Error processing file 877.pdf: 0\n",
      "Error processing file 602.pdf: 0\n",
      "Error processing file 58.pdf: 0\n",
      "Error processing file 116.pdf: 0\n",
      "Error processing file 796.pdf: 0\n",
      "Error processing file 676.pdf: 0\n",
      "Error processing file 306.pdf: 0\n",
      "Error processing file 368.pdf: 0\n",
      "Error processing file 977.pdf: 0\n",
      "Error processing file 132.pdf: 0\n",
      "Error processing file 366.pdf: 0\n",
      "Error processing file 99.pdf: 0\n",
      "Error processing file 417.pdf: 0\n",
      "Error processing file 547.pdf: 0\n",
      "Error processing file 190.pdf: 0\n",
      "Error processing file 150.pdf: 0\n",
      "Error processing file 949.pdf: 0\n",
      "Error processing file 437.pdf: 0\n",
      "Error processing file 164.pdf: 0\n",
      "Error processing file 639.pdf: 0\n",
      "Error processing file 56.pdf: 0\n"
     ]
    },
    {
     "name": "stderr",
     "output_type": "stream",
     "text": [
      "Loading data:  32%|███▏      | 334/1035 [00:02<00:05, 118.05it/s]"
     ]
    },
    {
     "name": "stdout",
     "output_type": "stream",
     "text": [
      "Error processing file 349.pdf: 0\n",
      "Error processing file 690.pdf: 0\n",
      "Error processing file 820.pdf: 0\n",
      "Error processing file 765.pdf: 0\n",
      "Error processing file 147.pdf: 0\n",
      "Error processing file 1003.pdf: 0\n",
      "Error processing file 874.pdf: 0\n",
      "Error processing file 1023.pdf: 0\n",
      "Error processing file 764.pdf: 0\n",
      "Error processing file 534.pdf: 0\n",
      "Error processing file 987.pdf: 0\n",
      "Error processing file 710.pdf: 0\n",
      "Error processing file 845.pdf: 0\n",
      "Error processing file 507.pdf: 0\n",
      "Error processing file 901.pdf: 0\n",
      "Error processing file 359.pdf: 0\n",
      "Error processing file 643.pdf: 0\n",
      "Error processing file 505.pdf: 0\n",
      "Error processing file 263.pdf: 0\n",
      "Error processing file 656.pdf: 0\n",
      "Error processing file 885.pdf: 0\n",
      "Error processing file 968.pdf: 0\n",
      "Error processing file 421.pdf: 0\n",
      "Error processing file 776.pdf: 0\n",
      "Error processing file 244.pdf: 0\n",
      "Error processing file 843.pdf: 0\n",
      "Error processing file 896.pdf: 0\n",
      "Error processing file 293.pdf: 0\n",
      "Error processing file 624.pdf: 0\n"
     ]
    },
    {
     "name": "stderr",
     "output_type": "stream",
     "text": [
      "Loading data:  35%|███▌      | 363/1035 [00:03<00:05, 128.13it/s]"
     ]
    },
    {
     "name": "stdout",
     "output_type": "stream",
     "text": [
      "Error processing file 135.pdf: 0\n",
      "Error processing file 1006.pdf: 0\n",
      "Error processing file 262.pdf: 0\n",
      "Error processing file 831.pdf: 0\n",
      "Error processing file 897.pdf: 0\n",
      "Error processing file 329.pdf: 0\n",
      "Error processing file 749.pdf: 0\n",
      "Error processing file 733.pdf: 0\n",
      "Error processing file 222.pdf: 0\n",
      "Error processing file 652.pdf: 0\n",
      "Error processing file 815.pdf: 0\n",
      "Error processing file 175.pdf: 0\n",
      "Error processing file 215.pdf: 0\n",
      "Error processing file 1032.pdf: 0\n",
      "Error processing file 530.pdf: 0\n",
      "Error processing file 959.pdf: 0\n",
      "Error processing file 1001.pdf: 0\n",
      "Error processing file 218.pdf: 0\n",
      "Error processing file 221.pdf: 0\n",
      "Error processing file 570.pdf: 0\n",
      "Error processing file 457.pdf: 0\n",
      "Error processing file 878.pdf: 0\n",
      "Error processing file 804.pdf: 0\n",
      "Error processing file 731.pdf: 0\n",
      "Error processing file 669.pdf: 0\n",
      "Error processing file 910.pdf: 0\n"
     ]
    },
    {
     "name": "stderr",
     "output_type": "stream",
     "text": [
      "Loading data:  36%|███▋      | 377/1035 [00:03<00:05, 120.48it/s]"
     ]
    },
    {
     "name": "stdout",
     "output_type": "stream",
     "text": [
      "Error processing file 978.pdf: 0\n",
      "Error processing file 1002.pdf: 0\n",
      "Error processing file 872.pdf: 0\n",
      "Error processing file 100.pdf: 0\n",
      "Error processing file 257.pdf: 0\n",
      "Error processing file 594.pdf: 0\n",
      "Error processing file 713.pdf: 0\n",
      "Error processing file 778.pdf: 0\n",
      "Error processing file 390.pdf: 0\n",
      "Error processing file 1015.pdf: 0\n",
      "Error processing file 81.pdf: 0\n",
      "Error processing file 889.pdf: 0\n",
      "Error processing file 939.pdf: 0\n",
      "Error processing file 769.pdf: 0\n",
      "Error processing file 370.pdf: 0\n",
      "Error processing file 405.pdf: 0\n",
      "Error processing file 1026.pdf: 0\n",
      "Error processing file 729.pdf: 0\n",
      "Error processing file 904.pdf: 0\n",
      "Error processing file 110.pdf: 0\n",
      "Error processing file 40.pdf: 0\n",
      "Error processing file 166.pdf: 0\n"
     ]
    },
    {
     "name": "stderr",
     "output_type": "stream",
     "text": [
      "Loading data:  39%|███▉      | 402/1035 [00:03<00:05, 113.95it/s]"
     ]
    },
    {
     "name": "stdout",
     "output_type": "stream",
     "text": [
      "Error processing file 1029.pdf: 0\n",
      "Error processing file 750.pdf: 0\n",
      "Error processing file 995.pdf: 0\n",
      "Error processing file 563.pdf: 0\n",
      "Error processing file 890.pdf: 0\n",
      "Error processing file 77.pdf: 0\n",
      "Error processing file 533.pdf: 0\n",
      "Error processing file 161.pdf: 0\n",
      "Error processing file 403.pdf: 0\n",
      "Error processing file 757.pdf: 0\n",
      "Error processing file 92.pdf: 0\n",
      "Error processing file 365.pdf: 0\n",
      "Error processing file 182.pdf: 0\n",
      "Error processing file 1028.pdf: 0\n",
      "Error processing file 808.pdf: 0\n",
      "Error processing file 401.pdf: 0\n",
      "Error processing file 347.pdf: 0\n",
      "Error processing file 272.pdf: 0\n",
      "Error processing file 114.pdf: 0\n",
      "Error processing file 693.pdf: 0\n",
      "Error processing file 868.pdf: 0\n",
      "Error processing file 206.pdf: 0\n",
      "Error processing file 27.pdf: 0\n"
     ]
    },
    {
     "name": "stderr",
     "output_type": "stream",
     "text": [
      "Loading data:  41%|████▏     | 429/1035 [00:03<00:05, 114.59it/s]"
     ]
    },
    {
     "name": "stdout",
     "output_type": "stream",
     "text": [
      "Error processing file 963.pdf: 0\n",
      "Error processing file 6.pdf: 0\n",
      "Error processing file 892.pdf: 0\n",
      "Error processing file 80.pdf: 0\n",
      "Error processing file 1004.pdf: 0\n",
      "Error processing file 851.pdf: 0\n",
      "Error processing file 259.pdf: 0\n",
      "Error processing file 478.pdf: 0\n",
      "Error processing file 85.pdf: 0\n",
      "Error processing file 852.pdf: 0\n",
      "Error processing file 744.pdf: 0\n",
      "Error processing file 613.pdf: 0\n",
      "Error processing file 538.pdf: 0\n",
      "Error processing file 992.pdf: 0\n",
      "Error processing file 634.pdf: 0\n",
      "Error processing file 124.pdf: 0\n",
      "Error processing file 339.pdf: 0\n",
      "Error processing file 432.pdf: 0\n",
      "Error processing file 44.pdf: 0\n",
      "Error processing file 529.pdf: 0\n",
      "Error processing file 45.pdf: 0\n",
      "Error processing file 728.pdf: 0\n",
      "Error processing file 471.pdf: 0\n",
      "Error processing file 503.pdf: 0\n",
      "Error processing file 942.pdf: 0\n",
      "Error processing file 523.pdf: 0\n",
      "Error processing file 394.pdf: 0\n",
      "Error processing file 923.pdf: 0\n"
     ]
    },
    {
     "name": "stderr",
     "output_type": "stream",
     "text": [
      "Loading data:  43%|████▎     | 444/1035 [00:03<00:04, 122.56it/s]"
     ]
    },
    {
     "name": "stdout",
     "output_type": "stream",
     "text": [
      "Error processing file 972.pdf: 0\n",
      "Error processing file 664.pdf: 0\n",
      "Error processing file 207.pdf: 0\n",
      "Error processing file 463.pdf: 0\n",
      "Error processing file 900.pdf: 0\n",
      "Error processing file 610.pdf: 0\n",
      "Error processing file 520.pdf: 0\n",
      "Error processing file 118.pdf: 0\n",
      "Error processing file 730.pdf: 0\n",
      "Error processing file 57.pdf: 0\n",
      "Error processing file 662.pdf: 0\n",
      "Error processing file 173.pdf: 0\n",
      "Error processing file 854.pdf: 0\n",
      "Error processing file 72.pdf: 0\n",
      "Error processing file 201.pdf: 0\n",
      "Error processing file 623.pdf: 0\n",
      "Error processing file 461.pdf: 0\n",
      "Error processing file 456.pdf: 0\n",
      "Error processing file 555.pdf: 0\n",
      "Error processing file 343.pdf: 0\n"
     ]
    },
    {
     "name": "stderr",
     "output_type": "stream",
     "text": [
      "Loading data:  45%|████▌     | 469/1035 [00:04<00:05, 106.50it/s]"
     ]
    },
    {
     "name": "stdout",
     "output_type": "stream",
     "text": [
      "Error processing file 236.pdf: 0\n",
      "Error processing file 528.pdf: 0\n",
      "Error processing file 747.pdf: 0\n",
      "Error processing file 406.pdf: 0\n",
      "Error processing file 882.pdf: 0\n",
      "Error processing file 447.pdf: 0\n",
      "Error processing file 189.pdf: 0\n",
      "Error processing file 396.pdf: 0\n",
      "Error processing file 115.pdf: 0\n",
      "Error processing file 675.pdf: 0\n",
      "Error processing file 704.pdf: 0\n",
      "Error processing file 827.pdf: 0\n",
      "Error processing file 724.pdf: 0\n",
      "Error processing file 258.pdf: 0\n",
      "Error processing file 590.pdf: 0\n",
      "Error processing file 644.pdf: 0\n",
      "Error processing file 524.pdf: 0\n",
      "Error processing file 271.pdf: 0\n",
      "Error processing file 373.pdf: 0\n",
      "Error processing file 762.pdf: 0\n",
      "Error processing file 146.pdf: 0\n"
     ]
    },
    {
     "name": "stderr",
     "output_type": "stream",
     "text": [
      "Loading data:  48%|████▊     | 499/1035 [00:04<00:04, 112.41it/s]"
     ]
    },
    {
     "name": "stdout",
     "output_type": "stream",
     "text": [
      "Error processing file 964.pdf: 0\n",
      "Error processing file 174.pdf: 0\n",
      "Error processing file 535.pdf: 0\n",
      "Error processing file 557.pdf: 0\n",
      "Error processing file 517.pdf: 0\n",
      "Error processing file 876.pdf: 0\n",
      "Error processing file 20.pdf: 0\n",
      "Error processing file 1017.pdf: 0\n",
      "Error processing file 779.pdf: 0\n",
      "Error processing file 240.pdf: 0\n",
      "Error processing file 944.pdf: 0\n",
      "Error processing file 7.pdf: 0\n",
      "Error processing file 113.pdf: 0\n",
      "Error processing file 98.pdf: 0\n",
      "Error processing file 811.pdf: 0\n",
      "Error processing file 659.pdf: 0\n",
      "Error processing file 356.pdf: 0\n",
      "Error processing file 377.pdf: 0\n",
      "Error processing file 90.pdf: 0\n",
      "Error processing file 120.pdf: 0\n",
      "Error processing file 807.pdf: 0\n",
      "Error processing file 501.pdf: 0\n",
      "Error processing file 633.pdf: 0\n",
      "Error processing file 415.pdf: 0\n",
      "Error processing file 29.pdf: 0\n"
     ]
    },
    {
     "name": "stderr",
     "output_type": "stream",
     "text": [
      "Loading data:  49%|████▉     | 511/1035 [00:04<00:05, 102.94it/s]"
     ]
    },
    {
     "name": "stdout",
     "output_type": "stream",
     "text": [
      "Error processing file 748.pdf: 0\n",
      "Error processing file 554.pdf: 0\n",
      "Error processing file 612.pdf: 0\n",
      "Error processing file 18.pdf: 0\n",
      "Error processing file 326.pdf: 0\n",
      "Error processing file 810.pdf: 0\n",
      "Error processing file 466.pdf: 0\n",
      "Error processing file 994.pdf: 0\n",
      "Error processing file 12.pdf: 0\n",
      "Error processing file 893.pdf: 0\n",
      "Error processing file 137.pdf: 0\n",
      "Error processing file 331.pdf: 0\n",
      "Error processing file 651.pdf: 0\n",
      "Error processing file 109.pdf: 0\n",
      "Error processing file 884.pdf: 0\n",
      "Error processing file 967.pdf: 0\n",
      "Error processing file 531.pdf: 0\n",
      "Error processing file 198.pdf: 0\n",
      "Error processing file 638.pdf: 0\n"
     ]
    },
    {
     "name": "stderr",
     "output_type": "stream",
     "text": [
      "Loading data:  51%|█████▏    | 533/1035 [00:04<00:05, 93.89it/s] "
     ]
    },
    {
     "name": "stdout",
     "output_type": "stream",
     "text": [
      "Error processing file 580.pdf: 0\n",
      "Error processing file 761.pdf: 0\n",
      "Error processing file 327.pdf: 0\n",
      "Error processing file 82.pdf: 0\n",
      "Error processing file 389.pdf: 0\n",
      "Error processing file 83.pdf: 0\n",
      "Error processing file 441.pdf: 0\n",
      "Error processing file 502.pdf: 0\n",
      "Error processing file 916.pdf: 0\n",
      "Error processing file 251.pdf: 0\n",
      "Error processing file 980.pdf: 0\n",
      "Error processing file 342.pdf: 0\n",
      "Error processing file 727.pdf: 0\n",
      "Error processing file 661.pdf: 0\n",
      "Error processing file 265.pdf: 0\n",
      "Error processing file 379.pdf: 0\n",
      "Error processing file 809.pdf: 0\n",
      "Error processing file 908.pdf: 0\n"
     ]
    },
    {
     "name": "stderr",
     "output_type": "stream",
     "text": [
      "Loading data:  54%|█████▍    | 562/1035 [00:05<00:04, 105.86it/s]"
     ]
    },
    {
     "name": "stdout",
     "output_type": "stream",
     "text": [
      "Error processing file 53.pdf: 0\n",
      "Error processing file 860.pdf: 0\n",
      "Error processing file 154.pdf: 0\n",
      "Error processing file 1022.pdf: 0\n",
      "Error processing file 336.pdf: 0\n",
      "Error processing file 439.pdf: 0\n",
      "Error processing file 256.pdf: 0\n",
      "Error processing file 95.pdf: 0\n",
      "Error processing file 280.pdf: 0\n",
      "Error processing file 224.pdf: 0\n",
      "Error processing file 11.pdf: 0\n",
      "Error processing file 22.pdf: 0\n",
      "Error processing file 275.pdf: 0\n",
      "Error processing file 952.pdf: 0\n",
      "Error processing file 853.pdf: 0\n",
      "Error processing file 569.pdf: 0\n",
      "Error processing file 234.pdf: 0\n",
      "Error processing file 847.pdf: 0\n",
      "Error processing file 358.pdf: 0\n",
      "Error processing file 307.pdf: 0\n",
      "Error processing file 134.pdf: 0\n",
      "Error processing file 453.pdf: 0\n",
      "Error processing file 267.pdf: 0\n"
     ]
    },
    {
     "name": "stderr",
     "output_type": "stream",
     "text": [
      "Loading data:  57%|█████▋    | 588/1035 [00:05<00:04, 111.68it/s]"
     ]
    },
    {
     "name": "stdout",
     "output_type": "stream",
     "text": [
      "Error processing file 960.pdf: 0\n",
      "Error processing file 341.pdf: 0\n",
      "Error processing file 151.pdf: 0\n",
      "Error processing file 177.pdf: 0\n",
      "Error processing file 508.pdf: 0\n",
      "Error processing file 60.pdf: 0\n",
      "Error processing file 65.pdf: 0\n",
      "Error processing file 355.pdf: 0\n",
      "Error processing file 446.pdf: 0\n",
      "Error processing file 42.pdf: 0\n",
      "Error processing file 304.pdf: 0\n",
      "Error processing file 308.pdf: 0\n",
      "Error processing file 857.pdf: 0\n",
      "Error processing file 902.pdf: 0\n",
      "Error processing file 940.pdf: 0\n",
      "Error processing file 16.pdf: 0\n",
      "Error processing file 255.pdf: 0\n",
      "Error processing file 607.pdf: 0\n",
      "Error processing file 226.pdf: 0\n",
      "Error processing file 320.pdf: 0\n",
      "Error processing file 548.pdf: 0\n",
      "Error processing file 989.pdf: 0\n",
      "Error processing file 260.pdf: 0\n",
      "Error processing file 1013.pdf: 0\n",
      "Error processing file 404.pdf: 0\n",
      "Error processing file 990.pdf: 0\n"
     ]
    },
    {
     "name": "stderr",
     "output_type": "stream",
     "text": [
      "Loading data:  58%|█████▊    | 603/1035 [00:05<00:03, 113.38it/s]"
     ]
    },
    {
     "name": "stdout",
     "output_type": "stream",
     "text": [
      "Error processing file 636.pdf: 0\n",
      "Error processing file 103.pdf: 0\n",
      "Error processing file 348.pdf: 0\n",
      "Error processing file 407.pdf: 0\n",
      "Error processing file 515.pdf: 0\n",
      "Error processing file 956.pdf: 0\n",
      "Error processing file 247.pdf: 0\n",
      "Error processing file 705.pdf: 0\n",
      "Error processing file 696.pdf: 0\n",
      "Error processing file 1019.pdf: 0\n",
      "Error processing file 363.pdf: 0\n",
      "Error processing file 657.pdf: 0\n",
      "Error processing file 711.pdf: 0\n",
      "Error processing file 238.pdf: 0\n",
      "Error processing file 276.pdf: 0\n",
      "Error processing file 383.pdf: 0\n",
      "Error processing file 907.pdf: 0\n",
      "Error processing file 78.pdf: 0\n",
      "Error processing file 873.pdf: 0\n",
      "Error processing file 483.pdf: 0\n",
      "Error processing file 541.pdf: 0\n"
     ]
    },
    {
     "name": "stderr",
     "output_type": "stream",
     "text": [
      "Loading data:  59%|█████▉    | 615/1035 [00:05<00:04, 87.09it/s] "
     ]
    },
    {
     "name": "stdout",
     "output_type": "stream",
     "text": [
      "Error processing file 630.pdf: 0\n",
      "Error processing file 39.pdf: 0\n",
      "Error processing file 412.pdf: 0\n",
      "Error processing file 480.pdf: 0\n",
      "Error processing file 474.pdf: 0\n",
      "Error processing file 996.pdf: 0\n",
      "Error processing file 111.pdf: 0\n",
      "Error processing file 526.pdf: 0\n",
      "Error processing file 920.pdf: 0\n",
      "Error processing file 1030.pdf: 0\n",
      "Error processing file 999.pdf: 0\n",
      "Error processing file 698.pdf: 0\n",
      "Error processing file 264.pdf: 0\n"
     ]
    },
    {
     "name": "stderr",
     "output_type": "stream",
     "text": [
      "Loading data:  61%|██████▏   | 636/1035 [00:05<00:04, 92.25it/s]"
     ]
    },
    {
     "name": "stdout",
     "output_type": "stream",
     "text": [
      "Error processing file 812.pdf: 0\n",
      "Error processing file 455.pdf: 0\n",
      "Error processing file 614.pdf: 0\n",
      "Error processing file 420.pdf: 0\n",
      "Error processing file 962.pdf: 0\n",
      "Error processing file 191.pdf: 0\n",
      "Error processing file 15.pdf: 0\n",
      "Error processing file 219.pdf: 0\n",
      "Error processing file 186.pdf: 0\n",
      "Error processing file 571.pdf: 0\n",
      "Error processing file 816.pdf: 0\n",
      "Error processing file 617.pdf: 0\n",
      "Error processing file 498.pdf: 0\n",
      "Error processing file 28.pdf: 0\n",
      "Error processing file 309.pdf: 0\n",
      "Error processing file 163.pdf: 0\n",
      "Error processing file 512.pdf: 0\n",
      "Error processing file 314.pdf: 0\n",
      "Error processing file 879.pdf: 0\n",
      "Error processing file 425.pdf: 0\n",
      "Error processing file 422.pdf: 0\n",
      "Error processing file 138.pdf: 0\n",
      "Error processing file 126.pdf: 0\n",
      "Error processing file 667.pdf: 0\n",
      "Error processing file 936.pdf: 0\n",
      "Error processing file 660.pdf: 0\n",
      "Error processing file 586.pdf: 0\n",
      "Error processing file 179.pdf: 0\n",
      "Error processing file 504.pdf: 0\n"
     ]
    },
    {
     "name": "stderr",
     "output_type": "stream",
     "text": [
      "Loading data:  64%|██████▍   | 666/1035 [00:06<00:03, 112.96it/s]"
     ]
    },
    {
     "name": "stdout",
     "output_type": "stream",
     "text": [
      "Error processing file 172.pdf: 0\n",
      "Error processing file 795.pdf: 0\n",
      "Error processing file 36.pdf: 0\n",
      "Error processing file 300.pdf: 0\n",
      "Error processing file 568.pdf: 0\n",
      "Error processing file 229.pdf: 0\n",
      "Error processing file 725.pdf: 0\n",
      "Error processing file 599.pdf: 0\n",
      "Error processing file 880.pdf: 0\n",
      "Error processing file 96.pdf: 0\n",
      "Error processing file 881.pdf: 0\n",
      "Error processing file 495.pdf: 0\n",
      "Error processing file 581.pdf: 0\n",
      "Error processing file 593.pdf: 0\n",
      "Error processing file 250.pdf: 0\n",
      "Error processing file 241.pdf: 0\n",
      "Error processing file 312.pdf: 0\n",
      "Error processing file 719.pdf: 0\n",
      "Error processing file 598.pdf: 0\n",
      "Error processing file 772.pdf: 0\n",
      "Error processing file 869.pdf: 0\n",
      "Error processing file 993.pdf: 0\n",
      "Error processing file 440.pdf: 0\n",
      "Error processing file 552.pdf: 0\n",
      "Error processing file 131.pdf: 0\n"
     ]
    },
    {
     "name": "stderr",
     "output_type": "stream",
     "text": [
      "Loading data:  67%|██████▋   | 690/1035 [00:06<00:03, 99.27it/s] "
     ]
    },
    {
     "name": "stdout",
     "output_type": "stream",
     "text": [
      "Error processing file 635.pdf: 0\n",
      "Error processing file 692.pdf: 0\n",
      "Error processing file 604.pdf: 0\n",
      "Error processing file 387.pdf: 0\n",
      "Error processing file 592.pdf: 0\n",
      "Error processing file 197.pdf: 0\n",
      "Error processing file 556.pdf: 0\n",
      "Error processing file 767.pdf: 0\n",
      "Error processing file 706.pdf: 0\n",
      "Error processing file 679.pdf: 0\n",
      "Error processing file 55.pdf: 0\n",
      "Error processing file 34.pdf: 0\n",
      "Error processing file 66.pdf: 0\n",
      "Error processing file 180.pdf: 0\n",
      "Error processing file 481.pdf: 0\n",
      "Error processing file 165.pdf: 0\n",
      "Error processing file 84.pdf: 0\n"
     ]
    },
    {
     "name": "stderr",
     "output_type": "stream",
     "text": [
      "Loading data:  68%|██████▊   | 701/1035 [00:06<00:04, 83.49it/s]"
     ]
    },
    {
     "name": "stdout",
     "output_type": "stream",
     "text": [
      "Error processing file 448.pdf: 0\n",
      "Error processing file 637.pdf: 0\n",
      "Error processing file 905.pdf: 0\n",
      "Error processing file 239.pdf: 0\n",
      "Error processing file 620.pdf: 0\n",
      "Error processing file 915.pdf: 0\n",
      "Error processing file 102.pdf: 0\n",
      "Error processing file 875.pdf: 0\n",
      "Error processing file 888.pdf: 0\n",
      "Error processing file 578.pdf: 0\n",
      "Error processing file 632.pdf: 0\n",
      "Error processing file 997.pdf: 0\n"
     ]
    },
    {
     "name": "stderr",
     "output_type": "stream",
     "text": [
      "Loading data:  70%|██████▉   | 720/1035 [00:06<00:03, 86.75it/s]"
     ]
    },
    {
     "name": "stdout",
     "output_type": "stream",
     "text": [
      "Error processing file 211.pdf: 0\n",
      "Error processing file 546.pdf: 0\n",
      "Error processing file 1005.pdf: 0\n",
      "Error processing file 740.pdf: 0\n",
      "Error processing file 927.pdf: 0\n",
      "Error processing file 281.pdf: 0\n",
      "Error processing file 866.pdf: 0\n",
      "Error processing file 400.pdf: 0\n",
      "Error processing file 970.pdf: 0\n",
      "Error processing file 823.pdf: 0\n",
      "Error processing file 646.pdf: 0\n",
      "Error processing file 561.pdf: 0\n",
      "Error processing file 926.pdf: 0\n",
      "Error processing file 585.pdf: 0\n",
      "Error processing file 485.pdf: 0\n",
      "Error processing file 622.pdf: 0\n",
      "Error processing file 375.pdf: 0\n",
      "Error processing file 726.pdf: 0\n",
      "Error processing file 94.pdf: 0\n",
      "Error processing file 694.pdf: 0\n",
      "Error processing file 162.pdf: 0\n",
      "Error processing file 609.pdf: 0\n"
     ]
    },
    {
     "name": "stderr",
     "output_type": "stream",
     "text": [
      "Loading data:  71%|███████▏  | 740/1035 [00:06<00:03, 87.32it/s]"
     ]
    },
    {
     "name": "stdout",
     "output_type": "stream",
     "text": [
      "Error processing file 75.pdf: 0\n",
      "Error processing file 472.pdf: 0\n",
      "Error processing file 228.pdf: 0\n",
      "Error processing file 171.pdf: 0\n",
      "Error processing file 665.pdf: 0\n",
      "Error processing file 805.pdf: 0\n",
      "Error processing file 487.pdf: 0\n",
      "Error processing file 739.pdf: 0\n",
      "Error processing file 691.pdf: 0\n",
      "Error processing file 409.pdf: 0\n",
      "Error processing file 519.pdf: 0\n",
      "Error processing file 797.pdf: 0\n",
      "Error processing file 208.pdf: 0\n",
      "Error processing file 735.pdf: 0\n",
      "Error processing file 125.pdf: 0\n",
      "Error processing file 4.pdf: 0\n",
      "Error processing file 410.pdf: 0\n",
      "Error processing file 291.pdf: 0\n",
      "Error processing file 382.pdf: 0\n"
     ]
    },
    {
     "name": "stderr",
     "output_type": "stream",
     "text": [
      "Loading data:  73%|███████▎  | 758/1035 [00:07<00:03, 79.97it/s]"
     ]
    },
    {
     "name": "stdout",
     "output_type": "stream",
     "text": [
      "Error processing file 715.pdf: 0\n",
      "Error processing file 802.pdf: 0\n",
      "Error processing file 753.pdf: 0\n",
      "Error processing file 788.pdf: 0\n",
      "Error processing file 169.pdf: 0\n",
      "Error processing file 388.pdf: 0\n",
      "Error processing file 742.pdf: 0\n",
      "Error processing file 759.pdf: 0\n",
      "Error processing file 784.pdf: 0\n",
      "Error processing file 1034.pdf: 0\n",
      "Error processing file 454.pdf: 0\n",
      "Error processing file 760.pdf: 0\n",
      "Error processing file 703.pdf: 0\n",
      "Error processing file 386.pdf: 0\n"
     ]
    },
    {
     "name": "stderr",
     "output_type": "stream",
     "text": [
      "Loading data:  74%|███████▍  | 767/1035 [00:07<00:03, 72.52it/s]"
     ]
    },
    {
     "name": "stdout",
     "output_type": "stream",
     "text": [
      "Error processing file 789.pdf: 0\n",
      "Error processing file 562.pdf: 0\n",
      "Error processing file 357.pdf: 0\n",
      "Error processing file 663.pdf: 0\n",
      "Error processing file 564.pdf: 0\n",
      "Error processing file 985.pdf: 0\n",
      "Error processing file 1.pdf: 0\n",
      "Error processing file 414.pdf: 0\n",
      "Error processing file 537.pdf: 0\n",
      "Error processing file 717.pdf: 0\n"
     ]
    },
    {
     "name": "stderr",
     "output_type": "stream",
     "text": [
      "Loading data:  76%|███████▌  | 784/1035 [00:07<00:03, 76.15it/s]"
     ]
    },
    {
     "name": "stdout",
     "output_type": "stream",
     "text": [
      "Error processing file 274.pdf: 0\n",
      "Error processing file 489.pdf: 0\n",
      "Error processing file 112.pdf: 0\n",
      "Error processing file 266.pdf: 0\n",
      "Error processing file 688.pdf: 0\n",
      "Error processing file 87.pdf: 0\n",
      "Error processing file 911.pdf: 0\n",
      "Error processing file 149.pdf: 0\n",
      "Error processing file 71.pdf: 0\n",
      "Error processing file 302.pdf: 0\n",
      "Error processing file 641.pdf: 0\n",
      "Error processing file 840.pdf: 0\n",
      "Error processing file 600.pdf: 0\n",
      "Error processing file 470.pdf: 0\n",
      "Error processing file 168.pdf: 0\n",
      "Error processing file 603.pdf: 0\n",
      "Error processing file 850.pdf: 0\n",
      "Error processing file 611.pdf: 0\n",
      "Error processing file 210.pdf: 0\n",
      "Error processing file 76.pdf: 0\n",
      "Error processing file 63.pdf: 0\n"
     ]
    },
    {
     "name": "stderr",
     "output_type": "stream",
     "text": [
      "Loading data:  78%|███████▊  | 804/1035 [00:07<00:02, 86.92it/s]"
     ]
    },
    {
     "name": "stdout",
     "output_type": "stream",
     "text": [
      "Error processing file 203.pdf: 0\n",
      "Error processing file 521.pdf: 0\n",
      "Error processing file 321.pdf: 0\n",
      "Error processing file 91.pdf: 0\n",
      "Error processing file 294.pdf: 0\n",
      "Error processing file 681.pdf: 0\n",
      "Error processing file 316.pdf: 0\n",
      "Error processing file 282.pdf: 0\n",
      "Error processing file 68.pdf: 0\n",
      "Error processing file 187.pdf: 0\n",
      "Error processing file 459.pdf: 0\n",
      "Error processing file 1010.pdf: 0\n",
      "Error processing file 217.pdf: 0\n",
      "Error processing file 953.pdf: 0\n",
      "Error processing file 223.pdf: 0\n",
      "Error processing file 948.pdf: 0\n",
      "Error processing file 384.pdf: 0\n",
      "Error processing file 494.pdf: 0\n",
      "Error processing file 542.pdf: 0\n",
      "Error processing file 367.pdf: 0\n",
      "Error processing file 411.pdf: 0\n",
      "Error processing file 708.pdf: 0\n"
     ]
    },
    {
     "name": "stderr",
     "output_type": "stream",
     "text": [
      "Loading data:  80%|███████▉  | 824/1035 [00:08<00:02, 90.44it/s]"
     ]
    },
    {
     "name": "stdout",
     "output_type": "stream",
     "text": [
      "Error processing file 871.pdf: 0\n",
      "Error processing file 1011.pdf: 0\n",
      "Error processing file 364.pdf: 0\n",
      "Error processing file 479.pdf: 0\n",
      "Error processing file 269.pdf: 0\n",
      "Error processing file 601.pdf: 0\n",
      "Error processing file 544.pdf: 0\n",
      "Error processing file 376.pdf: 0\n",
      "Error processing file 14.pdf: 0\n",
      "Error processing file 9.pdf: 0\n",
      "Error processing file 919.pdf: 0\n",
      "Error processing file 958.pdf: 0\n",
      "Error processing file 567.pdf: 0\n",
      "Error processing file 433.pdf: 0\n",
      "Error processing file 699.pdf: 0\n",
      "Error processing file 668.pdf: 0\n",
      "Error processing file 352.pdf: 0\n",
      "Error processing file 825.pdf: 0\n",
      "Error processing file 539.pdf: 0\n"
     ]
    },
    {
     "name": "stderr",
     "output_type": "stream",
     "text": [
      "Loading data:  82%|████████▏ | 846/1035 [00:08<00:02, 92.34it/s]"
     ]
    },
    {
     "name": "stdout",
     "output_type": "stream",
     "text": [
      "Error processing file 225.pdf: 0\n",
      "Error processing file 392.pdf: 0\n",
      "Error processing file 492.pdf: 0\n",
      "Error processing file 647.pdf: 0\n",
      "Error processing file 287.pdf: 0\n",
      "Error processing file 798.pdf: 0\n",
      "Error processing file 938.pdf: 0\n",
      "Error processing file 193.pdf: 0\n",
      "Error processing file 700.pdf: 0\n",
      "Error processing file 1025.pdf: 0\n",
      "Error processing file 832.pdf: 0\n",
      "Error processing file 144.pdf: 0\n",
      "Error processing file 943.pdf: 0\n",
      "Error processing file 732.pdf: 0\n",
      "Error processing file 631.pdf: 0\n",
      "Error processing file 957.pdf: 0\n",
      "Error processing file 252.pdf: 0\n",
      "Error processing file 527.pdf: 0\n",
      "Error processing file 467.pdf: 0\n",
      "Error processing file 344.pdf: 0\n"
     ]
    },
    {
     "name": "stderr",
     "output_type": "stream",
     "text": [
      "Loading data:  84%|████████▍ | 869/1035 [00:08<00:01, 98.92it/s]"
     ]
    },
    {
     "name": "stdout",
     "output_type": "stream",
     "text": [
      "Error processing file 695.pdf: 0\n",
      "Error processing file 38.pdf: 0\n",
      "Error processing file 824.pdf: 0\n",
      "Error processing file 328.pdf: 0\n",
      "Error processing file 1009.pdf: 0\n",
      "Error processing file 299.pdf: 0\n",
      "Error processing file 482.pdf: 0\n",
      "Error processing file 858.pdf: 0\n",
      "Error processing file 119.pdf: 0\n",
      "Error processing file 46.pdf: 0\n",
      "Error processing file 246.pdf: 0\n",
      "Error processing file 279.pdf: 0\n",
      "Error processing file 13.pdf: 0\n",
      "Error processing file 983.pdf: 0\n",
      "Error processing file 434.pdf: 0\n",
      "Error processing file 465.pdf: 0\n",
      "Error processing file 74.pdf: 0\n",
      "Error processing file 136.pdf: 0\n",
      "Error processing file 277.pdf: 0\n",
      "Error processing file 324.pdf: 0\n",
      "Error processing file 122.pdf: 0\n",
      "Error processing file 158.pdf: 0\n",
      "Error processing file 898.pdf: 0\n"
     ]
    },
    {
     "name": "stderr",
     "output_type": "stream",
     "text": [
      "Loading data:  86%|████████▌ | 890/1035 [00:08<00:01, 97.05it/s]"
     ]
    },
    {
     "name": "stdout",
     "output_type": "stream",
     "text": [
      "Error processing file 323.pdf: 0\n",
      "Error processing file 966.pdf: 0\n",
      "Error processing file 973.pdf: 0\n",
      "Error processing file 849.pdf: 0\n",
      "Error processing file 334.pdf: 0\n",
      "Error processing file 200.pdf: 0\n",
      "Error processing file 848.pdf: 0\n",
      "Error processing file 998.pdf: 0\n",
      "Error processing file 560.pdf: 0\n",
      "Error processing file 790.pdf: 0\n",
      "Error processing file 1024.pdf: 0\n",
      "Error processing file 152.pdf: 0\n",
      "Error processing file 814.pdf: 0\n",
      "Error processing file 391.pdf: 0\n",
      "Error processing file 117.pdf: 0\n",
      "Error processing file 458.pdf: 0\n",
      "Error processing file 428.pdf: 0\n",
      "Error processing file 859.pdf: 0\n",
      "Error processing file 838.pdf: 0\n"
     ]
    },
    {
     "name": "stderr",
     "output_type": "stream",
     "text": [
      "Loading data:  88%|████████▊ | 912/1035 [00:08<00:01, 95.75it/s]"
     ]
    },
    {
     "name": "stdout",
     "output_type": "stream",
     "text": [
      "Error processing file 756.pdf: 0\n",
      "Error processing file 26.pdf: 0\n",
      "Error processing file 148.pdf: 0\n",
      "Error processing file 579.pdf: 0\n",
      "Error processing file 741.pdf: 0\n",
      "Error processing file 237.pdf: 0\n",
      "Error processing file 751.pdf: 0\n",
      "Error processing file 369.pdf: 0\n",
      "Error processing file 933.pdf: 0\n",
      "Error processing file 67.pdf: 0\n",
      "Error processing file 469.pdf: 0\n",
      "Error processing file 886.pdf: 0\n",
      "Error processing file 839.pdf: 0\n",
      "Error processing file 947.pdf: 0\n",
      "Error processing file 1031.pdf: 0\n",
      "Error processing file 292.pdf: 0\n",
      "Error processing file 21.pdf: 0\n",
      "Error processing file 444.pdf: 0\n",
      "Error processing file 746.pdf: 0\n"
     ]
    },
    {
     "name": "stderr",
     "output_type": "stream",
     "text": [
      "Loading data:  90%|█████████ | 932/1035 [00:09<00:01, 97.02it/s]"
     ]
    },
    {
     "name": "stdout",
     "output_type": "stream",
     "text": [
      "Error processing file 870.pdf: 0\n",
      "Error processing file 941.pdf: 0\n",
      "Error processing file 97.pdf: 0\n",
      "Error processing file 48.pdf: 0\n",
      "Error processing file 286.pdf: 0\n",
      "Error processing file 30.pdf: 0\n",
      "Error processing file 781.pdf: 0\n",
      "Error processing file 488.pdf: 0\n",
      "Error processing file 595.pdf: 0\n",
      "Error processing file 93.pdf: 0\n",
      "Error processing file 153.pdf: 0\n",
      "Error processing file 928.pdf: 0\n",
      "Error processing file 792.pdf: 0\n",
      "Error processing file 596.pdf: 0\n",
      "Error processing file 597.pdf: 0\n",
      "Error processing file 462.pdf: 0\n",
      "Error processing file 894.pdf: 0\n",
      "Error processing file 196.pdf: 0\n",
      "Error processing file 393.pdf: 0\n",
      "Error processing file 979.pdf: 0\n"
     ]
    },
    {
     "name": "stderr",
     "output_type": "stream",
     "text": [
      "Loading data:  92%|█████████▏| 957/1035 [00:09<00:00, 100.96it/s]"
     ]
    },
    {
     "name": "stdout",
     "output_type": "stream",
     "text": [
      "Error processing file 837.pdf: 0\n",
      "Error processing file 313.pdf: 0\n",
      "Error processing file 270.pdf: 0\n",
      "Error processing file 965.pdf: 0\n",
      "Error processing file 145.pdf: 0\n",
      "Error processing file 766.pdf: 0\n",
      "Error processing file 574.pdf: 0\n",
      "Error processing file 573.pdf: 0\n",
      "Error processing file 954.pdf: 0\n",
      "Error processing file 930.pdf: 0\n",
      "Error processing file 143.pdf: 0\n",
      "Error processing file 924.pdf: 0\n",
      "Error processing file 846.pdf: 0\n",
      "Error processing file 834.pdf: 0\n",
      "Error processing file 442.pdf: 0\n",
      "Error processing file 475.pdf: 0\n",
      "Error processing file 491.pdf: 0\n",
      "Error processing file 653.pdf: 0\n",
      "Error processing file 232.pdf: 0\n",
      "Error processing file 408.pdf: 0\n",
      "Error processing file 413.pdf: 0\n",
      "Error processing file 108.pdf: 0\n",
      "Error processing file 566.pdf: 0\n",
      "Error processing file 743.pdf: 0\n"
     ]
    },
    {
     "name": "stderr",
     "output_type": "stream",
     "text": [
      "Loading data:  94%|█████████▎| 969/1035 [00:09<00:00, 103.75it/s]"
     ]
    },
    {
     "name": "stdout",
     "output_type": "stream",
     "text": [
      "Error processing file 899.pdf: 0\n",
      "Error processing file 532.pdf: 0\n",
      "Error processing file 553.pdf: 0\n",
      "Error processing file 142.pdf: 0\n",
      "Error processing file 0.pdf: 0\n",
      "Error processing file 771.pdf: 0\n",
      "Error processing file 273.pdf: 0\n",
      "Error processing file 473.pdf: 0\n",
      "Error processing file 374.pdf: 0\n",
      "Error processing file 311.pdf: 0\n",
      "Error processing file 714.pdf: 0\n",
      "Error processing file 230.pdf: 0\n",
      "Error processing file 536.pdf: 0\n",
      "Error processing file 991.pdf: 0\n",
      "Error processing file 25.pdf: 0\n",
      "Error processing file 912.pdf: 0\n",
      "Error processing file 354.pdf: 0\n",
      "Error processing file 284.pdf: 0\n",
      "Error processing file 185.pdf: 0\n",
      "Error processing file 464.pdf: 0\n"
     ]
    },
    {
     "name": "stderr",
     "output_type": "stream",
     "text": [
      "Loading data:  95%|█████████▍| 980/1035 [00:09<00:00, 94.37it/s] "
     ]
    },
    {
     "name": "stdout",
     "output_type": "stream",
     "text": [
      "Error processing file 722.pdf: 0\n",
      "Error processing file 340.pdf: 0\n",
      "Error processing file 35.pdf: 0\n",
      "Error processing file 205.pdf: 0\n",
      "Error processing file 981.pdf: 0\n"
     ]
    },
    {
     "name": "stderr",
     "output_type": "stream",
     "text": [
      "Loading data:  96%|█████████▌| 990/1035 [00:09<00:00, 57.93it/s]"
     ]
    },
    {
     "name": "stdout",
     "output_type": "stream",
     "text": [
      "Error processing file 449.pdf: 0\n",
      "Error processing file 782.pdf: 0\n",
      "Error processing file 903.pdf: 0\n",
      "Error processing file 677.pdf: 0\n",
      "Error processing file 826.pdf: 0\n",
      "Error processing file 861.pdf: 0\n",
      "Error processing file 47.pdf: 0\n",
      "Error processing file 800.pdf: 0\n",
      "Error processing file 506.pdf: 0\n",
      "Error processing file 654.pdf: 0\n",
      "Error processing file 1008.pdf: 0\n",
      "Error processing file 686.pdf: 0\n",
      "Error processing file 734.pdf: 0\n"
     ]
    },
    {
     "name": "stderr",
     "output_type": "stream",
     "text": [
      "Loading data:  96%|█████████▋| 998/1035 [00:10<00:00, 39.40it/s]"
     ]
    },
    {
     "name": "stdout",
     "output_type": "stream",
     "text": [
      "Error processing file 867.pdf: 0\n",
      "Error processing file 69.pdf: 0\n",
      "Error processing file 54.pdf: 0\n",
      "Error processing file 181.pdf: 0\n",
      "Error processing file 510.pdf: 0\n"
     ]
    },
    {
     "name": "stderr",
     "output_type": "stream",
     "text": [
      "Loading data:  97%|█████████▋| 1004/1035 [00:10<00:00, 38.66it/s]"
     ]
    },
    {
     "name": "stdout",
     "output_type": "stream",
     "text": [
      "Error processing file 606.pdf: 0\n",
      "Error processing file 325.pdf: 0\n",
      "Error processing file 588.pdf: 0\n",
      "Error processing file 8.pdf: 0\n",
      "Error processing file 672.pdf: 0\n",
      "Error processing file 231.pdf: 0\n",
      "Error processing file 139.pdf: 0\n"
     ]
    },
    {
     "name": "stderr",
     "output_type": "stream",
     "text": [
      "Loading data:  98%|█████████▊| 1010/1035 [00:11<00:01, 21.33it/s]"
     ]
    },
    {
     "name": "stdout",
     "output_type": "stream",
     "text": [
      "Error processing file 430.pdf: 0\n",
      "Error processing file 863.pdf: 0\n",
      "Error processing file 424.pdf: 0\n",
      "Error processing file 929.pdf: 0\n"
     ]
    },
    {
     "name": "stderr",
     "output_type": "stream",
     "text": [
      "Loading data:  98%|█████████▊| 1014/1035 [00:11<00:01, 19.14it/s]"
     ]
    },
    {
     "name": "stdout",
     "output_type": "stream",
     "text": [
      "Error processing file 106.pdf: 0\n",
      "Error processing file 79.pdf: 0\n",
      "Error processing file 793.pdf: 0\n",
      "Error processing file 333.pdf: 0\n"
     ]
    },
    {
     "name": "stderr",
     "output_type": "stream",
     "text": [
      "Loading data:  98%|█████████▊| 1018/1035 [00:11<00:01, 16.48it/s]"
     ]
    },
    {
     "name": "stdout",
     "output_type": "stream",
     "text": [
      "Error processing file 88.pdf: 0\n",
      "Error processing file 398.pdf: 0\n",
      "Error processing file 268.pdf: 0\n"
     ]
    },
    {
     "name": "stderr",
     "output_type": "stream",
     "text": [
      "Loading data:  99%|█████████▊| 1021/1035 [00:12<00:01, 12.66it/s]"
     ]
    },
    {
     "name": "stdout",
     "output_type": "stream",
     "text": [
      "Error processing file 709.pdf: 0\n",
      "Error processing file 73.pdf: 0\n",
      "Error processing file 452.pdf: 0\n"
     ]
    },
    {
     "name": "stderr",
     "output_type": "stream",
     "text": [
      "Loading data:  99%|█████████▉| 1023/1035 [00:12<00:01,  9.38it/s]"
     ]
    },
    {
     "name": "stdout",
     "output_type": "stream",
     "text": [
      "Error processing file 438.pdf: 0\n",
      "Error processing file 315.pdf: 0\n"
     ]
    },
    {
     "name": "stderr",
     "output_type": "stream",
     "text": [
      "Loading data:  99%|█████████▉| 1025/1035 [00:13<00:01,  7.06it/s]"
     ]
    },
    {
     "name": "stdout",
     "output_type": "stream",
     "text": [
      "Error processing file 925.pdf: 0\n",
      "Error processing file 787.pdf: 0\n"
     ]
    },
    {
     "name": "stderr",
     "output_type": "stream",
     "text": [
      "Loading data:  99%|█████████▉| 1028/1035 [00:14<00:01,  6.23it/s]"
     ]
    },
    {
     "name": "stdout",
     "output_type": "stream",
     "text": [
      "Error processing file 159.pdf: 0\n",
      "Error processing file 301.pdf: 0\n",
      "Error processing file 86.pdf: 0\n"
     ]
    },
    {
     "name": "stderr",
     "output_type": "stream",
     "text": [
      "Loading data: 100%|█████████▉| 1030/1035 [00:15<00:01,  3.28it/s]"
     ]
    },
    {
     "name": "stdout",
     "output_type": "stream",
     "text": [
      "Error processing file 655.pdf: 0\n"
     ]
    },
    {
     "name": "stderr",
     "output_type": "stream",
     "text": [
      "Loading data: 100%|█████████▉| 1031/1035 [00:16<00:01,  2.74it/s]"
     ]
    },
    {
     "name": "stdout",
     "output_type": "stream",
     "text": [
      "Error processing file 107.pdf: 0\n"
     ]
    },
    {
     "name": "stderr",
     "output_type": "stream",
     "text": [
      "Loading data: 100%|█████████▉| 1032/1035 [00:17<00:01,  2.39it/s]"
     ]
    },
    {
     "name": "stdout",
     "output_type": "stream",
     "text": [
      "Error processing file 587.pdf: 0\n"
     ]
    },
    {
     "name": "stderr",
     "output_type": "stream",
     "text": [
      "Loading data: 100%|█████████▉| 1033/1035 [00:18<00:01,  1.41it/s]"
     ]
    },
    {
     "name": "stdout",
     "output_type": "stream",
     "text": [
      "Error processing file 752.pdf: 0\n"
     ]
    },
    {
     "name": "stderr",
     "output_type": "stream",
     "text": [
      "Loading data: 100%|█████████▉| 1034/1035 [00:19<00:00,  1.41it/s]"
     ]
    },
    {
     "name": "stdout",
     "output_type": "stream",
     "text": [
      "Error processing file 758.pdf: 0\n"
     ]
    },
    {
     "name": "stderr",
     "output_type": "stream",
     "text": [
      "Loading data: 100%|██████████| 1035/1035 [00:20<00:00, 51.27it/s]"
     ]
    },
    {
     "name": "stdout",
     "output_type": "stream",
     "text": [
      "Error processing file 242.pdf: 0\n"
     ]
    },
    {
     "name": "stderr",
     "output_type": "stream",
     "text": [
      "\n",
      "Loading data: 100%|██████████| 617/617 [00:00<00:00, 439369.37it/s]\n"
     ]
    }
   ],
   "source": [
    "bm25_insurance_corpus_df = load_data(model=None, \n",
    "                                         processor=None, \n",
    "                                         source_path=Config.insurance_path,\n",
    "                                         is_chunking=False,sheet=sheet)\n",
    "bm25_finance_corpus_df = load_data(model=None, \n",
    "                                         processor=None,\n",
    "                                         source_path=Config.finance_path, \n",
    "                                         is_chunking=False,sheet=sheet)\n",
    "bm25_faq_corpus_df = load_faq(Config.faq_path)\n",
    "\n",
    "vector_insurance_corpus_df = load_data(model=None, \n",
    "                                         processor=None, \n",
    "                                         source_path=Config.insurance_path,\n",
    "                                         is_chunking=True,sheet=sheet)\n",
    "vector_finance_corpus_df = load_data(model=None, \n",
    "                                         processor=None, \n",
    "                                         source_path=Config.finance_path,\n",
    "                                         is_chunking=True,sheet=sheet)\n",
    "vector_faq_corpus_df = load_faq(Config.faq_path)"
   ]
  },
  {
   "cell_type": "code",
   "execution_count": 23,
   "id": "4f5223f6a59d49a7",
   "metadata": {
    "ExecuteTime": {
     "end_time": "2024-11-07T17:38:58.273991Z",
     "start_time": "2024-11-07T17:38:58.138654Z"
    }
   },
   "outputs": [],
   "source": [
    "queries_info_df = get_queried_info(Config.formal_queries_info_path)\n",
    "insurance_queries_info_df = queries_info_df[queries_info_df['category'] == 'insurance']\n",
    "finance_queries_info_df = queries_info_df[queries_info_df['category'] == 'finance']\n",
    "faq_queries_info_df = queries_info_df[queries_info_df['category'] == 'faq']"
   ]
  },
  {
   "cell_type": "code",
   "execution_count": 24,
   "id": "dab9678e",
   "metadata": {},
   "outputs": [],
   "source": [
    "embedder = SentenceTransformer(\"intfloat/multilingual-e5-large\", cache_folder='/HDD/model_cache')"
   ]
  },
  {
   "cell_type": "code",
   "execution_count": 25,
   "id": "b08cca71",
   "metadata": {},
   "outputs": [
    {
     "name": "stderr",
     "output_type": "stream",
     "text": [
      "  0%|          | 0/300 [00:00<?, ?it/s]Building prefix dict from the default dictionary ...\n",
      "Loading model from cache /tmp/jieba.cache\n",
      "Loading model cost 0.523 seconds.\n",
      "Prefix dict has been built successfully.\n",
      "100%|██████████| 300/300 [00:16<00:00, 18.02it/s]\n",
      "100%|██████████| 300/300 [00:17<00:00, 16.68it/s]\n",
      "100%|██████████| 300/300 [00:01<00:00, 179.06it/s]\n",
      "100%|██████████| 300/300 [03:23<00:00,  1.47it/s]\n",
      "100%|██████████| 300/300 [04:59<00:00,  1.00it/s]\n",
      "100%|██████████| 300/300 [00:33<00:00,  8.96it/s]\n"
     ]
    }
   ],
   "source": [
    "insurance_bm25_retrieve = BM25Retrieve.retrieve(queries_info=insurance_queries_info_df, \n",
    "                                                corpus_df = bm25_insurance_corpus_df)\n",
    "finance_bm25_retrieve = BM25Retrieve.retrieve(queries_info=finance_queries_info_df, \n",
    "                                                corpus_df = bm25_finance_corpus_df)\n",
    "faq_bm25_retrieve = BM25Retrieve.retrieve(queries_info=faq_queries_info_df,\n",
    "                                                     corpus_df = bm25_faq_corpus_df)\n",
    "insurance_vector_retrieve = VectorRetriever.retrieve(embedder, queries_info=insurance_queries_info_df,\n",
    "                                                     corpus_df = vector_insurance_corpus_df)\n",
    "finance_vector_retrieve = VectorRetriever.retrieve(embedder, queries_info=finance_queries_info_df,\n",
    "                                                     corpus_df = vector_finance_corpus_df)\n",
    "faq_vector_retrieve = VectorRetriever.retrieve(embedder, queries_info=faq_queries_info_df,\n",
    "                                                     corpus_df = vector_faq_corpus_df)"
   ]
  },
  {
   "cell_type": "code",
   "execution_count": 26,
   "id": "ce3a866b",
   "metadata": {},
   "outputs": [],
   "source": [
    "insurance_hybrid_retrieve_pd = get_hybrid_retrieve_pd(bm25_retrieve_pd = insurance_bm25_retrieve, \n",
    "                                            vector_retrieve_pd = insurance_vector_retrieve,\n",
    "                                            bm25_weight=0,\n",
    "                                            vector_weight=1)\n",
    "finance_hybrid_retrieve_pd = get_hybrid_retrieve_pd(bm25_retrieve_pd = finance_bm25_retrieve, \n",
    "                                            vector_retrieve_pd = finance_vector_retrieve,\n",
    "                                            bm25_weight=0,\n",
    "                                            vector_weight=1)\n",
    "faq_hybrid_retrieve_pd = get_hybrid_retrieve_pd(bm25_retrieve_pd = faq_bm25_retrieve, \n",
    "                                            vector_retrieve_pd = faq_vector_retrieve,\n",
    "                                            bm25_weight=0,\n",
    "                                            vector_weight=1)\n",
    "\n",
    "insurance_hybrid_rrf_retrieve_pd = get_RRF_score(insurance_hybrid_retrieve_pd)\n",
    "finance_hybrid_rrf_retrieve_pd = get_RRF_score(finance_hybrid_retrieve_pd)\n",
    "faq_hybrid_rrf_retrieve_pd = get_RRF_score(faq_hybrid_retrieve_pd)"
   ]
  },
  {
   "cell_type": "code",
   "execution_count": null,
   "id": "797edd69",
   "metadata": {},
   "outputs": [],
   "source": [
    "from FlagEmbedding import FlagReranker\n",
    "from FlagEmbedding import LayerWiseFlagLLMReranker\n",
    "from FlagEmbedding import LightWeightFlagLLMReranker\n",
    "\n",
    "#BAAI/bge-reranker-v2-m3\n",
    "#BAAI/bge-reranker-large\n",
    "#BAAI/bge-reranker-v2-minicpm-layerwise\n",
    "reranker3 = FlagReranker(\n",
    "    'BAAI/bge-reranker-large', \n",
    "    query_max_length=256,\n",
    "    passage_max_length=512,\n",
    "    use_fp16=True,\n",
    "    devices=['cuda:1'],\n",
    "    cache_dir = '/HDD/model_cache/'\n",
    ")\n",
    "\n",
    "reranker2 = LayerWiseFlagLLMReranker(\n",
    "    'BAAI/bge-reranker-v2-minicpm-layerwise', \n",
    "    query_max_length=256,\n",
    "    passage_max_length=512,\n",
    "    use_fp16=True,\n",
    "    devices=['cuda:1'],\n",
    "    cache_dir = '/HDD/model_cache/'\n",
    ")\n",
    "\n",
    "reranker1 = LightWeightFlagLLMReranker(\n",
    "    'BAAI/bge-reranker-v2.5-gemma2-lightweight', \n",
    "    query_max_length=256,\n",
    "    passage_max_length=512,\n",
    "    use_fp16=True,\n",
    "    devices=['cuda:1'],\n",
    "    cache_dir = '/HDD/model_cache/'\n",
    ")\n"
   ]
  },
  {
   "cell_type": "code",
   "execution_count": 27,
   "id": "81741941",
   "metadata": {},
   "outputs": [
    {
     "ename": "NameError",
     "evalue": "name 'reranker1' is not defined",
     "output_type": "error",
     "traceback": [
      "\u001b[0;31m---------------------------------------------------------------------------\u001b[0m",
      "\u001b[0;31mNameError\u001b[0m                                 Traceback (most recent call last)",
      "Cell \u001b[0;32mIn[27], line 1\u001b[0m\n\u001b[0;32m----> 1\u001b[0m reranked_insurance_retrieve \u001b[38;5;241m=\u001b[39m apply_reranking(reranker\u001b[38;5;241m=\u001b[39m\u001b[43mreranker1\u001b[49m, hybrid_retrieve\u001b[38;5;241m=\u001b[39minsurance_hybrid_rrf_retrieve_pd)\n\u001b[1;32m      2\u001b[0m reranked_finance_retrieve \u001b[38;5;241m=\u001b[39m apply_reranking(reranker\u001b[38;5;241m=\u001b[39mreranker1, hybrid_retrieve\u001b[38;5;241m=\u001b[39mfinance_hybrid_rrf_retrieve_pd)\n\u001b[1;32m      3\u001b[0m reranked_faq_retrieve \u001b[38;5;241m=\u001b[39m apply_reranking(reranker\u001b[38;5;241m=\u001b[39mreranker1 , hybrid_retrieve\u001b[38;5;241m=\u001b[39mfaq_hybrid_rrf_retrieve_pd)\n",
      "\u001b[0;31mNameError\u001b[0m: name 'reranker1' is not defined"
     ]
    }
   ],
   "source": [
    "reranked_insurance_retrieve = apply_reranking(reranker=reranker1, hybrid_retrieve=insurance_hybrid_rrf_retrieve_pd)\n",
    "reranked_finance_retrieve = apply_reranking(reranker=reranker1, hybrid_retrieve=finance_hybrid_rrf_retrieve_pd)\n",
    "reranked_faq_retrieve = apply_reranking(reranker=reranker1 , hybrid_retrieve=faq_hybrid_rrf_retrieve_pd)"
   ]
  },
  {
   "cell_type": "code",
   "execution_count": null,
   "id": "931c6722",
   "metadata": {},
   "outputs": [],
   "source": [
    "#score_field = reranking_score, rrf_score ...\n",
    "insurance_top_1_retrieve_df = get_top_1_retrieve_pd(reranked_insurance_retrieve, score_field='reranking_score')\n",
    "finance_top_1_retrieve_df = get_top_1_retrieve_pd(reranked_finance_retrieve, score_field='reranking_score')\n",
    "faq_top_1_retrieve_df = get_top_1_retrieve_pd(reranked_faq_retrieve, score_field='reranking_score')"
   ]
  },
  {
   "cell_type": "code",
   "execution_count": null,
   "id": "3ca768d6",
   "metadata": {},
   "outputs": [],
   "source": [
    "generate_answer_json([insurance_top_1_retrieve_df, finance_top_1_retrieve_df, faq_top_1_retrieve_df])"
   ]
  },
  {
   "cell_type": "code",
   "execution_count": null,
   "id": "3422c71f",
   "metadata": {},
   "outputs": [],
   "source": []
  },
  {
   "cell_type": "code",
   "execution_count": null,
   "id": "78d7436f",
   "metadata": {},
   "outputs": [],
   "source": [
    "#result\n",
    "evaluation(Config.my_prediction_path, Config.truth_path)"
   ]
  },
  {
   "cell_type": "code",
   "execution_count": null,
   "id": "1ff81e0a",
   "metadata": {},
   "outputs": [],
   "source": [
    "#baseline\n",
    "evaluation(Config.prediction_path, Config.truth_path)"
   ]
  }
 ],
 "metadata": {
  "kernelspec": {
   "display_name": "AIS",
   "language": "python",
   "name": "python3"
  },
  "language_info": {
   "codemirror_mode": {
    "name": "ipython",
    "version": 3
   },
   "file_extension": ".py",
   "mimetype": "text/x-python",
   "name": "python",
   "nbconvert_exporter": "python",
   "pygments_lexer": "ipython3",
   "version": "3.10.14"
  }
 },
 "nbformat": 4,
 "nbformat_minor": 5
}
